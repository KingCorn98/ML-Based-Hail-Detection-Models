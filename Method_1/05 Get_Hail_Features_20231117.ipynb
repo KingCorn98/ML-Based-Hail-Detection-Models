{
 "cells": [
  {
   "cell_type": "markdown",
   "metadata": {
    "id": "DwB6dKMOKHpz"
   },
   "source": [
    "#Preliminaries"
   ]
  },
  {
   "cell_type": "code",
   "execution_count": null,
   "metadata": {
    "executionInfo": {
     "elapsed": 35946,
     "status": "ok",
     "timestamp": 1701009234277,
     "user": {
      "displayName": "Bobbie Cavna",
      "userId": "02710482313698222145"
     },
     "user_tz": 300
    },
    "id": "81HngNg1Mdk5"
   },
   "outputs": [],
   "source": [
    "#!apt-get install openjdk-8-jdk-headless -qq > /dev/null\n",
    "#!wget -q https://archive.apache.org/dist/spark/spark-3.2.0/spark-3.2.0-bin-hadoop3.2.tgz\n",
    "#!tar xf spark-3.2.0-bin-hadoop3.2.tgz\n",
    "#!pip install -q findspark"
   ]
  },
  {
   "cell_type": "code",
   "execution_count": null,
   "metadata": {},
   "outputs": [],
   "source": [
    "import warnings"
   ]
  },
  {
   "cell_type": "code",
   "execution_count": null,
   "metadata": {},
   "outputs": [],
   "source": [
    "warnings.filterwarnings('ignore')"
   ]
  },
  {
   "cell_type": "code",
   "execution_count": null,
   "metadata": {
    "executionInfo": {
     "elapsed": 16,
     "status": "ok",
     "timestamp": 1701009234277,
     "user": {
      "displayName": "Bobbie Cavna",
      "userId": "02710482313698222145"
     },
     "user_tz": 300
    },
    "id": "aQSLR6O71Wlq"
   },
   "outputs": [],
   "source": [
    "import os\n",
    "#os.environ[\"JAVA_HOME\"] = \"/usr/lib/jvm/java-8-openjdk-amd64\"\n",
    "#os.environ[\"SPARK_HOME\"] = \"spark-3.2.0-bin-hadoop3.2\""
   ]
  },
  {
   "cell_type": "code",
   "execution_count": null,
   "metadata": {
    "executionInfo": {
     "elapsed": 15,
     "status": "ok",
     "timestamp": 1701009234277,
     "user": {
      "displayName": "Bobbie Cavna",
      "userId": "02710482313698222145"
     },
     "user_tz": 300
    },
    "id": "Ttmgi0h2MgZo"
   },
   "outputs": [],
   "source": [
    "import findspark\n",
    "findspark.init()"
   ]
  },
  {
   "cell_type": "code",
   "execution_count": null,
   "metadata": {
    "colab": {
     "base_uri": "https://localhost:8080/",
     "height": 198
    },
    "executionInfo": {
     "elapsed": 16,
     "status": "ok",
     "timestamp": 1701009234278,
     "user": {
      "displayName": "Bobbie Cavna",
      "userId": "02710482313698222145"
     },
     "user_tz": 300
    },
    "id": "2CpmRgYxMg44",
    "outputId": "343145f0-fa6f-44d0-db6d-d2b91b94e581"
   },
   "outputs": [],
   "source": [
    "from pyspark.sql import SparkSession\n",
    "spark = SparkSession.builder.master(\"local[*]\").getOrCreate()\n",
    "sc = spark.sparkContext\n",
    "sc"
   ]
  },
  {
   "cell_type": "code",
   "execution_count": null,
   "metadata": {
    "executionInfo": {
     "elapsed": 14,
     "status": "ok",
     "timestamp": 1701009234278,
     "user": {
      "displayName": "Bobbie Cavna",
      "userId": "02710482313698222145"
     },
     "user_tz": 300
    },
    "id": "YMe_2Gx6llAr"
   },
   "outputs": [],
   "source": [
    "from pyspark.sql import Row\n",
    "from pyspark.sql.types import *\n",
    "import json\n",
    "from pyspark.sql.types import *\n",
    "from pyspark.sql.types import StructField, StructType, StringType, LongType, ArrayType, FloatType, IntegerType"
   ]
  },
  {
   "cell_type": "code",
   "execution_count": null,
   "metadata": {
    "executionInfo": {
     "elapsed": 12,
     "status": "ok",
     "timestamp": 1701009234278,
     "user": {
      "displayName": "Bobbie Cavna",
      "userId": "02710482313698222145"
     },
     "user_tz": 300
    },
    "id": "a-EehdnpKFTS"
   },
   "outputs": [],
   "source": [
    "import numpy as np\n",
    "np.set_printoptions(threshold=np.inf,linewidth=np.inf)\n",
    "import string\n",
    "import math\n",
    "import statistics\n",
    "import pandas as pd\n",
    "pd.set_option('display.max_colwidth', None)"
   ]
  },
  {
   "cell_type": "code",
   "execution_count": null,
   "metadata": {
    "executionInfo": {
     "elapsed": 12,
     "status": "ok",
     "timestamp": 1701009234278,
     "user": {
      "displayName": "Bobbie Cavna",
      "userId": "02710482313698222145"
     },
     "user_tz": 300
    },
    "id": "5rBfVny6Pmap"
   },
   "outputs": [],
   "source": [
    "#from metpy.calc import dewpoint_from_relative_humidity, saturation_mixing_ratio, relative_humidity_from_specific_humidity\n",
    "#from metpy.units import units"
   ]
  },
  {
   "cell_type": "markdown",
   "metadata": {
    "id": "s-8m_2zEKNfC"
   },
   "source": [
    "#Input Files"
   ]
  },
  {
   "cell_type": "code",
   "execution_count": null,
   "metadata": {
    "colab": {
     "base_uri": "https://localhost:8080/"
    },
    "executionInfo": {
     "elapsed": 1276,
     "status": "ok",
     "timestamp": 1701009235542,
     "user": {
      "displayName": "Bobbie Cavna",
      "userId": "02710482313698222145"
     },
     "user_tz": 300
    },
    "id": "xRxGfTYTJd97",
    "outputId": "12b3b909-190a-4d13-d77f-039f9fe8f91d"
   },
   "outputs": [],
   "source": [
    "#from google.colab import drive\n",
    "#drive.mount('/content/drive')"
   ]
  },
  {
   "cell_type": "code",
   "execution_count": null,
   "metadata": {},
   "outputs": [],
   "source": [
    "homedir =  '/home/bcavna/Documents'"
   ]
  },
  {
   "cell_type": "code",
   "execution_count": null,
   "metadata": {
    "executionInfo": {
     "elapsed": 4,
     "status": "ok",
     "timestamp": 1701009235542,
     "user": {
      "displayName": "Bobbie Cavna",
      "userId": "02710482313698222145"
     },
     "user_tz": 300
    },
    "id": "iBJdDcewJdRT"
   },
   "outputs": [],
   "source": [
    "m = 8\n",
    "year = 2015\n",
    "yearmo = year*100 + m"
   ]
  },
  {
   "cell_type": "code",
   "execution_count": null,
   "metadata": {
    "colab": {
     "base_uri": "https://localhost:8080/"
    },
    "executionInfo": {
     "elapsed": 4,
     "status": "ok",
     "timestamp": 1701009235542,
     "user": {
      "displayName": "Bobbie Cavna",
      "userId": "02710482313698222145"
     },
     "user_tz": 300
    },
    "id": "XD5RzBk2MwTi",
    "outputId": "f34ae88f-5248-4008-d35e-7284b25be4f0"
   },
   "outputs": [],
   "source": [
    "ERA5_path = homedir + '/ERA5/processed/smaller/ERA5_'+ str(yearmo) + '*'\n",
    "print(ERA5_path)"
   ]
  },
  {
   "cell_type": "code",
   "execution_count": null,
   "metadata": {
    "executionInfo": {
     "elapsed": 3,
     "status": "ok",
     "timestamp": 1701009235543,
     "user": {
      "displayName": "Bobbie Cavna",
      "userId": "02710482313698222145"
     },
     "user_tz": 300
    },
    "id": "G64ySWt1iX8_"
   },
   "outputs": [],
   "source": [
    "labels = homedir + '/ERA5/processed/processed_targets_20231118.csv'\n",
    "print(labels)"
   ]
  },
  {
   "cell_type": "code",
   "execution_count": null,
   "metadata": {
    "colab": {
     "base_uri": "https://localhost:8080/"
    },
    "executionInfo": {
     "elapsed": 738,
     "status": "ok",
     "timestamp": 1701009236278,
     "user": {
      "displayName": "Bobbie Cavna",
      "userId": "02710482313698222145"
     },
     "user_tz": 300
    },
    "id": "gJWeZkT-ynEY",
    "outputId": "cfa4acc1-3611-4abb-b400-4c4d8d75bda1"
   },
   "outputs": [],
   "source": [
    "wsPath = homedir + '/ERA5/processed/normvals/ws_facs.cvs'\n",
    "print(wsPath)"
   ]
  },
  {
   "cell_type": "code",
   "execution_count": null,
   "metadata": {
    "colab": {
     "base_uri": "https://localhost:8080/"
    },
    "executionInfo": {
     "elapsed": 11,
     "status": "ok",
     "timestamp": 1701009236278,
     "user": {
      "displayName": "Bobbie Cavna",
      "userId": "02710482313698222145"
     },
     "user_tz": 300
    },
    "id": "1RX_gTiC059Z",
    "outputId": "f2ab89b5-4bfc-4039-e356-30e63e24ecf7"
   },
   "outputs": [],
   "source": [
    "vvPath = homedir + '/ERA5/processed/normvals/vv_facs.cvs'\n",
    "print(vvPath)"
   ]
  },
  {
   "cell_type": "code",
   "execution_count": null,
   "metadata": {
    "colab": {
     "base_uri": "https://localhost:8080/"
    },
    "executionInfo": {
     "elapsed": 7,
     "status": "ok",
     "timestamp": 1701009236278,
     "user": {
      "displayName": "Bobbie Cavna",
      "userId": "02710482313698222145"
     },
     "user_tz": 300
    },
    "id": "Bt4QR0gV70ak",
    "outputId": "eb0ac90c-dfd3-4cb8-fb96-77e5714f1eb3"
   },
   "outputs": [],
   "source": [
    "final_output = homedir + '/ERA5/formatted/Model_Input_'+ str(yearmo) + '.csv'\n",
    "print(final_output)"
   ]
  },
  {
   "cell_type": "code",
   "execution_count": null,
   "metadata": {
    "colab": {
     "base_uri": "https://localhost:8080/"
    },
    "executionInfo": {
     "elapsed": 6,
     "status": "ok",
     "timestamp": 1701009236278,
     "user": {
      "displayName": "Bobbie Cavna",
      "userId": "02710482313698222145"
     },
     "user_tz": 300
    },
    "id": "6AKkDa1y6axJ",
    "outputId": "554f2905-506a-4c64-c2c0-c8b72f1132b1"
   },
   "outputs": [],
   "source": [
    "IN_Cells = homedir + '/ERA5/Hail_Model_Cells_20231126.csv'\n",
    "print(IN_Cells)"
   ]
  },
  {
   "cell_type": "code",
   "execution_count": null,
   "metadata": {
    "colab": {
     "base_uri": "https://localhost:8080/"
    },
    "executionInfo": {
     "elapsed": 5,
     "status": "ok",
     "timestamp": 1701009236279,
     "user": {
      "displayName": "Bobbie Cavna",
      "userId": "02710482313698222145"
     },
     "user_tz": 300
    },
    "id": "tCYv2RSF8Jz_",
    "outputId": "92c5ea6d-3aef-4dbc-918c-8c87f07db69f"
   },
   "outputs": [],
   "source": [
    "InCellsDF = spark.read.csv(IN_Cells, header=\"true\")\n",
    "InCellsDF.createOrReplaceTempView(\"INCELLS\")\n",
    "#InCellsDF.show(5)"
   ]
  },
  {
   "cell_type": "code",
   "execution_count": null,
   "metadata": {
    "executionInfo": {
     "elapsed": 10332,
     "status": "ok",
     "timestamp": 1701009246607,
     "user": {
      "displayName": "Bobbie Cavna",
      "userId": "02710482313698222145"
     },
     "user_tz": 300
    },
    "id": "D2CNFTLSM4Rv"
   },
   "outputs": [],
   "source": [
    "rawdataDF = spark.read.csv(ERA5_path, header=\"true\")\n",
    "rawdataDF.createOrReplaceTempView(\"processed\")"
   ]
  },
  {
   "cell_type": "code",
   "execution_count": null,
   "metadata": {
    "colab": {
     "base_uri": "https://localhost:8080/"
    },
    "executionInfo": {
     "elapsed": 281,
     "status": "ok",
     "timestamp": 1701009246879,
     "user": {
      "displayName": "Bobbie Cavna",
      "userId": "02710482313698222145"
     },
     "user_tz": 300
    },
    "id": "nywalNRlNEFf",
    "outputId": "b1d2cac8-e41b-44bb-e818-e6bd50a670f5"
   },
   "outputs": [],
   "source": [
    "filteredDF = spark.sql(\"SELECT a.* FROM processed a JOIN INCELLS b ON a.cell_id = b.cell_id\")\n",
    "filteredDF.createOrReplaceTempView(\"filtered\")\n",
    "#filteredDF.show(4)"
   ]
  },
  {
   "cell_type": "code",
   "execution_count": null,
   "metadata": {
    "colab": {
     "base_uri": "https://localhost:8080/"
    },
    "executionInfo": {
     "elapsed": 521927,
     "status": "ok",
     "timestamp": 1701009768802,
     "user": {
      "displayName": "Bobbie Cavna",
      "userId": "02710482313698222145"
     },
     "user_tz": 300
    },
    "id": "KM2pq1FD8yJY",
    "outputId": "200b3f01-daf6-460a-cdde-074f7daba8ba"
   },
   "outputs": [],
   "source": [
    "#checkCellsDF = spark.sql(\"SELECT COUNT(DISTINCT cell_id) AS cell_count FROM filtered \")\n",
    "#checkCellsDF.show(4)"
   ]
  },
  {
   "cell_type": "code",
   "execution_count": null,
   "metadata": {
    "colab": {
     "base_uri": "https://localhost:8080/"
    },
    "executionInfo": {
     "elapsed": 4,
     "status": "ok",
     "timestamp": 1701009768802,
     "user": {
      "displayName": "Bobbie Cavna",
      "userId": "02710482313698222145"
     },
     "user_tz": 300
    },
    "id": "nNka_L4c1lzM",
    "outputId": "8aad500d-09b3-4efe-b055-4f0f2badcdb1"
   },
   "outputs": [],
   "source": [
    "wsFacDF = spark.read.csv(wsPath, header=\"true\")\n",
    "wsFacDF.createOrReplaceTempView(\"wsFacs\")\n",
    "#wsFacDF.show(3)"
   ]
  },
  {
   "cell_type": "code",
   "execution_count": null,
   "metadata": {
    "colab": {
     "base_uri": "https://localhost:8080/"
    },
    "executionInfo": {
     "elapsed": 266,
     "status": "ok",
     "timestamp": 1701009769066,
     "user": {
      "displayName": "Bobbie Cavna",
      "userId": "02710482313698222145"
     },
     "user_tz": 300
    },
    "id": "BX4WKUIa2Dd7",
    "outputId": "feefd870-77c1-4632-c39c-6caa27b7fdcc"
   },
   "outputs": [],
   "source": [
    "vvFacDF = spark.read.csv(vvPath, header=\"true\")\n",
    "vvFacDF.createOrReplaceTempView(\"vvFacs\")\n",
    "#vvFacDF.show(3)"
   ]
  },
  {
   "cell_type": "code",
   "execution_count": null,
   "metadata": {
    "executionInfo": {
     "elapsed": 528,
     "status": "ok",
     "timestamp": 1701009769592,
     "user": {
      "displayName": "Bobbie Cavna",
      "userId": "02710482313698222145"
     },
     "user_tz": 300
    },
    "id": "-rkMszYX2oJR"
   },
   "outputs": [],
   "source": [
    "vvMean = vvFacDF.rdd.map(lambda x: float(x[1])).collect()"
   ]
  },
  {
   "cell_type": "code",
   "execution_count": null,
   "metadata": {
    "executionInfo": {
     "elapsed": 8,
     "status": "ok",
     "timestamp": 1701009769592,
     "user": {
      "displayName": "Bobbie Cavna",
      "userId": "02710482313698222145"
     },
     "user_tz": 300
    },
    "id": "If44OCSj3Jia"
   },
   "outputs": [],
   "source": [
    "vvStdv = vvFacDF.rdd.map(lambda x: float(x[2])).collect()"
   ]
  },
  {
   "cell_type": "code",
   "execution_count": null,
   "metadata": {
    "colab": {
     "base_uri": "https://localhost:8080/"
    },
    "executionInfo": {
     "elapsed": 7,
     "status": "ok",
     "timestamp": 1701009769592,
     "user": {
      "displayName": "Bobbie Cavna",
      "userId": "02710482313698222145"
     },
     "user_tz": 300
    },
    "id": "V2-flwTv20JE",
    "outputId": "fad062a2-656f-4829-f281-d4d93e82db26"
   },
   "outputs": [],
   "source": [
    "#print(vvMean)\n",
    "#print(vvStdv)"
   ]
  },
  {
   "cell_type": "code",
   "execution_count": null,
   "metadata": {
    "executionInfo": {
     "elapsed": 6,
     "status": "ok",
     "timestamp": 1701009769592,
     "user": {
      "displayName": "Bobbie Cavna",
      "userId": "02710482313698222145"
     },
     "user_tz": 300
    },
    "id": "pdQ0e1edK1Yr"
   },
   "outputs": [],
   "source": [
    "def normalize(x,mean,std):\n",
    "  return (float(x)-mean)/std"
   ]
  },
  {
   "cell_type": "markdown",
   "metadata": {
    "id": "6bZoZjud2y3u"
   },
   "source": [
    "#Add calculated weather metrics, normalization, and labels to features\n",
    "\n",
    "Dew point calc based on examples from: https://gist.github.com/sourceperl/45587ea99ff123745428\n",
    "\n",
    "(replace with ERA5 RH Later)"
   ]
  },
  {
   "cell_type": "code",
   "execution_count": null,
   "metadata": {
    "executionInfo": {
     "elapsed": 7,
     "status": "ok",
     "timestamp": 1701009769593,
     "user": {
      "displayName": "Bobbie Cavna",
      "userId": "02710482313698222145"
     },
     "user_tz": 300
    },
    "id": "nCmpcaEwJ8L3"
   },
   "outputs": [],
   "source": [
    "def get_dew_point_c(t_air_c, rel_humidity):\n",
    "  try:\n",
    "    \"\"\"Compute the dew point in degrees Celsius\n",
    "    :param t_air_c: current ambient temperature in degrees Celsius\n",
    "    :type t_air_c: float\n",
    "    :param rel_humidity: relative humidity in %\n",
    "    :type rel_humidity: float\n",
    "    :return: the dew point in degrees Celsius\n",
    "    :rtype: float\n",
    "    \"\"\"\n",
    "    A = 17.27\n",
    "    B = 237.7\n",
    "    alpha = ((A * t_air_c) / (B + t_air_c)) + math.log(rel_humidity)\n",
    "    return (B * alpha) / (A - alpha)\n",
    "  except:\n",
    "    return t_air_c - 10"
   ]
  },
  {
   "cell_type": "code",
   "execution_count": null,
   "metadata": {
    "executionInfo": {
     "elapsed": 6,
     "status": "ok",
     "timestamp": 1701009769593,
     "user": {
      "displayName": "Bobbie Cavna",
      "userId": "02710482313698222145"
     },
     "user_tz": 300
    },
    "id": "SAGjj3MFg-mt"
   },
   "outputs": [],
   "source": [
    "#dew point example\n",
    "#get_dew_point_c(-12.901999999999987,56.984917/100)"
   ]
  },
  {
   "cell_type": "code",
   "execution_count": null,
   "metadata": {
    "colab": {
     "base_uri": "https://localhost:8080/"
    },
    "executionInfo": {
     "elapsed": 6,
     "status": "ok",
     "timestamp": 1701009769593,
     "user": {
      "displayName": "Bobbie Cavna",
      "userId": "02710482313698222145"
     },
     "user_tz": 300
    },
    "id": "qUvC0By5jXfL",
    "outputId": "098b9057-e1f7-4297-cacf-712974e02f98"
   },
   "outputs": [],
   "source": [
    "labelsDF = spark.read.csv(labels, header=\"true\")\n",
    "labelsDF.createOrReplaceTempView(\"labels\")\n",
    "#labelsDF.show(10)"
   ]
  },
  {
   "cell_type": "code",
   "execution_count": null,
   "metadata": {
    "colab": {
     "base_uri": "https://localhost:8080/"
    },
    "executionInfo": {
     "elapsed": 619,
     "status": "ok",
     "timestamp": 1701009770208,
     "user": {
      "displayName": "Bobbie Cavna",
      "userId": "02710482313698222145"
     },
     "user_tz": 300
    },
    "id": "0XvqvXySz5_i",
    "outputId": "8a3ba491-4a24-4c4b-b5d8-6d32e473456a"
   },
   "outputs": [],
   "source": [
    "calcInputDF = spark.sql(\"SELECT a._c0, a.YEAR, a.MONTH, a.DAY,  a.cell_id, CASE WHEN b.cell IS NULL THEN 0 ELSE 1 END AS TARGET, a.level, a.HOUR, a.t, CASE WHEN a.q IS NULL THEN 0 ELSE float(a.q) END as q, u, v, w, r FROM filtered a LEFT JOIN labels b ON a.cell_id = b.cell AND a.YEAR = b.YEAR AND a.MONTH = b.MONTH AND a.DAY = b.DAY WHERE level*1 >= 200 \")\n",
    "#calcInputDF.take(2)"
   ]
  },
  {
   "cell_type": "code",
   "execution_count": null,
   "metadata": {
    "colab": {
     "base_uri": "https://localhost:8080/"
    },
    "executionInfo": {
     "elapsed": 343,
     "status": "ok",
     "timestamp": 1701009770549,
     "user": {
      "displayName": "Bobbie Cavna",
      "userId": "02710482313698222145"
     },
     "user_tz": 300
    },
    "id": "jDoEE82fz-4b",
    "outputId": "3ad67a07-65e4-4966-9bce-ccda5e6143a9"
   },
   "outputs": [],
   "source": [
    "calcInputR = calcInputDF.rdd.map(lambda x: [int(x[1])*10000+int(x[2])*100+int(x[3]),int(x[4]),int(x[5]),int(x[6]),int(x[7]),round((float(x[8])-273.15)/100,2),round(get_dew_point_c(float(x[8])-273.15,float(x[13])/100)/100,2),round(np.linalg.norm([float(x[10]),float(x[11])]),0),round((180 + (np.rad2deg(np.arctan2(float(x[11]), float(x[10])))))/360,2),round((float(x[12])-vvMean[0])/vvStdv[0],2)])\n",
    "#calcInputR.take(5)"
   ]
  },
  {
   "cell_type": "code",
   "execution_count": null,
   "metadata": {
    "executionInfo": {
     "elapsed": 4,
     "status": "ok",
     "timestamp": 1701009770549,
     "user": {
      "displayName": "Bobbie Cavna",
      "userId": "02710482313698222145"
     },
     "user_tz": 300
    },
    "id": "zKkDIc2jzXCa"
   },
   "outputs": [],
   "source": [
    "#test metpy function for relative humidity\n",
    "#relative_humidity_from_specific_humidity(1013.25 * units.hPa, 30 * units.degC, 18/1000).to('percent')"
   ]
  },
  {
   "cell_type": "markdown",
   "metadata": {
    "id": "j50XvivC0AL0"
   },
   "source": [
    "Format the values above and add them into the raw data"
   ]
  },
  {
   "cell_type": "code",
   "execution_count": null,
   "metadata": {
    "colab": {
     "base_uri": "https://localhost:8080/"
    },
    "executionInfo": {
     "elapsed": 4,
     "status": "ok",
     "timestamp": 1701009770549,
     "user": {
      "displayName": "Bobbie Cavna",
      "userId": "02710482313698222145"
     },
     "user_tz": 300
    },
    "id": "3ul9TtW2j9YP",
    "outputId": "878c7715-4284-4780-b325-c06f3e2dac3d"
   },
   "outputs": [],
   "source": [
    "calcsR = calcInputR.map(lambda x: [x[0],x[1],x[2],x[3],x[4],float(x[5]),float(round(x[5]-x[6],2)),float(x[7]),float(x[8]),float(x[9])])\n",
    "labeledR = calcsR.map(lambda p: Row(date=p[0],cell=p[1],label=p[2],hour=p[4],level=p[3],t=p[5],tvdp=p[6],ws=p[7],wd=p[8],vv=p[9]))\n",
    "#labeledR.take(5)"
   ]
  },
  {
   "cell_type": "code",
   "execution_count": null,
   "metadata": {
    "colab": {
     "base_uri": "https://localhost:8080/"
    },
    "executionInfo": {
     "elapsed": 362,
     "status": "ok",
     "timestamp": 1701009770909,
     "user": {
      "displayName": "Bobbie Cavna",
      "userId": "02710482313698222145"
     },
     "user_tz": 300
    },
    "id": "fE1y6blVkS-N",
    "outputId": "a0107625-65de-4ffc-b3c9-07e03d56eb58"
   },
   "outputs": [],
   "source": [
    "calcsDF = spark.createDataFrame(labeledR)\n",
    "calcsDF.createOrReplaceTempView(\"keyfeatures\")\n",
    "#calcsDF.show(3,truncate=False)"
   ]
  },
  {
   "cell_type": "code",
   "execution_count": null,
   "metadata": {
    "executionInfo": {
     "elapsed": 2,
     "status": "ok",
     "timestamp": 1701009770909,
     "user": {
      "displayName": "Bobbie Cavna",
      "userId": "02710482313698222145"
     },
     "user_tz": 300
    },
    "id": "4_v2oZ5YnR5H"
   },
   "outputs": [],
   "source": [
    "#check the wind direction (using a percentage of 360 degree rotation here to match units with other percentiles)\n",
    "#wdDF = spark.sql(\"SELECT DISTINCT wd FROM keyfeatures ORDER BY 1\")\n",
    "#wdDF.show(500)"
   ]
  },
  {
   "cell_type": "markdown",
   "metadata": {
    "id": "Mt7vloNVlpL6"
   },
   "source": [
    "Bring in normalization factors for wind speed"
   ]
  },
  {
   "cell_type": "code",
   "execution_count": null,
   "metadata": {
    "colab": {
     "base_uri": "https://localhost:8080/"
    },
    "executionInfo": {
     "elapsed": 573,
     "status": "ok",
     "timestamp": 1701009771480,
     "user": {
      "displayName": "Bobbie Cavna",
      "userId": "02710482313698222145"
     },
     "user_tz": 300
    },
    "id": "0Ywp4Bxylw_P",
    "outputId": "53afeb85-cf20-4fa9-9326-d87c69c5c684"
   },
   "outputs": [],
   "source": [
    "featuresDF = spark.sql(\"SELECT a.date, a.cell, a.label, a.hour, a.level, a.t, a.tvdp, CASE WHEN b.cdf IS NOT NULL THEN b.cdf ELSE '0' END AS wsn, a.wd, a.vv AS vvn FROM keyfeatures a LEFT JOIN wsFacs b ON a.ws = b.ws\")\n",
    "featuresDF.createOrReplaceTempView(\"features\")\n",
    "#featuresDF.show(23)"
   ]
  },
  {
   "cell_type": "markdown",
   "metadata": {
    "id": "552oY3b6wJNu"
   },
   "source": [
    "Group features into lists (leave wind direction out for now)"
   ]
  },
  {
   "cell_type": "code",
   "execution_count": null,
   "metadata": {
    "colab": {
     "base_uri": "https://localhost:8080/"
    },
    "executionInfo": {
     "elapsed": 1052,
     "status": "ok",
     "timestamp": 1701009772530,
     "user": {
      "displayName": "Bobbie Cavna",
      "userId": "02710482313698222145"
     },
     "user_tz": 300
    },
    "id": "a5eJucenwDVA",
    "outputId": "8ca2f20a-f72b-4650-bb89-8206b3e2339e"
   },
   "outputs": [],
   "source": [
    "featuresR = featuresDF.rdd.map(lambda x: [x[0],x[1],x[2],x[3],x[4],[x[5],x[6],float(x[7]),x[9]]])\n",
    "relabeledR = featuresR.map(lambda p: Row(date=p[0],cell=p[1],label=p[2],hour=p[3],level=p[4],features=p[5]))\n",
    "#relabeledR.take(5)"
   ]
  },
  {
   "cell_type": "code",
   "execution_count": null,
   "metadata": {
    "colab": {
     "base_uri": "https://localhost:8080/"
    },
    "executionInfo": {
     "elapsed": 654,
     "status": "ok",
     "timestamp": 1701009773181,
     "user": {
      "displayName": "Bobbie Cavna",
      "userId": "02710482313698222145"
     },
     "user_tz": 300
    },
    "id": "yk3Y9LqY--iR",
    "outputId": "b0b94661-219c-4c5d-9467-52b086e6951d"
   },
   "outputs": [],
   "source": [
    "finalfeatDF = spark.createDataFrame(relabeledR)\n",
    "finalfeatDF.createOrReplaceTempView(\"finalfeat\")\n",
    "#finalfeatDF.show(23,truncate=False)"
   ]
  },
  {
   "cell_type": "markdown",
   "metadata": {
    "id": "cYWQNXjV7uTO"
   },
   "source": [
    "#Format Features for Input into Model"
   ]
  },
  {
   "cell_type": "code",
   "execution_count": null,
   "metadata": {
    "executionInfo": {
     "elapsed": 3,
     "status": "ok",
     "timestamp": 1701009773181,
     "user": {
      "displayName": "Bobbie Cavna",
      "userId": "02710482313698222145"
     },
     "user_tz": 300
    },
    "id": "fFA6YQYEUHif"
   },
   "outputs": [],
   "source": [
    "q = \"SELECT date*1000+cell as date_cell,hour, level, label, CASE WHEN level  = 200 THEN features else NULL END AS L01, CASE WHEN level  = 225 THEN features else NULL END AS L02, CASE WHEN level  = 250 THEN features else NULL END AS L03, CASE WHEN level  = 300 THEN features else NULL END AS L04, CASE WHEN level  = 350 THEN features else NULL END AS L05, CASE WHEN level  = 400 THEN features else NULL END AS L06, CASE WHEN level  = 450 THEN features else NULL END AS L07, CASE WHEN level  = 500 THEN features else NULL END AS L08, CASE WHEN level  = 550 THEN features else NULL END AS L09, CASE WHEN level  = 600 THEN features else NULL END AS L10, CASE WHEN level  = 650 THEN features else NULL END AS L11, CASE WHEN level  = 700 THEN features else NULL END AS L12, CASE WHEN level  = 750 THEN features else NULL END AS L13, CASE WHEN level  = 775 THEN features else NULL END AS L14, CASE WHEN level  = 800 THEN features else NULL END AS L15, CASE WHEN level  = 825 THEN features else NULL END AS L16, CASE WHEN level  = 850 THEN features else NULL END AS L17, CASE WHEN level  = 875 THEN features else NULL END AS L18, CASE WHEN level  = 900 THEN features else NULL END AS L19, CASE WHEN level  = 925 THEN features else NULL END AS L20, CASE WHEN level  = 950 THEN features else NULL END AS L21, CASE WHEN level  = 975 THEN features else NULL END AS L22, CASE WHEN level  = 1000 THEN features else NULL END AS L23 FROM finalfeat ORDER BY cell, level\"\n"
   ]
  },
  {
   "cell_type": "code",
   "execution_count": null,
   "metadata": {
    "colab": {
     "base_uri": "https://localhost:8080/"
    },
    "executionInfo": {
     "elapsed": 76649,
     "status": "ok",
     "timestamp": 1701009849828,
     "user": {
      "displayName": "Bobbie Cavna",
      "userId": "02710482313698222145"
     },
     "user_tz": 300
    },
    "id": "-6u6YyF3mpBK",
    "outputId": "67d43a4a-b63b-4089-be5a-fb8dfc7f30ed"
   },
   "outputs": [],
   "source": [
    "pivotCalcs = spark.sql(q)\n",
    "pivotCalcs.createOrReplaceTempView(\"pivot\")\n",
    "#pivotCalcs.show(23,truncate=False)"
   ]
  },
  {
   "cell_type": "code",
   "execution_count": null,
   "metadata": {
    "executionInfo": {
     "elapsed": 14,
     "status": "ok",
     "timestamp": 1700970892908,
     "user": {
      "displayName": "Bobbie Cavna",
      "userId": "02710482313698222145"
     },
     "user_tz": 300
    },
    "id": "X7WGNl7LDwGX"
   },
   "outputs": [],
   "source": [
    "#get each cell/date cohort with features at each level to try and preserve the relationship between levels\n",
    "def cohort(flist):\n",
    "  squarelist = []\n",
    "  for f in flist:\n",
    "    c = f[0] #cohort\n",
    "    l = f[1] #label\n",
    "    mat = np.array(f[2:]) #features\n",
    "    tup = (c,l,mat)\n",
    "    squarelist.append(tup)\n",
    "  return squarelist"
   ]
  },
  {
   "cell_type": "code",
   "execution_count": null,
   "metadata": {
    "executionInfo": {
     "elapsed": 13,
     "status": "ok",
     "timestamp": 1700970892908,
     "user": {
      "displayName": "Bobbie Cavna",
      "userId": "02710482313698222145"
     },
     "user_tz": 300
    },
    "id": "9t1jWrA_WwC1"
   },
   "outputs": [],
   "source": [
    "q2a = \"SELECT date_cell, label, MAX(L01) as L01, MAX(L02) as L02, MAX(L03) as L03, MAX(L04) as L04, MAX(L05) as L05, MAX(L06) as L06, MAX(L07) as L07, MAX(L08) as L08, MAX(L09) as L09, MAX(L10) as L10, MAX(L11) as L11, MAX(L12) as L12, MAX(L13) as L13, MAX(L14) as L14, MAX(L15) as L15, MAX(L16) as L16, MAX(L17) as L17, MAX(L18) as L18, MAX(L19) as L19, MAX(L20) as L20, MAX(L21) as L21, MAX(L22) as L22, MAX(L23) as L23 FROM pivot WHERE hour = \"\n",
    "q2b = \" GROUP BY date_cell, label ORDER BY date_cell\""
   ]
  },
  {
   "cell_type": "markdown",
   "metadata": {
    "id": "211TVrcgLMIp"
   },
   "source": [
    "Map Hour 00"
   ]
  },
  {
   "cell_type": "code",
   "execution_count": null,
   "metadata": {
    "colab": {
     "base_uri": "https://localhost:8080/"
    },
    "executionInfo": {
     "elapsed": 311907,
     "status": "ok",
     "timestamp": 1700971204802,
     "user": {
      "displayName": "Bobbie Cavna",
      "userId": "02710482313698222145"
     },
     "user_tz": 300
    },
    "id": "TroYI8SPsajU",
    "outputId": "7c0ef120-35e2-4dc3-bb78-c01af0c35873"
   },
   "outputs": [],
   "source": [
    "h0 = 0\n",
    "flattenDF00 = spark.sql(q2a + str(h0) + q2b)\n",
    "flattenDF00.createOrReplaceTempView(\"flat00\")\n",
    "#flattenDF00.show(3)\n",
    "flatList00 = flattenDF00.rdd.map(lambda x: x).collect()\n",
    "#print(flatList00[:2])"
   ]
  },
  {
   "cell_type": "code",
   "execution_count": null,
   "metadata": {
    "executionInfo": {
     "elapsed": 4,
     "status": "ok",
     "timestamp": 1700971204802,
     "user": {
      "displayName": "Bobbie Cavna",
      "userId": "02710482313698222145"
     },
     "user_tz": 300
    },
    "id": "ZEJ3Os7gBvDN"
   },
   "outputs": [],
   "source": [
    "datecells00 = cohort(flatList00)"
   ]
  },
  {
   "cell_type": "markdown",
   "metadata": {
    "id": "COnLGrD4LTm4"
   },
   "source": [
    "Map Hour 01"
   ]
  },
  {
   "cell_type": "code",
   "execution_count": null,
   "metadata": {
    "colab": {
     "base_uri": "https://localhost:8080/"
    },
    "executionInfo": {
     "elapsed": 315104,
     "status": "ok",
     "timestamp": 1700971519903,
     "user": {
      "displayName": "Bobbie Cavna",
      "userId": "02710482313698222145"
     },
     "user_tz": 300
    },
    "id": "nFZHQmvKKXgI",
    "outputId": "b55393a6-c0b2-4ea0-b521-c5ff11e041b6"
   },
   "outputs": [],
   "source": [
    "h1 = 1\n",
    "flattenDF01 = spark.sql(q2a + str(h1) + q2b)\n",
    "flattenDF01.createOrReplaceTempView(\"flat01\")\n",
    "#flattenDF01.show(3)\n",
    "flatList01 = flattenDF01.rdd.map(lambda x: x).collect()\n",
    "#print(flatList01[1])"
   ]
  },
  {
   "cell_type": "code",
   "execution_count": null,
   "metadata": {
    "executionInfo": {
     "elapsed": 14,
     "status": "ok",
     "timestamp": 1700971519903,
     "user": {
      "displayName": "Bobbie Cavna",
      "userId": "02710482313698222145"
     },
     "user_tz": 300
    },
    "id": "flecBaJWLam5"
   },
   "outputs": [],
   "source": [
    "datecells01 = cohort(flatList01)"
   ]
  },
  {
   "cell_type": "markdown",
   "metadata": {
    "id": "gotYqAP1V1Wy"
   },
   "source": [
    "Map Hour 02"
   ]
  },
  {
   "cell_type": "code",
   "execution_count": null,
   "metadata": {
    "colab": {
     "base_uri": "https://localhost:8080/"
    },
    "executionInfo": {
     "elapsed": 310002,
     "status": "ok",
     "timestamp": 1700971829893,
     "user": {
      "displayName": "Bobbie Cavna",
      "userId": "02710482313698222145"
     },
     "user_tz": 300
    },
    "id": "txhFWVIsV5Ko",
    "outputId": "9ba00f58-5589-46f6-a5ff-fbb8aa31f046"
   },
   "outputs": [],
   "source": [
    "h2 = 2\n",
    "flattenDF02 = spark.sql(q2a + str(h2) + q2b)\n",
    "flattenDF02.createOrReplaceTempView(\"flat02\")\n",
    "#flattenDF02.show(3)\n",
    "flatList02 = flattenDF02.rdd.map(lambda x: x).collect()\n",
    "#print(flatList02[1])"
   ]
  },
  {
   "cell_type": "code",
   "execution_count": null,
   "metadata": {
    "executionInfo": {
     "elapsed": 12,
     "status": "ok",
     "timestamp": 1700971829893,
     "user": {
      "displayName": "Bobbie Cavna",
      "userId": "02710482313698222145"
     },
     "user_tz": 300
    },
    "id": "s0Qnr42-WFuS"
   },
   "outputs": [],
   "source": [
    "datecells02 = cohort(flatList02)"
   ]
  },
  {
   "cell_type": "markdown",
   "metadata": {
    "id": "s4x4y8P8brCL"
   },
   "source": [
    "Map Hour 03"
   ]
  },
  {
   "cell_type": "code",
   "execution_count": null,
   "metadata": {
    "colab": {
     "base_uri": "https://localhost:8080/"
    },
    "executionInfo": {
     "elapsed": 311557,
     "status": "ok",
     "timestamp": 1700972141439,
     "user": {
      "displayName": "Bobbie Cavna",
      "userId": "02710482313698222145"
     },
     "user_tz": 300
    },
    "id": "3ORLklj0bvvi",
    "outputId": "c057ce89-df30-4ab5-daeb-b3f73a0d1a4b"
   },
   "outputs": [],
   "source": [
    "h3 = 3\n",
    "flattenDF03 = spark.sql(q2a + str(h3) + q2b)\n",
    "flattenDF03.createOrReplaceTempView(\"flat03\")\n",
    "#flattenDF03.show(3)\n",
    "flatList03 = flattenDF03.rdd.map(lambda x: x).collect()\n",
    "#print(flatList03[1])"
   ]
  },
  {
   "cell_type": "code",
   "execution_count": null,
   "metadata": {
    "executionInfo": {
     "elapsed": 14,
     "status": "ok",
     "timestamp": 1700972141440,
     "user": {
      "displayName": "Bobbie Cavna",
      "userId": "02710482313698222145"
     },
     "user_tz": 300
    },
    "id": "ButdOr2Ab_y6"
   },
   "outputs": [],
   "source": [
    "datecells03 = cohort(flatList03)"
   ]
  },
  {
   "cell_type": "markdown",
   "metadata": {
    "id": "dj7HAEqBl7nv"
   },
   "source": [
    "Map Hour 04"
   ]
  },
  {
   "cell_type": "code",
   "execution_count": null,
   "metadata": {
    "colab": {
     "base_uri": "https://localhost:8080/"
    },
    "executionInfo": {
     "elapsed": 309442,
     "status": "ok",
     "timestamp": 1700972450869,
     "user": {
      "displayName": "Bobbie Cavna",
      "userId": "02710482313698222145"
     },
     "user_tz": 300
    },
    "id": "pyxWP20ZmApu",
    "outputId": "a0df3a48-ec9c-4bce-c07b-d758e1aeda04"
   },
   "outputs": [],
   "source": [
    "h4 = 4\n",
    "flattenDF04 = spark.sql(q2a + str(h4) + q2b)\n",
    "flattenDF04.createOrReplaceTempView(\"flat04\")\n",
    "#flattenDF04.show(3)\n",
    "flatList04 = flattenDF04.rdd.map(lambda x: x).collect()\n",
    "#print(flatList04[1])"
   ]
  },
  {
   "cell_type": "code",
   "execution_count": null,
   "metadata": {
    "executionInfo": {
     "elapsed": 14,
     "status": "ok",
     "timestamp": 1700972450869,
     "user": {
      "displayName": "Bobbie Cavna",
      "userId": "02710482313698222145"
     },
     "user_tz": 300
    },
    "id": "kFAFHvIwocIb"
   },
   "outputs": [],
   "source": [
    "datecells04 = cohort(flatList04)"
   ]
  },
  {
   "cell_type": "markdown",
   "metadata": {
    "id": "lfVUIdOEvB8l"
   },
   "source": [
    "Map Hour 05"
   ]
  },
  {
   "cell_type": "code",
   "execution_count": null,
   "metadata": {
    "colab": {
     "base_uri": "https://localhost:8080/"
    },
    "executionInfo": {
     "elapsed": 310040,
     "status": "ok",
     "timestamp": 1700972760896,
     "user": {
      "displayName": "Bobbie Cavna",
      "userId": "02710482313698222145"
     },
     "user_tz": 300
    },
    "id": "DSk1tAD1v1zH",
    "outputId": "2e483a7d-b182-4304-d81e-13792726d5d2"
   },
   "outputs": [],
   "source": [
    "h5 = 5\n",
    "flattenDF05 = spark.sql(q2a + str(h5) + q2b)\n",
    "flattenDF05.createOrReplaceTempView(\"flat05\")\n",
    "#flattenDF05.show(3)\n",
    "flatList05 = flattenDF05.rdd.map(lambda x: x).collect()\n",
    "#print(flatList05[1])"
   ]
  },
  {
   "cell_type": "code",
   "execution_count": null,
   "metadata": {
    "executionInfo": {
     "elapsed": 5,
     "status": "ok",
     "timestamp": 1700972760897,
     "user": {
      "displayName": "Bobbie Cavna",
      "userId": "02710482313698222145"
     },
     "user_tz": 300
    },
    "id": "VOVBuxqiwGN0"
   },
   "outputs": [],
   "source": [
    "datecells05 = cohort(flatList05)"
   ]
  },
  {
   "cell_type": "markdown",
   "metadata": {
    "id": "V16x0KU5y0vz"
   },
   "source": [
    "Map Hour 06"
   ]
  },
  {
   "cell_type": "code",
   "execution_count": null,
   "metadata": {
    "colab": {
     "base_uri": "https://localhost:8080/"
    },
    "executionInfo": {
     "elapsed": 309468,
     "status": "ok",
     "timestamp": 1700973070362,
     "user": {
      "displayName": "Bobbie Cavna",
      "userId": "02710482313698222145"
     },
     "user_tz": 300
    },
    "id": "y5-PIvIyy36Z",
    "outputId": "79800402-baab-41f7-adc0-64736e2d5d55"
   },
   "outputs": [],
   "source": [
    "h6 = 6\n",
    "flattenDF06 = spark.sql(q2a + str(h6) + q2b)\n",
    "flattenDF06.createOrReplaceTempView(\"flat06\")\n",
    "#flattenDF06.show(3)\n",
    "flatList06 = flattenDF06.rdd.map(lambda x: x).collect()\n",
    "#print(flatList06[1])"
   ]
  },
  {
   "cell_type": "code",
   "execution_count": null,
   "metadata": {
    "executionInfo": {
     "elapsed": 14,
     "status": "ok",
     "timestamp": 1700973070363,
     "user": {
      "displayName": "Bobbie Cavna",
      "userId": "02710482313698222145"
     },
     "user_tz": 300
    },
    "id": "toiA8Q7dzPX5"
   },
   "outputs": [],
   "source": [
    "datecells06 = cohort(flatList06)"
   ]
  },
  {
   "cell_type": "markdown",
   "metadata": {
    "id": "bWif115lmAeP"
   },
   "source": [
    "Map Hour 07"
   ]
  },
  {
   "cell_type": "code",
   "execution_count": null,
   "metadata": {
    "colab": {
     "base_uri": "https://localhost:8080/"
    },
    "executionInfo": {
     "elapsed": 308225,
     "status": "ok",
     "timestamp": 1700973378575,
     "user": {
      "displayName": "Bobbie Cavna",
      "userId": "02710482313698222145"
     },
     "user_tz": 300
    },
    "id": "BRmdRcYhz-uQ",
    "outputId": "8d708508-2bfc-471d-ed78-3160deafb2f0"
   },
   "outputs": [],
   "source": [
    "h7 = 7\n",
    "flattenDF07 = spark.sql(q2a + str(h7) + q2b)\n",
    "flattenDF07.createOrReplaceTempView(\"flat07\")\n",
    "#flattenDF07.show(3)\n",
    "flatList07 = flattenDF07.rdd.map(lambda x: x).collect()\n",
    "#print(flatList07[1])"
   ]
  },
  {
   "cell_type": "code",
   "execution_count": null,
   "metadata": {
    "executionInfo": {
     "elapsed": 15,
     "status": "ok",
     "timestamp": 1700973378575,
     "user": {
      "displayName": "Bobbie Cavna",
      "userId": "02710482313698222145"
     },
     "user_tz": 300
    },
    "id": "AcS9oR0c0KOB"
   },
   "outputs": [],
   "source": [
    "datecells07 = cohort(flatList07)"
   ]
  },
  {
   "cell_type": "markdown",
   "metadata": {
    "id": "VMinJJcumCdQ"
   },
   "source": [
    "Map Hour 08"
   ]
  },
  {
   "cell_type": "code",
   "execution_count": null,
   "metadata": {
    "colab": {
     "base_uri": "https://localhost:8080/"
    },
    "executionInfo": {
     "elapsed": 307981,
     "status": "ok",
     "timestamp": 1700973686542,
     "user": {
      "displayName": "Bobbie Cavna",
      "userId": "02710482313698222145"
     },
     "user_tz": 300
    },
    "id": "RIkvrdnq0TEj",
    "outputId": "07dcbe42-71c2-494a-b504-f78700ae3a4e"
   },
   "outputs": [],
   "source": [
    "h8 = 8\n",
    "flattenDF08 = spark.sql(q2a + str(h8) + q2b)\n",
    "flattenDF08.createOrReplaceTempView(\"flat08\")\n",
    "#flattenDF08.show(3)\n",
    "flatList08 = flattenDF08.rdd.map(lambda x: x).collect()\n",
    "#print(flatList08[1])"
   ]
  },
  {
   "cell_type": "code",
   "execution_count": null,
   "metadata": {
    "executionInfo": {
     "elapsed": 11,
     "status": "ok",
     "timestamp": 1700973686542,
     "user": {
      "displayName": "Bobbie Cavna",
      "userId": "02710482313698222145"
     },
     "user_tz": 300
    },
    "id": "Vc_OJbe60bsI"
   },
   "outputs": [],
   "source": [
    "datecells08 = cohort(flatList08)"
   ]
  },
  {
   "cell_type": "markdown",
   "metadata": {
    "id": "tTQOSsQ0mEMi"
   },
   "source": [
    "Map Hour 09"
   ]
  },
  {
   "cell_type": "code",
   "execution_count": null,
   "metadata": {
    "colab": {
     "base_uri": "https://localhost:8080/"
    },
    "executionInfo": {
     "elapsed": 307558,
     "status": "ok",
     "timestamp": 1700973994090,
     "user": {
      "displayName": "Bobbie Cavna",
      "userId": "02710482313698222145"
     },
     "user_tz": 300
    },
    "id": "b7mNtlCt0-aH",
    "outputId": "f33c4433-5366-4ac4-8bb1-923d163353a3"
   },
   "outputs": [],
   "source": [
    "h9 = 9\n",
    "flattenDF09 = spark.sql(q2a + str(h9) + q2b)\n",
    "flattenDF09.createOrReplaceTempView(\"flat09\")\n",
    "#flattenDF09.show(3)\n",
    "flatList09 = flattenDF09.rdd.map(lambda x: x).collect()\n",
    "#print(flatList09[1])"
   ]
  },
  {
   "cell_type": "code",
   "execution_count": null,
   "metadata": {
    "executionInfo": {
     "elapsed": 13,
     "status": "ok",
     "timestamp": 1700973994091,
     "user": {
      "displayName": "Bobbie Cavna",
      "userId": "02710482313698222145"
     },
     "user_tz": 300
    },
    "id": "_G7HE7Ph1HC6"
   },
   "outputs": [],
   "source": [
    "datecells09 = cohort(flatList09)"
   ]
  },
  {
   "cell_type": "markdown",
   "metadata": {
    "id": "nwfdmybBmGAG"
   },
   "source": [
    "Map Hour 10"
   ]
  },
  {
   "cell_type": "code",
   "execution_count": null,
   "metadata": {
    "colab": {
     "base_uri": "https://localhost:8080/"
    },
    "executionInfo": {
     "elapsed": 308852,
     "status": "ok",
     "timestamp": 1700974302932,
     "user": {
      "displayName": "Bobbie Cavna",
      "userId": "02710482313698222145"
     },
     "user_tz": 300
    },
    "id": "JHijesNf1Kyg",
    "outputId": "87e17d3e-93fb-454d-a6c8-e2c9b3059f4a"
   },
   "outputs": [],
   "source": [
    "h10 = 10\n",
    "flattenDF10 = spark.sql(q2a + str(h10) + q2b)\n",
    "flattenDF10.createOrReplaceTempView(\"flat10\")\n",
    "#flattenDF10.show(3)\n",
    "flatList10 = flattenDF10.rdd.map(lambda x: x).collect()\n",
    "#print(flatList10[1])"
   ]
  },
  {
   "cell_type": "code",
   "execution_count": null,
   "metadata": {
    "executionInfo": {
     "elapsed": 302,
     "status": "ok",
     "timestamp": 1700974303219,
     "user": {
      "displayName": "Bobbie Cavna",
      "userId": "02710482313698222145"
     },
     "user_tz": 300
    },
    "id": "0CWTzGAQ1ctg"
   },
   "outputs": [],
   "source": [
    "datecells10 = cohort(flatList10)"
   ]
  },
  {
   "cell_type": "markdown",
   "metadata": {
    "id": "TGgWOSB4mID6"
   },
   "source": [
    "Map Hour 11"
   ]
  },
  {
   "cell_type": "code",
   "execution_count": null,
   "metadata": {
    "colab": {
     "base_uri": "https://localhost:8080/"
    },
    "executionInfo": {
     "elapsed": 308872,
     "status": "ok",
     "timestamp": 1700974612089,
     "user": {
      "displayName": "Bobbie Cavna",
      "userId": "02710482313698222145"
     },
     "user_tz": 300
    },
    "id": "Y3TmCAtu2QKg",
    "outputId": "4f872356-2f38-4d31-ad16-69f45f9f856c"
   },
   "outputs": [],
   "source": [
    "h11 = 11\n",
    "flattenDF11 = spark.sql(q2a + str(h11) + q2b)\n",
    "flattenDF11.createOrReplaceTempView(\"flat11\")\n",
    "#flattenDF11.show(3)\n",
    "flatList11 = flattenDF11.rdd.map(lambda x: x).collect()\n",
    "#print(flatList11[1])"
   ]
  },
  {
   "cell_type": "code",
   "execution_count": null,
   "metadata": {
    "executionInfo": {
     "elapsed": 424,
     "status": "ok",
     "timestamp": 1700974612501,
     "user": {
      "displayName": "Bobbie Cavna",
      "userId": "02710482313698222145"
     },
     "user_tz": 300
    },
    "id": "jtUDeZDQ2mAb"
   },
   "outputs": [],
   "source": [
    "datecells11 = cohort(flatList11)"
   ]
  },
  {
   "cell_type": "markdown",
   "metadata": {
    "id": "Fu9ZFA_pmKCy"
   },
   "source": [
    "Map Hour 12"
   ]
  },
  {
   "cell_type": "code",
   "execution_count": null,
   "metadata": {
    "colab": {
     "base_uri": "https://localhost:8080/"
    },
    "executionInfo": {
     "elapsed": 310232,
     "status": "ok",
     "timestamp": 1700974922310,
     "user": {
      "displayName": "Bobbie Cavna",
      "userId": "02710482313698222145"
     },
     "user_tz": 300
    },
    "id": "uRN7OOZQ2wZv",
    "outputId": "258a38e8-1a63-4c86-e051-4e8b2ddb12e3"
   },
   "outputs": [],
   "source": [
    "h12 = 12\n",
    "flattenDF12 = spark.sql(q2a + str(h12) + q2b)\n",
    "flattenDF12.createOrReplaceTempView(\"flat12\")\n",
    "#flattenDF12.show(3)\n",
    "flatList12 = flattenDF12.rdd.map(lambda x: x).collect()\n",
    "#print(flatList12[1])"
   ]
  },
  {
   "cell_type": "code",
   "execution_count": null,
   "metadata": {
    "executionInfo": {
     "elapsed": 283,
     "status": "ok",
     "timestamp": 1700974922582,
     "user": {
      "displayName": "Bobbie Cavna",
      "userId": "02710482313698222145"
     },
     "user_tz": 300
    },
    "id": "AnY8rWl32-g6"
   },
   "outputs": [],
   "source": [
    "datecells12 = cohort(flatList12)"
   ]
  },
  {
   "cell_type": "markdown",
   "metadata": {
    "id": "3C7J-79umMGj"
   },
   "source": [
    "Map Hour 13"
   ]
  },
  {
   "cell_type": "code",
   "execution_count": null,
   "metadata": {
    "colab": {
     "base_uri": "https://localhost:8080/"
    },
    "executionInfo": {
     "elapsed": 311074,
     "status": "ok",
     "timestamp": 1700975233655,
     "user": {
      "displayName": "Bobbie Cavna",
      "userId": "02710482313698222145"
     },
     "user_tz": 300
    },
    "id": "8p24NawpmOjd",
    "outputId": "48c31943-f9bb-49e3-eb92-e782706bf59f"
   },
   "outputs": [],
   "source": [
    "h13 = 13\n",
    "flattenDF13 = spark.sql(q2a + str(h13) + q2b)\n",
    "flattenDF13.createOrReplaceTempView(\"flat13\")\n",
    "#flattenDF13.show(3)\n",
    "flatList13 = flattenDF13.rdd.map(lambda x: x).collect()\n",
    "#print(flatList13[1])"
   ]
  },
  {
   "cell_type": "code",
   "execution_count": null,
   "metadata": {
    "executionInfo": {
     "elapsed": 14,
     "status": "ok",
     "timestamp": 1700975233655,
     "user": {
      "displayName": "Bobbie Cavna",
      "userId": "02710482313698222145"
     },
     "user_tz": 300
    },
    "id": "Ne8tfXeXmaAh"
   },
   "outputs": [],
   "source": [
    "datecells13 = cohort(flatList13)"
   ]
  },
  {
   "cell_type": "markdown",
   "metadata": {
    "id": "wMezTULwmddU"
   },
   "source": [
    "Map Hour 14"
   ]
  },
  {
   "cell_type": "code",
   "execution_count": null,
   "metadata": {
    "colab": {
     "base_uri": "https://localhost:8080/"
    },
    "executionInfo": {
     "elapsed": 309672,
     "status": "ok",
     "timestamp": 1700975543314,
     "user": {
      "displayName": "Bobbie Cavna",
      "userId": "02710482313698222145"
     },
     "user_tz": 300
    },
    "id": "zkK78eEcmfUq",
    "outputId": "5640d165-6efd-4e4c-e396-2bdce406b22d"
   },
   "outputs": [],
   "source": [
    "h14 = 14\n",
    "flattenDF14 = spark.sql(q2a + str(h14) + q2b)\n",
    "flattenDF14.createOrReplaceTempView(\"flat14\")\n",
    "#flattenDF14.show(3)\n",
    "flatList14 = flattenDF14.rdd.map(lambda x: x).collect()\n",
    "#print(flatList14[1])"
   ]
  },
  {
   "cell_type": "code",
   "execution_count": null,
   "metadata": {
    "executionInfo": {
     "elapsed": 13,
     "status": "ok",
     "timestamp": 1700975543315,
     "user": {
      "displayName": "Bobbie Cavna",
      "userId": "02710482313698222145"
     },
     "user_tz": 300
    },
    "id": "M0g8kmZrmuYx"
   },
   "outputs": [],
   "source": [
    "datecells14 = cohort(flatList14)"
   ]
  },
  {
   "cell_type": "markdown",
   "metadata": {
    "id": "xyEV2xuMmxjZ"
   },
   "source": [
    "Map Hour 15"
   ]
  },
  {
   "cell_type": "code",
   "execution_count": null,
   "metadata": {
    "colab": {
     "base_uri": "https://localhost:8080/"
    },
    "executionInfo": {
     "elapsed": 311625,
     "status": "ok",
     "timestamp": 1700975854928,
     "user": {
      "displayName": "Bobbie Cavna",
      "userId": "02710482313698222145"
     },
     "user_tz": 300
    },
    "id": "O1Lix-HymzNx",
    "outputId": "d0a972cf-03b7-40f8-90ab-a7bf619437c0"
   },
   "outputs": [],
   "source": [
    "h15 = 15\n",
    "flattenDF15 = spark.sql(q2a + str(h15) + q2b)\n",
    "flattenDF15.createOrReplaceTempView(\"flat15\")\n",
    "#flattenDF15.show(3)\n",
    "flatList15 = flattenDF15.rdd.map(lambda x: x).collect()\n",
    "#print(flatList15[1])"
   ]
  },
  {
   "cell_type": "code",
   "execution_count": null,
   "metadata": {
    "executionInfo": {
     "elapsed": 293,
     "status": "ok",
     "timestamp": 1700975855204,
     "user": {
      "displayName": "Bobbie Cavna",
      "userId": "02710482313698222145"
     },
     "user_tz": 300
    },
    "id": "Bb6p8DZFnBrb"
   },
   "outputs": [],
   "source": [
    "datecells15 = cohort(flatList15)"
   ]
  },
  {
   "cell_type": "markdown",
   "metadata": {
    "id": "wk1UkH-FnEwB"
   },
   "source": [
    "Map Hour 16"
   ]
  },
  {
   "cell_type": "code",
   "execution_count": null,
   "metadata": {
    "colab": {
     "base_uri": "https://localhost:8080/"
    },
    "executionInfo": {
     "elapsed": 311939,
     "status": "ok",
     "timestamp": 1700976166852,
     "user": {
      "displayName": "Bobbie Cavna",
      "userId": "02710482313698222145"
     },
     "user_tz": 300
    },
    "id": "Zz87nqF2nIoq",
    "outputId": "d9cc955d-e289-4df6-d8ef-2337d03b33af"
   },
   "outputs": [],
   "source": [
    "h16 = 16\n",
    "flattenDF16 = spark.sql(q2a + str(h16) + q2b)\n",
    "flattenDF16.createOrReplaceTempView(\"flat16\")\n",
    "#flattenDF16.show(3)\n",
    "flatList16 = flattenDF16.rdd.map(lambda x: x).collect()\n",
    "#print(flatList16[1])"
   ]
  },
  {
   "cell_type": "code",
   "execution_count": null,
   "metadata": {
    "executionInfo": {
     "elapsed": 15,
     "status": "ok",
     "timestamp": 1700976166853,
     "user": {
      "displayName": "Bobbie Cavna",
      "userId": "02710482313698222145"
     },
     "user_tz": 300
    },
    "id": "uGPPVAnhnTcp"
   },
   "outputs": [],
   "source": [
    "datecells16 = cohort(flatList16)"
   ]
  },
  {
   "cell_type": "markdown",
   "metadata": {
    "id": "2S8qZ5OKnWs6"
   },
   "source": [
    "Map Hour 17"
   ]
  },
  {
   "cell_type": "code",
   "execution_count": null,
   "metadata": {
    "colab": {
     "base_uri": "https://localhost:8080/"
    },
    "executionInfo": {
     "elapsed": 312853,
     "status": "ok",
     "timestamp": 1700976479692,
     "user": {
      "displayName": "Bobbie Cavna",
      "userId": "02710482313698222145"
     },
     "user_tz": 300
    },
    "id": "VEn22R3jnYlB",
    "outputId": "e05c7480-13d7-4cc7-b1f9-809c9d3080ab"
   },
   "outputs": [],
   "source": [
    "h17 = 17\n",
    "flattenDF17 = spark.sql(q2a + str(h17) + q2b)\n",
    "flattenDF17.createOrReplaceTempView(\"flat17\")\n",
    "#flattenDF17.show(3)\n",
    "flatList17 = flattenDF17.rdd.map(lambda x: x).collect()\n",
    "#print(flatList17[1])"
   ]
  },
  {
   "cell_type": "code",
   "execution_count": null,
   "metadata": {
    "executionInfo": {
     "elapsed": 13,
     "status": "ok",
     "timestamp": 1700976479693,
     "user": {
      "displayName": "Bobbie Cavna",
      "userId": "02710482313698222145"
     },
     "user_tz": 300
    },
    "id": "pAbM2F7znl7B"
   },
   "outputs": [],
   "source": [
    "datecells17 = cohort(flatList17)"
   ]
  },
  {
   "cell_type": "markdown",
   "metadata": {
    "id": "cBjwoZ3fnrao"
   },
   "source": [
    "Map Hour 18"
   ]
  },
  {
   "cell_type": "code",
   "execution_count": null,
   "metadata": {
    "colab": {
     "base_uri": "https://localhost:8080/"
    },
    "executionInfo": {
     "elapsed": 310358,
     "status": "ok",
     "timestamp": 1700976790039,
     "user": {
      "displayName": "Bobbie Cavna",
      "userId": "02710482313698222145"
     },
     "user_tz": 300
    },
    "id": "hMnsDaqDnpPZ",
    "outputId": "240daed5-a772-4907-a972-537439b8fccd"
   },
   "outputs": [],
   "source": [
    "h18 = 18\n",
    "flattenDF18 = spark.sql(q2a + str(h18) + q2b)\n",
    "flattenDF18.createOrReplaceTempView(\"flat18\")\n",
    "#flattenDF18.show(3)\n",
    "flatList18 = flattenDF18.rdd.map(lambda x: x).collect()\n",
    "#print(flatList18[1])"
   ]
  },
  {
   "cell_type": "code",
   "execution_count": null,
   "metadata": {
    "executionInfo": {
     "elapsed": 338,
     "status": "ok",
     "timestamp": 1700976790359,
     "user": {
      "displayName": "Bobbie Cavna",
      "userId": "02710482313698222145"
     },
     "user_tz": 300
    },
    "id": "IQ8oxxfLn3rg"
   },
   "outputs": [],
   "source": [
    "datecells18 = cohort(flatList18)"
   ]
  },
  {
   "cell_type": "markdown",
   "metadata": {
    "id": "3_zdimNbn7Yg"
   },
   "source": [
    "Map Hour 19"
   ]
  },
  {
   "cell_type": "code",
   "execution_count": null,
   "metadata": {
    "colab": {
     "base_uri": "https://localhost:8080/"
    },
    "executionInfo": {
     "elapsed": 309533,
     "status": "ok",
     "timestamp": 1700977099889,
     "user": {
      "displayName": "Bobbie Cavna",
      "userId": "02710482313698222145"
     },
     "user_tz": 300
    },
    "id": "GCzrG4Atn9a5",
    "outputId": "ed8fcdc4-9cd5-4a35-acc3-87c74669897d"
   },
   "outputs": [],
   "source": [
    "h19 = 19\n",
    "flattenDF19 = spark.sql(q2a + str(h19) + q2b)\n",
    "flattenDF19.createOrReplaceTempView(\"flat19\")\n",
    "#flattenDF19.show(3)\n",
    "flatList19 = flattenDF19.rdd.map(lambda x: x).collect()\n",
    "#print(flatList19[1])"
   ]
  },
  {
   "cell_type": "code",
   "execution_count": null,
   "metadata": {
    "executionInfo": {
     "elapsed": 12,
     "status": "ok",
     "timestamp": 1700977099889,
     "user": {
      "displayName": "Bobbie Cavna",
      "userId": "02710482313698222145"
     },
     "user_tz": 300
    },
    "id": "caVYOiP3oGnh"
   },
   "outputs": [],
   "source": [
    "datecells19 = cohort(flatList19)"
   ]
  },
  {
   "cell_type": "markdown",
   "metadata": {
    "id": "0zFeVhy9oYYb"
   },
   "source": [
    "Map Hour 20"
   ]
  },
  {
   "cell_type": "code",
   "execution_count": null,
   "metadata": {
    "colab": {
     "base_uri": "https://localhost:8080/"
    },
    "executionInfo": {
     "elapsed": 314156,
     "status": "ok",
     "timestamp": 1700977414034,
     "user": {
      "displayName": "Bobbie Cavna",
      "userId": "02710482313698222145"
     },
     "user_tz": 300
    },
    "id": "e-dlEh6HoaoQ",
    "outputId": "b4785863-ff59-468c-bb8c-65bf86379b66"
   },
   "outputs": [],
   "source": [
    "h20 = 20\n",
    "flattenDF20 = spark.sql(q2a + str(h20) + q2b)\n",
    "flattenDF20.createOrReplaceTempView(\"flat20\")\n",
    "#flattenDF20.show(3)\n",
    "flatList20 = flattenDF20.rdd.map(lambda x: x).collect()\n",
    "#print(flatList20[1])"
   ]
  },
  {
   "cell_type": "code",
   "execution_count": null,
   "metadata": {
    "executionInfo": {
     "elapsed": 11,
     "status": "ok",
     "timestamp": 1700977414034,
     "user": {
      "displayName": "Bobbie Cavna",
      "userId": "02710482313698222145"
     },
     "user_tz": 300
    },
    "id": "dHiiHtwqomdp"
   },
   "outputs": [],
   "source": [
    "datecells20 = cohort(flatList20)"
   ]
  },
  {
   "cell_type": "markdown",
   "metadata": {
    "id": "_3psxaxDopx4"
   },
   "source": [
    "Map Hour 21"
   ]
  },
  {
   "cell_type": "code",
   "execution_count": null,
   "metadata": {
    "colab": {
     "base_uri": "https://localhost:8080/"
    },
    "executionInfo": {
     "elapsed": 312821,
     "status": "ok",
     "timestamp": 1700977726845,
     "user": {
      "displayName": "Bobbie Cavna",
      "userId": "02710482313698222145"
     },
     "user_tz": 300
    },
    "id": "u_GjAFsoorp4",
    "outputId": "d0c5291c-bc29-48a2-da8b-a2e53c79ac7f"
   },
   "outputs": [],
   "source": [
    "h21 = 21\n",
    "flattenDF21 = spark.sql(q2a + str(h21) + q2b)\n",
    "flattenDF21.createOrReplaceTempView(\"flat21\")\n",
    "#flattenDF21.show(3)\n",
    "flatList21 = flattenDF21.rdd.map(lambda x: x).collect()\n",
    "#print(flatList21[1])"
   ]
  },
  {
   "cell_type": "code",
   "execution_count": null,
   "metadata": {
    "executionInfo": {
     "elapsed": 11,
     "status": "ok",
     "timestamp": 1700977726845,
     "user": {
      "displayName": "Bobbie Cavna",
      "userId": "02710482313698222145"
     },
     "user_tz": 300
    },
    "id": "X3RgzXH6o2bf"
   },
   "outputs": [],
   "source": [
    "datecells21 = cohort(flatList21)"
   ]
  },
  {
   "cell_type": "markdown",
   "metadata": {
    "id": "zBWeLxtqo5ri"
   },
   "source": [
    "Map Hour 22"
   ]
  },
  {
   "cell_type": "code",
   "execution_count": null,
   "metadata": {
    "colab": {
     "base_uri": "https://localhost:8080/"
    },
    "executionInfo": {
     "elapsed": 315754,
     "status": "ok",
     "timestamp": 1700978042589,
     "user": {
      "displayName": "Bobbie Cavna",
      "userId": "02710482313698222145"
     },
     "user_tz": 300
    },
    "id": "b7HUjpHoo7iD",
    "outputId": "21856f48-a6d5-46b6-d80b-bc24a51c9b01"
   },
   "outputs": [],
   "source": [
    "h22 = 22\n",
    "flattenDF22 = spark.sql(q2a + str(h22) + q2b)\n",
    "flattenDF22.createOrReplaceTempView(\"flat22\")\n",
    "#flattenDF22.show(3)\n",
    "flatList22 = flattenDF22.rdd.map(lambda x: x).collect()\n",
    "#print(flatList22[1])"
   ]
  },
  {
   "cell_type": "code",
   "execution_count": null,
   "metadata": {
    "executionInfo": {
     "elapsed": 12,
     "status": "ok",
     "timestamp": 1700978042589,
     "user": {
      "displayName": "Bobbie Cavna",
      "userId": "02710482313698222145"
     },
     "user_tz": 300
    },
    "id": "Z1qDIe4LpG4H"
   },
   "outputs": [],
   "source": [
    "datecells22 = cohort(flatList22)"
   ]
  },
  {
   "cell_type": "markdown",
   "metadata": {
    "id": "LvEsH-nGqBi3"
   },
   "source": [
    "Map Hour 23"
   ]
  },
  {
   "cell_type": "code",
   "execution_count": null,
   "metadata": {
    "colab": {
     "base_uri": "https://localhost:8080/"
    },
    "executionInfo": {
     "elapsed": 315820,
     "status": "ok",
     "timestamp": 1700978358399,
     "user": {
      "displayName": "Bobbie Cavna",
      "userId": "02710482313698222145"
     },
     "user_tz": 300
    },
    "id": "fhv-s7ahqHzP",
    "outputId": "5d9c7ffb-e46b-4f9f-e49a-cd941123d355"
   },
   "outputs": [],
   "source": [
    "h23 = 23\n",
    "flattenDF23 = spark.sql(q2a + str(h23) + q2b)\n",
    "flattenDF23.createOrReplaceTempView(\"flat23\")\n",
    "#flattenDF23.show(3)\n",
    "flatList23 = flattenDF23.rdd.map(lambda x: x).collect()\n",
    "#print(flatList23[1])"
   ]
  },
  {
   "cell_type": "code",
   "execution_count": null,
   "metadata": {
    "executionInfo": {
     "elapsed": 20,
     "status": "ok",
     "timestamp": 1700978358399,
     "user": {
      "displayName": "Bobbie Cavna",
      "userId": "02710482313698222145"
     },
     "user_tz": 300
    },
    "id": "zdJFlrh_qdxg"
   },
   "outputs": [],
   "source": [
    "datecells23 = cohort(flatList23)"
   ]
  },
  {
   "cell_type": "markdown",
   "metadata": {
    "id": "KAvn9q_2cLxq"
   },
   "source": [
    "#Combine the features for each day into 24 hour sequences"
   ]
  },
  {
   "cell_type": "code",
   "execution_count": null,
   "metadata": {
    "executionInfo": {
     "elapsed": 573,
     "status": "ok",
     "timestamp": 1700978358954,
     "user": {
      "displayName": "Bobbie Cavna",
      "userId": "02710482313698222145"
     },
     "user_tz": 300
    },
    "id": "sWEikJUErcRZ"
   },
   "outputs": [],
   "source": [
    "# creating the dataframe\n",
    "PD00 = pd.DataFrame(datecells00, columns = ['date_cell', 'target', 'features00'])\n",
    "PD01 = pd.DataFrame(datecells01, columns = ['date_cell', 'target', 'features01'])\n",
    "PD02 = pd.DataFrame(datecells02, columns = ['date_cell', 'target', 'features02'])\n",
    "PD03 = pd.DataFrame(datecells03, columns = ['date_cell', 'target', 'features03'])\n",
    "PD04 = pd.DataFrame(datecells04, columns = ['date_cell', 'target', 'features04'])\n",
    "PD05 = pd.DataFrame(datecells05, columns = ['date_cell', 'target', 'features05'])\n",
    "PD06 = pd.DataFrame(datecells06, columns = ['date_cell', 'target', 'features06'])\n",
    "PD07 = pd.DataFrame(datecells07, columns = ['date_cell', 'target', 'features07'])\n",
    "PD08 = pd.DataFrame(datecells08, columns = ['date_cell', 'target', 'features08'])\n",
    "PD09 = pd.DataFrame(datecells09, columns = ['date_cell', 'target', 'features09'])\n",
    "PD10 = pd.DataFrame(datecells10, columns = ['date_cell', 'target', 'features10'])\n",
    "PD11 = pd.DataFrame(datecells11, columns = ['date_cell', 'target', 'features11'])\n",
    "PD12 = pd.DataFrame(datecells12, columns = ['date_cell', 'target', 'features12'])\n",
    "PD13 = pd.DataFrame(datecells13, columns = ['date_cell', 'target', 'features13'])\n",
    "PD14 = pd.DataFrame(datecells14, columns = ['date_cell', 'target', 'features14'])\n",
    "PD15 = pd.DataFrame(datecells15, columns = ['date_cell', 'target', 'features15'])\n",
    "PD16 = pd.DataFrame(datecells16, columns = ['date_cell', 'target', 'features16'])\n",
    "PD17 = pd.DataFrame(datecells17, columns = ['date_cell', 'target', 'features17'])\n",
    "PD18 = pd.DataFrame(datecells18, columns = ['date_cell', 'target', 'features18'])\n",
    "PD19 = pd.DataFrame(datecells19, columns = ['date_cell', 'target', 'features19'])\n",
    "PD20 = pd.DataFrame(datecells20, columns = ['date_cell', 'target', 'features20'])\n",
    "PD21 = pd.DataFrame(datecells21, columns = ['date_cell', 'target', 'features21'])\n",
    "PD22 = pd.DataFrame(datecells22, columns = ['date_cell', 'target', 'features22'])\n",
    "PD23 = pd.DataFrame(datecells23, columns = ['date_cell', 'target', 'features22'])"
   ]
  },
  {
   "cell_type": "code",
   "execution_count": null,
   "metadata": {
    "colab": {
     "base_uri": "https://localhost:8080/",
     "height": 1000
    },
    "executionInfo": {
     "elapsed": 1107,
     "status": "ok",
     "timestamp": 1700978360060,
     "user": {
      "displayName": "Bobbie Cavna",
      "userId": "02710482313698222145"
     },
     "user_tz": 300
    },
    "id": "x8g-GrPKtMhc",
    "outputId": "9bb200fc-ba5a-4e4b-9fc8-29541ffc2663"
   },
   "outputs": [],
   "source": [
    "allPD01 = pd.merge(PD00, PD01, on=[\"date_cell\",\"target\"])\n",
    "allPD02 = pd.merge(allPD01, PD02, on=[\"date_cell\",\"target\"])\n",
    "allPD03 = pd.merge(allPD02, PD03, on=[\"date_cell\",\"target\"])\n",
    "allPD04 = pd.merge(allPD03, PD04, on=[\"date_cell\",\"target\"])\n",
    "allPD05 = pd.merge(allPD04, PD05, on=[\"date_cell\",\"target\"])\n",
    "allPD06 = pd.merge(allPD05, PD06, on=[\"date_cell\",\"target\"])\n",
    "allPD07 = pd.merge(allPD06, PD07, on=[\"date_cell\",\"target\"])\n",
    "allPD08 = pd.merge(allPD07, PD08, on=[\"date_cell\",\"target\"])\n",
    "allPD09 = pd.merge(allPD08, PD09, on=[\"date_cell\",\"target\"])\n",
    "allPD10 = pd.merge(allPD09, PD10, on=[\"date_cell\",\"target\"])\n",
    "allPD11 = pd.merge(allPD10, PD11, on=[\"date_cell\",\"target\"])\n",
    "allPD12 = pd.merge(allPD11, PD12, on=[\"date_cell\",\"target\"])\n",
    "allPD13 = pd.merge(allPD12, PD13, on=[\"date_cell\",\"target\"])\n",
    "allPD14 = pd.merge(allPD13, PD14, on=[\"date_cell\",\"target\"])\n",
    "allPD15 = pd.merge(allPD14, PD15, on=[\"date_cell\",\"target\"])\n",
    "allPD16 = pd.merge(allPD15, PD16, on=[\"date_cell\",\"target\"])\n",
    "allPD17 = pd.merge(allPD16, PD17, on=[\"date_cell\",\"target\"])\n",
    "allPD18 = pd.merge(allPD17, PD18, on=[\"date_cell\",\"target\"])\n",
    "allPD19 = pd.merge(allPD18, PD19, on=[\"date_cell\",\"target\"])\n",
    "allPD20 = pd.merge(allPD19, PD20, on=[\"date_cell\",\"target\"])\n",
    "allPD21 = pd.merge(allPD20, PD21, on=[\"date_cell\",\"target\"])\n",
    "allPD22 = pd.merge(allPD21, PD22, on=[\"date_cell\",\"target\"])\n",
    "allPD23 = pd.merge(allPD22, PD23, on=[\"date_cell\",\"target\"])\n",
    "allPD23.head(3)"
   ]
  },
  {
   "cell_type": "code",
   "execution_count": null,
   "metadata": {
    "colab": {
     "base_uri": "https://localhost:8080/"
    },
    "executionInfo": {
     "elapsed": 75285,
     "status": "ok",
     "timestamp": 1701010148542,
     "user": {
      "displayName": "Bobbie Cavna",
      "userId": "02710482313698222145"
     },
     "user_tz": 300
    },
    "id": "J4Z7R9KgBC_u",
    "outputId": "a3c54e81-a0aa-41c3-a53f-6ef6c451fcb4"
   },
   "outputs": [],
   "source": [
    "finalKeysDF = spark.sql(\"SELECT DISTINCT date_cell,label FROM pivot\")"
   ]
  },
  {
   "cell_type": "code",
   "execution_count": null,
   "metadata": {},
   "outputs": [],
   "source": [
    "#finalKeysDF.show(5)"
   ]
  },
  {
   "cell_type": "code",
   "execution_count": null,
   "metadata": {
    "executionInfo": {
     "elapsed": 268,
     "status": "ok",
     "timestamp": 1701010308006,
     "user": {
      "displayName": "Bobbie Cavna",
      "userId": "02710482313698222145"
     },
     "user_tz": 300
    },
    "id": "1mw-iRaiCZFJ",
    "scrolled": true
   },
   "outputs": [],
   "source": [
    "finalHailKeys = finalKeysDF.rdd.filter(lambda x: x[1] == 1).map(lambda x : x[0]).collect()"
   ]
  },
  {
   "cell_type": "code",
   "execution_count": null,
   "metadata": {
    "colab": {
     "base_uri": "https://localhost:8080/"
    },
    "executionInfo": {
     "elapsed": 312,
     "status": "ok",
     "timestamp": 1701010316793,
     "user": {
      "displayName": "Bobbie Cavna",
      "userId": "02710482313698222145"
     },
     "user_tz": 300
    },
    "id": "FCC0pvNtHKEG",
    "outputId": "04cec672-9966-4c3b-82b1-f3bf41d7b3ec"
   },
   "outputs": [],
   "source": [
    "print(finalHailKeys)"
   ]
  },
  {
   "cell_type": "code",
   "execution_count": null,
   "metadata": {},
   "outputs": [],
   "source": [
    "finalNoHailKeys = finalKeysDF.rdd.filter(lambda x: x[1] == 0).map(lambda x : x[0]).collect()"
   ]
  },
  {
   "cell_type": "code",
   "execution_count": null,
   "metadata": {},
   "outputs": [],
   "source": [
    "print(finalNoHailKeys)"
   ]
  },
  {
   "cell_type": "code",
   "execution_count": null,
   "metadata": {
    "colab": {
     "base_uri": "https://localhost:8080/"
    },
    "executionInfo": {
     "elapsed": 73162,
     "status": "ok",
     "timestamp": 1701015947769,
     "user": {
      "displayName": "Bobbie Cavna",
      "userId": "02710482313698222145"
     },
     "user_tz": 300
    },
    "id": "kHlyYwiVHfzl",
    "outputId": "38107bd7-b91d-40bf-c128-c7acc35cbf38"
   },
   "outputs": [],
   "source": [
    "for k in finalHailKeys:\n",
    "      kstring = 'date_cell == ' + str(k)\n",
    "      #print(kstring)\n",
    "      #print(\"\")\n",
    "      readyPD = allPD23.query(kstring)\n",
    "      readyPD.index = readyPD.pop('date_cell')\n",
    "      outpath = homedir + '/ERA5/model_input/hail/'+ str(k) + '.npy'\n",
    "      print(\"outputting file to:\",outpath)\n",
    "      #print(\"\")\n",
    "      readyNP = readyPD.to_numpy()\n",
    "      np.save(outpath,readyNP)"
   ]
  },
  {
   "cell_type": "code",
   "execution_count": null,
   "metadata": {},
   "outputs": [],
   "source": [
    "for k in finalNoHailKeys:\n",
    "      kstring = 'date_cell == ' + str(k)\n",
    "      #print(kstring)\n",
    "      #print(\"\")\n",
    "      readyPD = allPD23.query(kstring)\n",
    "      readyPD.index = readyPD.pop('date_cell')\n",
    "      outpath = homedir + '/ERA5/model_input/nohail/'+ str(k) + '.npy'\n",
    "      print(\"outputting file to:\",outpath)\n",
    "      #print(\"\")\n",
    "      readyNP = readyPD.to_numpy()\n",
    "      np.save(outpath,readyNP)"
   ]
  }
 ],
 "metadata": {
  "colab": {
   "authorship_tag": "ABX9TyMgDJrf/pi/OJcvkheyeKD1",
   "machine_shape": "hm",
   "provenance": []
  },
  "kernelspec": {
   "display_name": "Python 3 (ipykernel)",
   "language": "python",
   "name": "python3"
  },
  "language_info": {
   "codemirror_mode": {
    "name": "ipython",
    "version": 3
   },
   "file_extension": ".py",
   "mimetype": "text/x-python",
   "name": "python",
   "nbconvert_exporter": "python",
   "pygments_lexer": "ipython3",
   "version": "3.8.10"
  }
 },
 "nbformat": 4,
 "nbformat_minor": 4
}
