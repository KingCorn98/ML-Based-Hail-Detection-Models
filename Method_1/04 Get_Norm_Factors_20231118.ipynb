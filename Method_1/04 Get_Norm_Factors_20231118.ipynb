{
 "cells": [
  {
   "cell_type": "markdown",
   "metadata": {
    "id": "WizESUclkTbN"
   },
   "source": [
    "#Preliminaries"
   ]
  },
  {
   "cell_type": "code",
   "execution_count": 1,
   "metadata": {
    "executionInfo": {
     "elapsed": 45485,
     "status": "ok",
     "timestamp": 1700331425335,
     "user": {
      "displayName": "Bobbie Cavna",
      "userId": "02710482313698222145"
     },
     "user_tz": 300
    },
    "id": "wXCTzvLVj-4o"
   },
   "outputs": [],
   "source": [
    "#!apt-get install openjdk-8-jdk-headless -qq > /dev/null\n",
    "#!wget -q https://archive.apache.org/dist/spark/spark-3.2.0/spark-3.2.0-bin-hadoop3.2.tgz\n",
    "#!tar xf spark-3.2.0-bin-hadoop3.2.tgz\n",
    "#!pip install -q findspark"
   ]
  },
  {
   "cell_type": "code",
   "execution_count": 2,
   "metadata": {
    "executionInfo": {
     "elapsed": 7,
     "status": "ok",
     "timestamp": 1700331425335,
     "user": {
      "displayName": "Bobbie Cavna",
      "userId": "02710482313698222145"
     },
     "user_tz": 300
    },
    "id": "Ny2mv3-8kGlw"
   },
   "outputs": [],
   "source": [
    "import os\n",
    "#os.environ[\"JAVA_HOME\"] = \"/usr/lib/jvm/java-8-openjdk-amd64\"\n",
    "#os.environ[\"SPARK_HOME\"] = \"spark-3.2.0-bin-hadoop3.2\""
   ]
  },
  {
   "cell_type": "code",
   "execution_count": 3,
   "metadata": {
    "executionInfo": {
     "elapsed": 5,
     "status": "ok",
     "timestamp": 1700331425336,
     "user": {
      "displayName": "Bobbie Cavna",
      "userId": "02710482313698222145"
     },
     "user_tz": 300
    },
    "id": "PSPaCsskkI-m"
   },
   "outputs": [],
   "source": [
    "import findspark\n",
    "findspark.init()"
   ]
  },
  {
   "cell_type": "code",
   "execution_count": 4,
   "metadata": {
    "colab": {
     "base_uri": "https://localhost:8080/",
     "height": 198
    },
    "executionInfo": {
     "elapsed": 16814,
     "status": "ok",
     "timestamp": 1700331442145,
     "user": {
      "displayName": "Bobbie Cavna",
      "userId": "02710482313698222145"
     },
     "user_tz": 300
    },
    "id": "KVFRfWXDkJjN",
    "outputId": "14626664-ad7e-422d-bd1f-faf865f481f7"
   },
   "outputs": [
    {
     "name": "stderr",
     "output_type": "stream",
     "text": [
      "Setting default log level to \"WARN\".\n",
      "To adjust logging level use sc.setLogLevel(newLevel). For SparkR, use setLogLevel(newLevel).\n",
      "23/12/07 05:32:10 WARN NativeCodeLoader: Unable to load native-hadoop library for your platform... using builtin-java classes where applicable\n",
      "23/12/07 05:32:10 WARN Utils: Service 'SparkUI' could not bind on port 4040. Attempting port 4041.\n"
     ]
    },
    {
     "data": {
      "text/html": [
       "\n",
       "        <div>\n",
       "            <p><b>SparkContext</b></p>\n",
       "\n",
       "            <p><a href=\"http://aiRig1:4041\">Spark UI</a></p>\n",
       "\n",
       "            <dl>\n",
       "              <dt>Version</dt>\n",
       "                <dd><code>v3.5.0</code></dd>\n",
       "              <dt>Master</dt>\n",
       "                <dd><code>local[*]</code></dd>\n",
       "              <dt>AppName</dt>\n",
       "                <dd><code>pyspark-shell</code></dd>\n",
       "            </dl>\n",
       "        </div>\n",
       "        "
      ],
      "text/plain": [
       "<SparkContext master=local[*] appName=pyspark-shell>"
      ]
     },
     "execution_count": 4,
     "metadata": {},
     "output_type": "execute_result"
    }
   ],
   "source": [
    "from pyspark.sql import SparkSession\n",
    "spark = SparkSession.builder.master(\"local[*]\").getOrCreate()\n",
    "sc = spark.sparkContext\n",
    "sc"
   ]
  },
  {
   "cell_type": "code",
   "execution_count": 5,
   "metadata": {
    "executionInfo": {
     "elapsed": 5,
     "status": "ok",
     "timestamp": 1700331442145,
     "user": {
      "displayName": "Bobbie Cavna",
      "userId": "02710482313698222145"
     },
     "user_tz": 300
    },
    "id": "arOb03DmkNQN"
   },
   "outputs": [],
   "source": [
    "import pyspark.sql\n",
    "from pyspark.sql import Row\n",
    "from pyspark.sql.types import *\n",
    "import json"
   ]
  },
  {
   "cell_type": "code",
   "execution_count": 6,
   "metadata": {
    "colab": {
     "base_uri": "https://localhost:8080/"
    },
    "executionInfo": {
     "elapsed": 15418,
     "status": "ok",
     "timestamp": 1700331457559,
     "user": {
      "displayName": "Bobbie Cavna",
      "userId": "02710482313698222145"
     },
     "user_tz": 300
    },
    "id": "AmBQk2wekQxN",
    "outputId": "d86d1adc-48a0-4323-abe5-df47fea2686a"
   },
   "outputs": [],
   "source": [
    "#from google.colab import drive\n",
    "#drive.mount('/content/drive')"
   ]
  },
  {
   "cell_type": "code",
   "execution_count": 7,
   "metadata": {
    "executionInfo": {
     "elapsed": 1914,
     "status": "ok",
     "timestamp": 1700331459469,
     "user": {
      "displayName": "Bobbie Cavna",
      "userId": "02710482313698222145"
     },
     "user_tz": 300
    },
    "id": "ZhWYz-uFkn7l"
   },
   "outputs": [],
   "source": [
    "import numpy as np\n",
    "np.set_printoptions(threshold=np.inf,linewidth=np.inf)\n",
    "import string\n",
    "import math\n",
    "import statistics\n",
    "import pandas as pd\n",
    "pd.set_option('display.max_colwidth', None)"
   ]
  },
  {
   "cell_type": "code",
   "execution_count": 8,
   "metadata": {},
   "outputs": [],
   "source": [
    " homedir = '/home/bcavna/Documents'"
   ]
  },
  {
   "cell_type": "markdown",
   "metadata": {
    "id": "HUJ6S2HmvVvb"
   },
   "source": [
    "#Get Wind Speed Normalization Factors"
   ]
  },
  {
   "cell_type": "markdown",
   "metadata": {
    "id": "O1xsIdVZu3as"
   },
   "source": [
    "Get wind speed values that were collected during data pre-processing"
   ]
  },
  {
   "cell_type": "code",
   "execution_count": 9,
   "metadata": {
    "colab": {
     "base_uri": "https://localhost:8080/"
    },
    "executionInfo": {
     "elapsed": 153,
     "status": "ok",
     "timestamp": 1700335486244,
     "user": {
      "displayName": "Bobbie Cavna",
      "userId": "02710482313698222145"
     },
     "user_tz": 300
    },
    "id": "7pzx3EwVkqPO",
    "outputId": "35d6b165-541d-455e-ccad-9186912a676f"
   },
   "outputs": [
    {
     "name": "stdout",
     "output_type": "stream",
     "text": [
      "/home/bcavna/Documents/ERA5/processed/normvals/WS/*\n"
     ]
    }
   ],
   "source": [
    "wsPath =  homedir + '/ERA5/processed/normvals/WS/*'\n",
    "print(wsPath)"
   ]
  },
  {
   "cell_type": "code",
   "execution_count": 10,
   "metadata": {
    "colab": {
     "base_uri": "https://localhost:8080/"
    },
    "executionInfo": {
     "elapsed": 518,
     "status": "ok",
     "timestamp": 1700335497612,
     "user": {
      "displayName": "Bobbie Cavna",
      "userId": "02710482313698222145"
     },
     "user_tz": 300
    },
    "id": "bIpBSOIVmdw9",
    "outputId": "e0361093-c3c6-4363-9443-8c17e8964283"
   },
   "outputs": [
    {
     "name": "stderr",
     "output_type": "stream",
     "text": [
      "                                                                                \r"
     ]
    },
    {
     "name": "stdout",
     "output_type": "stream",
     "text": [
      "+---+------+--------+\n",
      "|_c0|WS_SUM|WS_COUNT|\n",
      "+---+------+--------+\n",
      "|  0|   0.0|    5269|\n",
      "|  1|   1.0|   55885|\n",
      "|  2|   2.0|  140801|\n",
      "|  3|   3.0|  190289|\n",
      "|  4|   4.0|  211536|\n",
      "+---+------+--------+\n",
      "only showing top 5 rows\n",
      "\n"
     ]
    },
    {
     "name": "stderr",
     "output_type": "stream",
     "text": [
      "23/12/07 05:32:15 WARN CSVHeaderChecker: CSV header does not conform to the schema.\n",
      " Header: , WS_SUM, WS_COUNT\n",
      " Schema: _c0, WS_SUM, WS_COUNT\n",
      "Expected: _c0 but found: \n",
      "CSV file: file:///home/bcavna/Documents/ERA5/processed/normvals/WS/WS_FREQ_201512.csv\n"
     ]
    }
   ],
   "source": [
    "rawdataDF = spark.read.csv(wsPath, header=\"true\")\n",
    "rawdataDF.createOrReplaceTempView(\"ws\")\n",
    "rawdataDF.show(5)"
   ]
  },
  {
   "cell_type": "code",
   "execution_count": 11,
   "metadata": {
    "colab": {
     "base_uri": "https://localhost:8080/"
    },
    "executionInfo": {
     "elapsed": 547,
     "status": "ok",
     "timestamp": 1700335504821,
     "user": {
      "displayName": "Bobbie Cavna",
      "userId": "02710482313698222145"
     },
     "user_tz": 300
    },
    "id": "37AWgFcZm6CT",
    "outputId": "03982693-b3a6-4de3-9fd9-69850a529ebb"
   },
   "outputs": [
    {
     "name": "stderr",
     "output_type": "stream",
     "text": [
      "[Stage 4:==================================>                     (18 + 11) / 29]\r"
     ]
    },
    {
     "name": "stdout",
     "output_type": "stream",
     "text": [
      "+---+-----------+\n",
      "| WS|   WS_COUNT|\n",
      "+---+-----------+\n",
      "|0.0|  3309654.0|\n",
      "|1.0|2.6855975E7|\n",
      "|2.0|5.3327146E7|\n",
      "|3.0|6.5258814E7|\n",
      "|4.0|7.1220865E7|\n",
      "|5.0|7.3904752E7|\n",
      "|6.0|7.4224084E7|\n",
      "|7.0|7.3079824E7|\n",
      "|8.0|7.0961494E7|\n",
      "|9.0|6.8234437E7|\n",
      "+---+-----------+\n",
      "only showing top 10 rows\n",
      "\n"
     ]
    },
    {
     "name": "stderr",
     "output_type": "stream",
     "text": [
      "                                                                                \r"
     ]
    }
   ],
   "source": [
    "wstotDF = spark.sql(\"SELECT WS_SUM AS WS, SUM(WS_COUNT) AS WS_COUNT FROM ws GROUP BY WS_SUM ORDER BY WS_SUM*1\")\n",
    "wstotDF.show(10)"
   ]
  },
  {
   "cell_type": "markdown",
   "metadata": {
    "id": "tu-XEdk1vIcE"
   },
   "source": [
    "Calculate cdf values to use for normalization"
   ]
  },
  {
   "cell_type": "code",
   "execution_count": 12,
   "metadata": {
    "executionInfo": {
     "elapsed": 2463,
     "status": "ok",
     "timestamp": 1700331488213,
     "user": {
      "displayName": "Bobbie Cavna",
      "userId": "02710482313698222145"
     },
     "user_tz": 300
    },
    "id": "2ro2tGbEpHvj"
   },
   "outputs": [],
   "source": [
    "wslist = wstotDF.rdd.map(lambda x: (float(x[0]),x[1])).collect()"
   ]
  },
  {
   "cell_type": "code",
   "execution_count": 13,
   "metadata": {
    "colab": {
     "base_uri": "https://localhost:8080/"
    },
    "executionInfo": {
     "elapsed": 395,
     "status": "ok",
     "timestamp": 1700331488603,
     "user": {
      "displayName": "Bobbie Cavna",
      "userId": "02710482313698222145"
     },
     "user_tz": 300
    },
    "id": "b2ri1eIPrfoH",
    "outputId": "bd1dd63b-22c1-4e51-fc98-6880cc72ad07"
   },
   "outputs": [
    {
     "name": "stdout",
     "output_type": "stream",
     "text": [
      "[3309654.0, 26855975.0, 53327146.0, 65258814.0, 71220865.0, 73904752.0, 74224084.0, 73079824.0, 70961494.0, 68234437.0, 65161840.0, 62007385.0, 58818582.0, 55621746.0, 52433374.0, 49366346.0, 46472561.0, 43703740.0, 41065437.0, 38614380.0, 36329949.0, 34141196.0, 32064283.0, 30162083.0, 28322858.0, 26606968.0, 25022830.0, 23568759.0, 22246812.0, 21000997.0, 19806872.0, 18697785.0, 17662202.0, 16699702.0, 15769121.0, 14922754.0, 14101110.0, 13330642.0, 12576793.0, 11875758.0, 11219556.0, 10578911.0, 9984391.0, 9401784.0, 8860559.0, 8319084.0, 7823481.0, 7349739.0, 6914760.0, 6514202.0, 6111124.0, 5728029.0, 5375002.0, 5049710.0, 4744623.0, 4449985.0, 4174200.0, 3919789.0, 3670183.0, 3431583.0, 3208009.0, 3003913.0, 2808070.0, 2626653.0, 2460518.0, 2304129.0, 2166791.0, 2034953.0, 1914686.0, 1791173.0, 1662670.0, 1543144.0, 1429594.0, 1328474.0, 1233364.0, 1147395.0, 1063802.0, 986877.0, 920071.0, 857423.0, 802694.0, 753482.0, 713159.0, 674712.0, 640441.0, 606752.0, 570109.0, 537028.0, 505270.0, 478340.0, 458698.0, 434325.0, 414425.0, 392919.0, 371719.0, 355073.0, 335349.0, 317930.0, 304594.0, 292249.0, 278010.0, 264107.0, 253061.0, 240463.0, 228349.0, 214253.0, 199512.0, 189057.0, 181011.0, 172433.0, 166703.0, 156731.0, 149900.0, 142749.0, 132046.0, 123750.0, 115481.0, 109141.0, 102173.0, 96725.0, 88512.0, 83893.0, 77935.0, 72490.0, 67428.0, 60739.0, 56290.0, 50961.0, 47359.0, 43379.0, 39491.0, 34749.0, 30618.0, 27928.0, 25485.0, 23331.0, 20646.0, 18369.0, 16224.0, 14658.0, 12876.0, 11550.0, 10257.0, 8989.0, 7625.0, 6407.0, 5470.0, 4778.0, 4508.0, 3971.0, 3334.0, 2657.0, 2148.0, 1885.0, 1604.0, 1460.0, 1286.0, 1151.0, 984.0, 797.0, 684.0, 598.0, 456.0, 376.0, 318.0, 243.0, 175.0, 136.0, 78.0, 68.0, 43.0, 40.0, 37.0, 27.0, 27.0, 21.0, 14.0, 18.0, 6.0]\n"
     ]
    }
   ],
   "source": [
    "wstot = wstotDF.rdd.map(lambda x: x[1]).collect()\n",
    "print(wstot)"
   ]
  },
  {
   "cell_type": "code",
   "execution_count": 14,
   "metadata": {
    "colab": {
     "base_uri": "https://localhost:8080/"
    },
    "executionInfo": {
     "elapsed": 5,
     "status": "ok",
     "timestamp": 1700331488603,
     "user": {
      "displayName": "Bobbie Cavna",
      "userId": "02710482313698222145"
     },
     "user_tz": 300
    },
    "id": "o8bkX6JYpSsx",
    "outputId": "09f13a89-f53c-4a62-feb0-45f762147e95"
   },
   "outputs": [
    {
     "data": {
      "text/plain": [
       "[(0.0, 3309654.0),\n",
       " (1.0, 26855975.0),\n",
       " (2.0, 53327146.0),\n",
       " (3.0, 65258814.0),\n",
       " (4.0, 71220865.0)]"
      ]
     },
     "execution_count": 14,
     "metadata": {},
     "output_type": "execute_result"
    }
   ],
   "source": [
    "wslist[:5]"
   ]
  },
  {
   "cell_type": "code",
   "execution_count": 15,
   "metadata": {
    "executionInfo": {
     "elapsed": 5,
     "status": "ok",
     "timestamp": 1700331488604,
     "user": {
      "displayName": "Bobbie Cavna",
      "userId": "02710482313698222145"
     },
     "user_tz": 300
    },
    "id": "xNoVJPCFqGaQ"
   },
   "outputs": [],
   "source": [
    "def getCDF(slist,stot):\n",
    "  run = 0\n",
    "  dist = []\n",
    "  for l in slist:\n",
    "    run += l[1]\n",
    "    dist.append([l[0],l[1],round(run/stot,2)])\n",
    "  return dist"
   ]
  },
  {
   "cell_type": "code",
   "execution_count": 16,
   "metadata": {
    "colab": {
     "base_uri": "https://localhost:8080/"
    },
    "executionInfo": {
     "elapsed": 4,
     "status": "ok",
     "timestamp": 1700331488604,
     "user": {
      "displayName": "Bobbie Cavna",
      "userId": "02710482313698222145"
     },
     "user_tz": 300
    },
    "id": "71qVli9gt01k",
    "outputId": "e560138e-e60a-488f-b98e-79bed966c54a"
   },
   "outputs": [
    {
     "name": "stdout",
     "output_type": "stream",
     "text": [
      "[[0.0, 3309654.0, 0.0], [1.0, 26855975.0, 0.02], [2.0, 53327146.0, 0.05], [3.0, 65258814.0, 0.09], [4.0, 71220865.0, 0.13]]\n"
     ]
    }
   ],
   "source": [
    "cdf = getCDF(wslist,sum(wstot))\n",
    "print(cdf[:5])"
   ]
  },
  {
   "cell_type": "code",
   "execution_count": 17,
   "metadata": {
    "executionInfo": {
     "elapsed": 583,
     "status": "ok",
     "timestamp": 1700335415296,
     "user": {
      "displayName": "Bobbie Cavna",
      "userId": "02710482313698222145"
     },
     "user_tz": 300
    },
    "id": "A6LC13vYuAdl"
   },
   "outputs": [],
   "source": [
    "headers = ['ws','freq','cdf']\n",
    "cdfR = sc.parallelize(cdf)\n",
    "cdfPD = cdfR.toDF(headers).toPandas()"
   ]
  },
  {
   "cell_type": "code",
   "execution_count": 18,
   "metadata": {
    "colab": {
     "base_uri": "https://localhost:8080/",
     "height": 206
    },
    "executionInfo": {
     "elapsed": 143,
     "status": "ok",
     "timestamp": 1700335425571,
     "user": {
      "displayName": "Bobbie Cavna",
      "userId": "02710482313698222145"
     },
     "user_tz": 300
    },
    "id": "Pr7nVKSM44Yb",
    "outputId": "1aed8fe1-b823-4686-9afe-4f5aa6a81665"
   },
   "outputs": [
    {
     "data": {
      "text/html": [
       "<div>\n",
       "<style scoped>\n",
       "    .dataframe tbody tr th:only-of-type {\n",
       "        vertical-align: middle;\n",
       "    }\n",
       "\n",
       "    .dataframe tbody tr th {\n",
       "        vertical-align: top;\n",
       "    }\n",
       "\n",
       "    .dataframe thead th {\n",
       "        text-align: right;\n",
       "    }\n",
       "</style>\n",
       "<table border=\"1\" class=\"dataframe\">\n",
       "  <thead>\n",
       "    <tr style=\"text-align: right;\">\n",
       "      <th></th>\n",
       "      <th>ws</th>\n",
       "      <th>freq</th>\n",
       "      <th>cdf</th>\n",
       "    </tr>\n",
       "  </thead>\n",
       "  <tbody>\n",
       "    <tr>\n",
       "      <th>0</th>\n",
       "      <td>0.0</td>\n",
       "      <td>3309654.0</td>\n",
       "      <td>0.00</td>\n",
       "    </tr>\n",
       "    <tr>\n",
       "      <th>1</th>\n",
       "      <td>1.0</td>\n",
       "      <td>26855975.0</td>\n",
       "      <td>0.02</td>\n",
       "    </tr>\n",
       "    <tr>\n",
       "      <th>2</th>\n",
       "      <td>2.0</td>\n",
       "      <td>53327146.0</td>\n",
       "      <td>0.05</td>\n",
       "    </tr>\n",
       "    <tr>\n",
       "      <th>3</th>\n",
       "      <td>3.0</td>\n",
       "      <td>65258814.0</td>\n",
       "      <td>0.09</td>\n",
       "    </tr>\n",
       "    <tr>\n",
       "      <th>4</th>\n",
       "      <td>4.0</td>\n",
       "      <td>71220865.0</td>\n",
       "      <td>0.13</td>\n",
       "    </tr>\n",
       "    <tr>\n",
       "      <th>5</th>\n",
       "      <td>5.0</td>\n",
       "      <td>73904752.0</td>\n",
       "      <td>0.17</td>\n",
       "    </tr>\n",
       "    <tr>\n",
       "      <th>6</th>\n",
       "      <td>6.0</td>\n",
       "      <td>74224084.0</td>\n",
       "      <td>0.21</td>\n",
       "    </tr>\n",
       "    <tr>\n",
       "      <th>7</th>\n",
       "      <td>7.0</td>\n",
       "      <td>73079824.0</td>\n",
       "      <td>0.26</td>\n",
       "    </tr>\n",
       "    <tr>\n",
       "      <th>8</th>\n",
       "      <td>8.0</td>\n",
       "      <td>70961494.0</td>\n",
       "      <td>0.30</td>\n",
       "    </tr>\n",
       "    <tr>\n",
       "      <th>9</th>\n",
       "      <td>9.0</td>\n",
       "      <td>68234437.0</td>\n",
       "      <td>0.34</td>\n",
       "    </tr>\n",
       "  </tbody>\n",
       "</table>\n",
       "</div>"
      ],
      "text/plain": [
       "    ws        freq   cdf\n",
       "0  0.0   3309654.0  0.00\n",
       "1  1.0  26855975.0  0.02\n",
       "2  2.0  53327146.0  0.05\n",
       "3  3.0  65258814.0  0.09\n",
       "4  4.0  71220865.0  0.13\n",
       "5  5.0  73904752.0  0.17\n",
       "6  6.0  74224084.0  0.21\n",
       "7  7.0  73079824.0  0.26\n",
       "8  8.0  70961494.0  0.30\n",
       "9  9.0  68234437.0  0.34"
      ]
     },
     "execution_count": 18,
     "metadata": {},
     "output_type": "execute_result"
    }
   ],
   "source": [
    "cdfPD.head(10)"
   ]
  },
  {
   "cell_type": "code",
   "execution_count": 19,
   "metadata": {
    "colab": {
     "base_uri": "https://localhost:8080/"
    },
    "executionInfo": {
     "elapsed": 103,
     "status": "ok",
     "timestamp": 1700335559530,
     "user": {
      "displayName": "Bobbie Cavna",
      "userId": "02710482313698222145"
     },
     "user_tz": 300
    },
    "id": "aJrhG00x5Qx2",
    "outputId": "75acd17c-d352-4b49-bcb7-4a026119b0e8"
   },
   "outputs": [
    {
     "name": "stdout",
     "output_type": "stream",
     "text": [
      "/home/bcavna/Documents/ERA5/processed/normvals/ws_facs.cvs\n"
     ]
    }
   ],
   "source": [
    "wsOut = homedir + '/ERA5/processed/normvals/ws_facs.cvs'\n",
    "print(wsOut)"
   ]
  },
  {
   "cell_type": "code",
   "execution_count": 20,
   "metadata": {
    "executionInfo": {
     "elapsed": 124,
     "status": "ok",
     "timestamp": 1700335593095,
     "user": {
      "displayName": "Bobbie Cavna",
      "userId": "02710482313698222145"
     },
     "user_tz": 300
    },
    "id": "A9kfxf4g5bFS"
   },
   "outputs": [],
   "source": [
    "cdfPD.to_csv(wsOut)"
   ]
  },
  {
   "cell_type": "markdown",
   "metadata": {
    "id": "wKnACAyGtHUF"
   },
   "source": [
    "#Get Verticle Wind Normalization Factors"
   ]
  },
  {
   "cell_type": "code",
   "execution_count": 21,
   "metadata": {
    "colab": {
     "base_uri": "https://localhost:8080/"
    },
    "executionInfo": {
     "elapsed": 102,
     "status": "ok",
     "timestamp": 1700332444047,
     "user": {
      "displayName": "Bobbie Cavna",
      "userId": "02710482313698222145"
     },
     "user_tz": 300
    },
    "id": "QxkhRlGCtE7s",
    "outputId": "7a1d50fa-122d-4284-bd9c-1a095c1899a0"
   },
   "outputs": [
    {
     "name": "stdout",
     "output_type": "stream",
     "text": [
      "/home/bcavna/Documents/ERA5/processed/normvals/VV/*\n"
     ]
    }
   ],
   "source": [
    "myPath2 = homedir + '/ERA5/processed/normvals/VV/*'\n",
    "print(myPath2)"
   ]
  },
  {
   "cell_type": "code",
   "execution_count": 22,
   "metadata": {
    "colab": {
     "base_uri": "https://localhost:8080/"
    },
    "executionInfo": {
     "elapsed": 1187,
     "status": "ok",
     "timestamp": 1700332510066,
     "user": {
      "displayName": "Bobbie Cavna",
      "userId": "02710482313698222145"
     },
     "user_tz": 300
    },
    "id": "kTfK4CLbttwl",
    "outputId": "cfc88d81-1d8f-4473-9ca2-a3b9dd10bf06"
   },
   "outputs": [
    {
     "name": "stdout",
     "output_type": "stream",
     "text": [
      "+---+-----+--------+\n",
      "|_c0|   vv|VV_COUNT|\n",
      "+---+-----+--------+\n",
      "|  0|-16.0|       1|\n",
      "|  1|-15.0|       2|\n",
      "|  2|-14.0|       1|\n",
      "|  3|-13.0|       5|\n",
      "|  4|-12.0|       5|\n",
      "+---+-----+--------+\n",
      "only showing top 5 rows\n",
      "\n"
     ]
    },
    {
     "name": "stderr",
     "output_type": "stream",
     "text": [
      "23/12/07 05:32:18 WARN CSVHeaderChecker: CSV header does not conform to the schema.\n",
      " Header: , vv, VV_COUNT\n",
      " Schema: _c0, vv, VV_COUNT\n",
      "Expected: _c0 but found: \n",
      "CSV file: file:///home/bcavna/Documents/ERA5/processed/normvals/VV/VV_FREQ_201606.csv\n"
     ]
    }
   ],
   "source": [
    "rawdataDF2 = spark.read.csv(myPath2, header=\"true\")\n",
    "rawdataDF2.createOrReplaceTempView(\"vv\")\n",
    "rawdataDF2.show(5)"
   ]
  },
  {
   "cell_type": "code",
   "execution_count": 23,
   "metadata": {
    "colab": {
     "base_uri": "https://localhost:8080/"
    },
    "executionInfo": {
     "elapsed": 827,
     "status": "ok",
     "timestamp": 1700352909611,
     "user": {
      "displayName": "Bobbie Cavna",
      "userId": "02710482313698222145"
     },
     "user_tz": 300
    },
    "id": "09aY2YQDvY-h",
    "outputId": "ac4b3986-1f0e-452d-b981-a4a13297368e"
   },
   "outputs": [
    {
     "name": "stdout",
     "output_type": "stream",
     "text": [
      "+-----+-------------+\n",
      "|   vv|     vv_COUNT|\n",
      "+-----+-------------+\n",
      "|-16.0|          1.0|\n",
      "|-15.0|          2.0|\n",
      "|-14.0|          8.0|\n",
      "|-13.0|         21.0|\n",
      "|-12.0|         23.0|\n",
      "|-11.0|         70.0|\n",
      "|-10.0|        152.0|\n",
      "| -9.0|        367.0|\n",
      "| -8.0|        945.0|\n",
      "| -7.0|       2817.0|\n",
      "| -6.0|       9198.0|\n",
      "| -5.0|      30948.0|\n",
      "| -4.0|     111625.0|\n",
      "| -3.0|     480512.0|\n",
      "| -2.0|    2790134.0|\n",
      "| -1.0|  3.4649545E7|\n",
      "|  0.0|1.946415537E9|\n",
      "|  1.0|  1.4322364E7|\n",
      "|  2.0|     185036.0|\n",
      "|  3.0|      10668.0|\n",
      "|  4.0|        656.0|\n",
      "|  5.0|         35.0|\n",
      "+-----+-------------+\n",
      "\n"
     ]
    }
   ],
   "source": [
    "vvDistDF = spark.sql(\"SELECT vv AS vv, SUM(vv_COUNT) AS vv_COUNT FROM vv GROUP BY vv ORDER BY vv*1 \")\n",
    "vvDistDF.show(500)"
   ]
  },
  {
   "cell_type": "code",
   "execution_count": 24,
   "metadata": {
    "colab": {
     "base_uri": "https://localhost:8080/"
    },
    "executionInfo": {
     "elapsed": 455,
     "status": "ok",
     "timestamp": 1700335163674,
     "user": {
      "displayName": "Bobbie Cavna",
      "userId": "02710482313698222145"
     },
     "user_tz": 300
    },
    "id": "zEhp_T9Y3WN3",
    "outputId": "ddcabd0d-5a32-464a-ccee-64be388e90c0"
   },
   "outputs": [
    {
     "name": "stdout",
     "output_type": "stream",
     "text": [
      "+------------+-------------+\n",
      "|     sumprod|    TOT_COUNT|\n",
      "+------------+-------------+\n",
      "|-2.7634117E7|1.999010664E9|\n",
      "+------------+-------------+\n",
      "\n"
     ]
    }
   ],
   "source": [
    "vvtotDF = spark.sql(\"SELECT SUM(vv*vv_COUNT) AS sumprod, SUM(vv_COUNT) AS TOT_COUNT  FROM vv\")\n",
    "vvtotDF.show(500)"
   ]
  },
  {
   "cell_type": "code",
   "execution_count": 25,
   "metadata": {
    "executionInfo": {
     "elapsed": 224,
     "status": "ok",
     "timestamp": 1700335310066,
     "user": {
      "displayName": "Bobbie Cavna",
      "userId": "02710482313698222145"
     },
     "user_tz": 300
    },
    "id": "tHsz1Jiq4FRL"
   },
   "outputs": [],
   "source": [
    "vvAVG = vvtotDF.rdd.map(lambda x: x[0]/x[1]).collect()"
   ]
  },
  {
   "cell_type": "code",
   "execution_count": 26,
   "metadata": {
    "colab": {
     "base_uri": "https://localhost:8080/"
    },
    "executionInfo": {
     "elapsed": 135,
     "status": "ok",
     "timestamp": 1700335311346,
     "user": {
      "displayName": "Bobbie Cavna",
      "userId": "02710482313698222145"
     },
     "user_tz": 300
    },
    "id": "3JKtPEjB4PXj",
    "outputId": "1b3558ec-0e1f-408a-8ad9-37458d241b4e"
   },
   "outputs": [
    {
     "name": "stdout",
     "output_type": "stream",
     "text": [
      "[-0.013823896739352262]\n"
     ]
    }
   ],
   "source": [
    "print(vvAVG)"
   ]
  },
  {
   "cell_type": "code",
   "execution_count": 27,
   "metadata": {
    "executionInfo": {
     "elapsed": 260,
     "status": "ok",
     "timestamp": 1700352243855,
     "user": {
      "displayName": "Bobbie Cavna",
      "userId": "02710482313698222145"
     },
     "user_tz": 300
    },
    "id": "6Pe3PZRM4x0n"
   },
   "outputs": [],
   "source": [
    "vvCount = vvtotDF.rdd.map(lambda x: x[1]).collect()"
   ]
  },
  {
   "cell_type": "code",
   "execution_count": 28,
   "metadata": {
    "colab": {
     "base_uri": "https://localhost:8080/"
    },
    "executionInfo": {
     "elapsed": 142,
     "status": "ok",
     "timestamp": 1700352245335,
     "user": {
      "displayName": "Bobbie Cavna",
      "userId": "02710482313698222145"
     },
     "user_tz": 300
    },
    "id": "_e02Ofcr4-iO",
    "outputId": "c60f7950-e62d-4516-f657-93caa00b3d07"
   },
   "outputs": [
    {
     "name": "stdout",
     "output_type": "stream",
     "text": [
      "[1999010664.0]\n"
     ]
    }
   ],
   "source": [
    "print(vvCount)"
   ]
  },
  {
   "cell_type": "code",
   "execution_count": 29,
   "metadata": {
    "executionInfo": {
     "elapsed": 108,
     "status": "ok",
     "timestamp": 1700353486551,
     "user": {
      "displayName": "Bobbie Cavna",
      "userId": "02710482313698222145"
     },
     "user_tz": 300
    },
    "id": "FHGIpeUW4Oli"
   },
   "outputs": [],
   "source": [
    "def vvStdv(xlist):\n",
    "  outList = []\n",
    "  for x in xlist:\n",
    "    n = (float(x[0])-vvAVG[0])**2\n",
    "    t = n*float(x[1])\n",
    "    s = t/(vvCount[0]-1)\n",
    "    outList.append(s)\n",
    "  return sum(outList)"
   ]
  },
  {
   "cell_type": "code",
   "execution_count": 30,
   "metadata": {
    "colab": {
     "base_uri": "https://localhost:8080/"
    },
    "executionInfo": {
     "elapsed": 235,
     "status": "ok",
     "timestamp": 1700353320095,
     "user": {
      "displayName": "Bobbie Cavna",
      "userId": "02710482313698222145"
     },
     "user_tz": 300
    },
    "id": "OwtnxJg75gOa",
    "outputId": "e44e67a8-f9f0-48e5-f8cd-cbfdca33938b"
   },
   "outputs": [
    {
     "name": "stdout",
     "output_type": "stream",
     "text": [
      "[[-16.0, 1.0], [-15.0, 2.0], [-14.0, 8.0], [-13.0, 21.0], [-12.0, 23.0], [-11.0, 70.0], [-10.0, 152.0], [-9.0, 367.0], [-8.0, 945.0], [-7.0, 2817.0], [-6.0, 9198.0], [-5.0, 30948.0], [-4.0, 111625.0], [-3.0, 480512.0], [-2.0, 2790134.0], [-1.0, 34649545.0], [0.0, 1946415537.0], [1.0, 14322364.0], [2.0, 185036.0], [3.0, 10668.0], [4.0, 656.0], [5.0, 35.0]]\n"
     ]
    }
   ],
   "source": [
    "vvList = vvDistDF.rdd.map(lambda x: list([float(x[0]),float(x[1])])).collect()\n",
    "print(vvList)"
   ]
  },
  {
   "cell_type": "code",
   "execution_count": 31,
   "metadata": {
    "colab": {
     "base_uri": "https://localhost:8080/"
    },
    "executionInfo": {
     "elapsed": 123,
     "status": "ok",
     "timestamp": 1700353488158,
     "user": {
      "displayName": "Bobbie Cavna",
      "userId": "02710482313698222145"
     },
     "user_tz": 300
    },
    "id": "cvDGUr6F8JFt",
    "outputId": "65a0e36d-6cc5-454c-862d-650a1503fc09"
   },
   "outputs": [
    {
     "data": {
      "text/plain": [
       "0.03405406638399148"
      ]
     },
     "execution_count": 31,
     "metadata": {},
     "output_type": "execute_result"
    }
   ],
   "source": [
    "vvStdv(vvList)"
   ]
  },
  {
   "cell_type": "code",
   "execution_count": 32,
   "metadata": {
    "colab": {
     "base_uri": "https://localhost:8080/"
    },
    "executionInfo": {
     "elapsed": 223,
     "status": "ok",
     "timestamp": 1700358304946,
     "user": {
      "displayName": "Bobbie Cavna",
      "userId": "02710482313698222145"
     },
     "user_tz": 300
    },
    "id": "pgsDTQIGJchA",
    "outputId": "9cfdae6f-6046-44d2-8c26-e10fb11382de"
   },
   "outputs": [
    {
     "name": "stdout",
     "output_type": "stream",
     "text": [
      "[-0.01, 0.18]\n"
     ]
    }
   ],
   "source": [
    "vvFacs = [round(float(vvAVG[0]),2),round(math.sqrt(vvStdv(vvList)),2)]\n",
    "print(vvFacs)"
   ]
  },
  {
   "cell_type": "code",
   "execution_count": 33,
   "metadata": {
    "colab": {
     "base_uri": "https://localhost:8080/"
    },
    "executionInfo": {
     "elapsed": 100,
     "status": "ok",
     "timestamp": 1700358783200,
     "user": {
      "displayName": "Bobbie Cavna",
      "userId": "02710482313698222145"
     },
     "user_tz": 300
    },
    "id": "FUVq6NBbR3s5",
    "outputId": "62d2e887-4e0e-49ef-e671-fc7b645251c8"
   },
   "outputs": [
    {
     "data": {
      "text/plain": [
       "array([[0., 0.]])"
      ]
     },
     "execution_count": 33,
     "metadata": {},
     "output_type": "execute_result"
    }
   ],
   "source": [
    "mat = np.zeros((1,2),float)\n",
    "mat"
   ]
  },
  {
   "cell_type": "code",
   "execution_count": 34,
   "metadata": {
    "colab": {
     "base_uri": "https://localhost:8080/"
    },
    "executionInfo": {
     "elapsed": 110,
     "status": "ok",
     "timestamp": 1700358915894,
     "user": {
      "displayName": "Bobbie Cavna",
      "userId": "02710482313698222145"
     },
     "user_tz": 300
    },
    "id": "GzuOP3rVSBUv",
    "outputId": "0e11b742-8701-4502-a534-18d6b8cf971c"
   },
   "outputs": [
    {
     "data": {
      "text/plain": [
       "array([[-0.01,  0.18]])"
      ]
     },
     "execution_count": 34,
     "metadata": {},
     "output_type": "execute_result"
    }
   ],
   "source": [
    "mat[0,0] = vvFacs[0]\n",
    "mat[0,1] = vvFacs[1]\n",
    "mat"
   ]
  },
  {
   "cell_type": "code",
   "execution_count": 35,
   "metadata": {
    "colab": {
     "base_uri": "https://localhost:8080/",
     "height": 81
    },
    "executionInfo": {
     "elapsed": 118,
     "status": "ok",
     "timestamp": 1700358962508,
     "user": {
      "displayName": "Bobbie Cavna",
      "userId": "02710482313698222145"
     },
     "user_tz": 300
    },
    "id": "bbruqtoMSk9o",
    "outputId": "e8aa28f0-559c-469c-a4b9-05f714211420"
   },
   "outputs": [
    {
     "data": {
      "text/html": [
       "<div>\n",
       "<style scoped>\n",
       "    .dataframe tbody tr th:only-of-type {\n",
       "        vertical-align: middle;\n",
       "    }\n",
       "\n",
       "    .dataframe tbody tr th {\n",
       "        vertical-align: top;\n",
       "    }\n",
       "\n",
       "    .dataframe thead th {\n",
       "        text-align: right;\n",
       "    }\n",
       "</style>\n",
       "<table border=\"1\" class=\"dataframe\">\n",
       "  <thead>\n",
       "    <tr style=\"text-align: right;\">\n",
       "      <th></th>\n",
       "      <th>vvMean</th>\n",
       "      <th>vvStdv</th>\n",
       "    </tr>\n",
       "  </thead>\n",
       "  <tbody>\n",
       "    <tr>\n",
       "      <th>0</th>\n",
       "      <td>-0.01</td>\n",
       "      <td>0.18</td>\n",
       "    </tr>\n",
       "  </tbody>\n",
       "</table>\n",
       "</div>"
      ],
      "text/plain": [
       "   vvMean  vvStdv\n",
       "0   -0.01    0.18"
      ]
     },
     "execution_count": 35,
     "metadata": {},
     "output_type": "execute_result"
    }
   ],
   "source": [
    "vvPD = pd.DataFrame(data=mat,columns=['vvMean','vvStdv'])\n",
    "vvPD.head()"
   ]
  },
  {
   "cell_type": "code",
   "execution_count": 36,
   "metadata": {
    "colab": {
     "base_uri": "https://localhost:8080/"
    },
    "executionInfo": {
     "elapsed": 113,
     "status": "ok",
     "timestamp": 1700358981357,
     "user": {
      "displayName": "Bobbie Cavna",
      "userId": "02710482313698222145"
     },
     "user_tz": 300
    },
    "id": "iZFqcWXPKgvP",
    "outputId": "38297bf9-3607-4123-a44e-bbe50505d539"
   },
   "outputs": [
    {
     "name": "stdout",
     "output_type": "stream",
     "text": [
      "/home/bcavna/Documents/ERA5/processed/normvals/vv_facs.cvs\n"
     ]
    }
   ],
   "source": [
    "vvOut = homedir + '/ERA5/processed/normvals/vv_facs.cvs'\n",
    "print(vvOut)"
   ]
  },
  {
   "cell_type": "code",
   "execution_count": 37,
   "metadata": {
    "executionInfo": {
     "elapsed": 106,
     "status": "ok",
     "timestamp": 1700358994154,
     "user": {
      "displayName": "Bobbie Cavna",
      "userId": "02710482313698222145"
     },
     "user_tz": 300
    },
    "id": "W_Rc-vHNSyG-"
   },
   "outputs": [],
   "source": [
    "vvPD.to_csv(vvOut)"
   ]
  }
 ],
 "metadata": {
  "colab": {
   "authorship_tag": "ABX9TyPIx7MnUfJr6bAm+1FqxwgI",
   "provenance": []
  },
  "kernelspec": {
   "display_name": "Python 3 (ipykernel)",
   "language": "python",
   "name": "python3"
  },
  "language_info": {
   "codemirror_mode": {
    "name": "ipython",
    "version": 3
   },
   "file_extension": ".py",
   "mimetype": "text/x-python",
   "name": "python",
   "nbconvert_exporter": "python",
   "pygments_lexer": "ipython3",
   "version": "3.8.10"
  }
 },
 "nbformat": 4,
 "nbformat_minor": 4
}
