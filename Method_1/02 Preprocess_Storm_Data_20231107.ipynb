{
 "cells": [
  {
   "cell_type": "markdown",
   "metadata": {
    "id": "5rtg5IziUgjZ"
   },
   "source": [
    "# Preliminaries"
   ]
  },
  {
   "cell_type": "code",
   "execution_count": 1,
   "metadata": {
    "executionInfo": {
     "elapsed": 34467,
     "status": "ok",
     "timestamp": 1700194841211,
     "user": {
      "displayName": "Bobbie Cavna",
      "userId": "02710482313698222145"
     },
     "user_tz": 300
    },
    "id": "0tiPjYI6UdLl"
   },
   "outputs": [],
   "source": [
    "!apt-get install openjdk-8-jdk-headless -qq > /dev/null\n",
    "!wget -q https://archive.apache.org/dist/spark/spark-3.2.0/spark-3.2.0-bin-hadoop3.2.tgz\n",
    "!tar xf spark-3.2.0-bin-hadoop3.2.tgz\n",
    "!pip install -q findspark"
   ]
  },
  {
   "cell_type": "code",
   "execution_count": 2,
   "metadata": {
    "executionInfo": {
     "elapsed": 9,
     "status": "ok",
     "timestamp": 1700194841212,
     "user": {
      "displayName": "Bobbie Cavna",
      "userId": "02710482313698222145"
     },
     "user_tz": 300
    },
    "id": "C56CB1fzUj1R"
   },
   "outputs": [],
   "source": [
    "import os\n",
    "os.environ[\"JAVA_HOME\"] = \"/usr/lib/jvm/java-8-openjdk-amd64\"\n",
    "os.environ[\"SPARK_HOME\"] = \"spark-3.2.0-bin-hadoop3.2\""
   ]
  },
  {
   "cell_type": "code",
   "execution_count": 3,
   "metadata": {
    "executionInfo": {
     "elapsed": 7,
     "status": "ok",
     "timestamp": 1700194841212,
     "user": {
      "displayName": "Bobbie Cavna",
      "userId": "02710482313698222145"
     },
     "user_tz": 300
    },
    "id": "HA3bPXArUmec"
   },
   "outputs": [],
   "source": [
    "import findspark\n",
    "findspark.init()"
   ]
  },
  {
   "cell_type": "code",
   "execution_count": 4,
   "metadata": {
    "colab": {
     "base_uri": "https://localhost:8080/",
     "height": 198
    },
    "executionInfo": {
     "elapsed": 5389,
     "status": "ok",
     "timestamp": 1700194846595,
     "user": {
      "displayName": "Bobbie Cavna",
      "userId": "02710482313698222145"
     },
     "user_tz": 300
    },
    "id": "-wTwwQFFUnoS",
    "outputId": "efe82a98-0c87-4fcd-f21f-8238f602aa8b"
   },
   "outputs": [
    {
     "data": {
      "text/html": [
       "\n",
       "        <div>\n",
       "            <p><b>SparkContext</b></p>\n",
       "\n",
       "            <p><a href=\"http://6ef7f16501d8:4040\">Spark UI</a></p>\n",
       "\n",
       "            <dl>\n",
       "              <dt>Version</dt>\n",
       "                <dd><code>v3.2.0</code></dd>\n",
       "              <dt>Master</dt>\n",
       "                <dd><code>local[*]</code></dd>\n",
       "              <dt>AppName</dt>\n",
       "                <dd><code>pyspark-shell</code></dd>\n",
       "            </dl>\n",
       "        </div>\n",
       "        "
      ],
      "text/plain": [
       "<SparkContext master=local[*] appName=pyspark-shell>"
      ]
     },
     "execution_count": 4,
     "metadata": {},
     "output_type": "execute_result"
    }
   ],
   "source": [
    "from pyspark.sql import SparkSession\n",
    "spark = SparkSession.builder.master(\"local[*]\").getOrCreate()\n",
    "sc = spark.sparkContext\n",
    "sc"
   ]
  },
  {
   "cell_type": "code",
   "execution_count": 5,
   "metadata": {
    "executionInfo": {
     "elapsed": 11,
     "status": "ok",
     "timestamp": 1700194846596,
     "user": {
      "displayName": "Bobbie Cavna",
      "userId": "02710482313698222145"
     },
     "user_tz": 300
    },
    "id": "RbMWIvqzUwoc"
   },
   "outputs": [],
   "source": [
    "import pyspark.sql\n",
    "from pyspark.sql import Row\n",
    "from pyspark.sql.types import *\n",
    "import json"
   ]
  },
  {
   "cell_type": "code",
   "execution_count": 6,
   "metadata": {
    "executionInfo": {
     "elapsed": 10,
     "status": "ok",
     "timestamp": 1700194846596,
     "user": {
      "displayName": "Bobbie Cavna",
      "userId": "02710482313698222145"
     },
     "user_tz": 300
    },
    "id": "hMPAYfIUoUqh"
   },
   "outputs": [],
   "source": [
    "import numpy as np\n",
    "np.set_printoptions(precision = 10, suppress = True)"
   ]
  },
  {
   "cell_type": "code",
   "execution_count": 7,
   "metadata": {
    "colab": {
     "base_uri": "https://localhost:8080/"
    },
    "executionInfo": {
     "elapsed": 19629,
     "status": "ok",
     "timestamp": 1700194866215,
     "user": {
      "displayName": "Bobbie Cavna",
      "userId": "02710482313698222145"
     },
     "user_tz": 300
    },
    "id": "00aID1bCQ61t",
    "outputId": "6430ccf1-1532-44d3-e5d6-88303a627c70"
   },
   "outputs": [
    {
     "name": "stdout",
     "output_type": "stream",
     "text": [
      "Mounted at /content/drive\n"
     ]
    }
   ],
   "source": [
    "from google.colab import drive\n",
    "drive.mount('/content/drive')"
   ]
  },
  {
   "cell_type": "markdown",
   "metadata": {
    "id": "UkUgjjLkJsNJ"
   },
   "source": [
    "#Targets"
   ]
  },
  {
   "cell_type": "code",
   "execution_count": 8,
   "metadata": {
    "executionInfo": {
     "elapsed": 14,
     "status": "ok",
     "timestamp": 1700194866215,
     "user": {
      "displayName": "Bobbie Cavna",
      "userId": "02710482313698222145"
     },
     "user_tz": 300
    },
    "id": "YL1O5ZbZdWth"
   },
   "outputs": [],
   "source": [
    "myFolder = \"/content/drive/My Drive/H518/Project_PDA/\""
   ]
  },
  {
   "cell_type": "code",
   "execution_count": 9,
   "metadata": {
    "executionInfo": {
     "elapsed": 14,
     "status": "ok",
     "timestamp": 1700194866216,
     "user": {
      "displayName": "Bobbie Cavna",
      "userId": "02710482313698222145"
     },
     "user_tz": 300
    },
    "id": "Gqe_bzLgdkaa"
   },
   "outputs": [],
   "source": [
    "myFile = 'targets_w_keys_20231109.csv'"
   ]
  },
  {
   "cell_type": "code",
   "execution_count": 10,
   "metadata": {
    "colab": {
     "base_uri": "https://localhost:8080/"
    },
    "executionInfo": {
     "elapsed": 13,
     "status": "ok",
     "timestamp": 1700194866216,
     "user": {
      "displayName": "Bobbie Cavna",
      "userId": "02710482313698222145"
     },
     "user_tz": 300
    },
    "id": "qn2vEUojeMNJ",
    "outputId": "304dd868-360b-4c1c-c99f-96d2295ce94a"
   },
   "outputs": [
    {
     "name": "stdout",
     "output_type": "stream",
     "text": [
      "/content/drive/My Drive/H518/Project_PDA/targets_w_keys_20231109.csv\n"
     ]
    }
   ],
   "source": [
    "myPath = myFolder + myFile\n",
    "print(myPath)"
   ]
  },
  {
   "cell_type": "code",
   "execution_count": 11,
   "metadata": {
    "executionInfo": {
     "elapsed": 11,
     "status": "ok",
     "timestamp": 1700194866216,
     "user": {
      "displayName": "Bobbie Cavna",
      "userId": "02710482313698222145"
     },
     "user_tz": 300
    },
    "id": "h6sR1Ei9nVIW"
   },
   "outputs": [],
   "source": [
    "outFolder = \"/content/drive/My Drive/ERA5/processed/\""
   ]
  },
  {
   "cell_type": "code",
   "execution_count": 12,
   "metadata": {
    "executionInfo": {
     "elapsed": 10,
     "status": "ok",
     "timestamp": 1700194866216,
     "user": {
      "displayName": "Bobbie Cavna",
      "userId": "02710482313698222145"
     },
     "user_tz": 300
    },
    "id": "v1lT-LsdnkrV"
   },
   "outputs": [],
   "source": [
    "outFile = 'processed_targets_20231115.csv'"
   ]
  },
  {
   "cell_type": "code",
   "execution_count": 13,
   "metadata": {
    "colab": {
     "base_uri": "https://localhost:8080/"
    },
    "executionInfo": {
     "elapsed": 11,
     "status": "ok",
     "timestamp": 1700194866217,
     "user": {
      "displayName": "Bobbie Cavna",
      "userId": "02710482313698222145"
     },
     "user_tz": 300
    },
    "id": "f2mZW9zAnzng",
    "outputId": "13d29f89-ee03-4c91-84de-d4305a44a4fa"
   },
   "outputs": [
    {
     "name": "stdout",
     "output_type": "stream",
     "text": [
      "/content/drive/My Drive/ERA5/processed/processed_targets_20231115.csv\n"
     ]
    }
   ],
   "source": [
    "outPath = outFolder + outFile\n",
    "print(outPath)"
   ]
  },
  {
   "cell_type": "code",
   "execution_count": 14,
   "metadata": {
    "executionInfo": {
     "elapsed": 8,
     "status": "ok",
     "timestamp": 1700194866217,
     "user": {
      "displayName": "Bobbie Cavna",
      "userId": "02710482313698222145"
     },
     "user_tz": 300
    },
    "id": "1DffE8HPYvrc"
   },
   "outputs": [],
   "source": [
    "custom_schema = StructType([\n",
    "    StructField(\"EVENT_ID\", StringType(), False),\n",
    "    StructField(\"STATE_ABBR\", StringType(), False),\n",
    "    StructField(\"LAT\", FloatType(), False),\n",
    "    StructField(\"LON\", FloatType(), False),\n",
    "    StructField(\"YEAR\", IntegerType(), False),\n",
    "    StructField(\"MONTH\", IntegerType(), False),\n",
    "    StructField(\"DAY\", IntegerType(), False),\n",
    "    StructField(\"HOUR\", IntegerType(), False)\n",
    "])"
   ]
  },
  {
   "cell_type": "code",
   "execution_count": 15,
   "metadata": {
    "executionInfo": {
     "elapsed": 8,
     "status": "ok",
     "timestamp": 1700194866217,
     "user": {
      "displayName": "Bobbie Cavna",
      "userId": "02710482313698222145"
     },
     "user_tz": 300
    },
    "id": "JUXSdwBSG0Wv"
   },
   "outputs": [],
   "source": [
    "from time import strftime, gmtime, mktime, strptime\n",
    "from pytz import timezone\n",
    "from datetime import datetime #, date, time, timezone\n",
    "from dateutil import tz\n",
    "import pytz"
   ]
  },
  {
   "cell_type": "code",
   "execution_count": 16,
   "metadata": {
    "executionInfo": {
     "elapsed": 8,
     "status": "ok",
     "timestamp": 1700194866217,
     "user": {
      "displayName": "Bobbie Cavna",
      "userId": "02710482313698222145"
     },
     "user_tz": 300
    },
    "id": "HevvUmrIdj42"
   },
   "outputs": [],
   "source": [
    "#rawTargetsDF = spark.read.schema(custom_schema).option(\"header\", True).option(\"delimiter\", \",\").csv(myPath)"
   ]
  },
  {
   "cell_type": "code",
   "execution_count": 17,
   "metadata": {
    "colab": {
     "base_uri": "https://localhost:8080/"
    },
    "executionInfo": {
     "elapsed": 5536,
     "status": "ok",
     "timestamp": 1700194871746,
     "user": {
      "displayName": "Bobbie Cavna",
      "userId": "02710482313698222145"
     },
     "user_tz": 300
    },
    "id": "IFWMZxc3sgxe",
    "outputId": "93e9b5e3-d1c4-427f-9b5a-f3b79729cacc"
   },
   "outputs": [
    {
     "data": {
      "text/plain": [
       "pyspark.sql.dataframe.DataFrame"
      ]
     },
     "execution_count": 17,
     "metadata": {},
     "output_type": "execute_result"
    }
   ],
   "source": [
    "rawTargetsDF = spark.read.option(\"header\", True).csv(myPath)\n",
    "type(rawTargetsDF)"
   ]
  },
  {
   "cell_type": "code",
   "execution_count": 18,
   "metadata": {
    "executionInfo": {
     "elapsed": 5,
     "status": "ok",
     "timestamp": 1700194871746,
     "user": {
      "displayName": "Bobbie Cavna",
      "userId": "02710482313698222145"
     },
     "user_tz": 300
    },
    "id": "9MmP2gX8IKs7"
   },
   "outputs": [],
   "source": [
    "def map_times(y,m,d,h):\n",
    "  to_map = datetime(y,m,d,h,0,0)\n",
    "  est_tz = timezone('US/Eastern')\n",
    "  awaretime = est_tz.localize(to_map)\n",
    "  utc_tz = timezone('UTC')\n",
    "  mapped = awaretime.astimezone(utc_tz)\n",
    "  return  mapped.year,  mapped.month, mapped.day, mapped.hour"
   ]
  },
  {
   "cell_type": "code",
   "execution_count": 19,
   "metadata": {
    "colab": {
     "base_uri": "https://localhost:8080/"
    },
    "executionInfo": {
     "elapsed": 1065,
     "status": "ok",
     "timestamp": 1700194872807,
     "user": {
      "displayName": "Bobbie Cavna",
      "userId": "02710482313698222145"
     },
     "user_tz": 300
    },
    "id": "02qS3laoq8kH",
    "outputId": "b9fceba7-e4ed-4bec-b020-50ee73798184"
   },
   "outputs": [
    {
     "data": {
      "text/plain": [
       "[['805930', 'IN', '37.98', '-87.6602', 2019, 3, 14, 15],\n",
       " ['805929', 'IN', '37.9902', '-87.563', 2019, 3, 14, 15],\n",
       " ['811260', 'IN', '40.42', '-86.27', 2019, 3, 14, 15],\n",
       " ['805926', 'IN', '38.2506', '-87.0904', 2019, 3, 14, 16],\n",
       " ['805925', 'IN', '37.8666', '-87.057', 2019, 3, 14, 17]]"
      ]
     },
     "execution_count": 19,
     "metadata": {},
     "output_type": "execute_result"
    }
   ],
   "source": [
    "rawTargetsR = rawTargetsDF.rdd.map(lambda x:[x[0],x[1],x[2],x[3],map_times(int(x[4]),int(x[5]),int(x[6]),int(x[7]))]).map(lambda x:[x[0],x[1],x[2],x[3],x[4][0],x[4][1],x[4][2],x[4][3]])\n",
    "rawTargetsR.take(5)"
   ]
  },
  {
   "cell_type": "code",
   "execution_count": 20,
   "metadata": {
    "colab": {
     "base_uri": "https://localhost:8080/"
    },
    "executionInfo": {
     "elapsed": 182,
     "status": "ok",
     "timestamp": 1700194872985,
     "user": {
      "displayName": "Bobbie Cavna",
      "userId": "02710482313698222145"
     },
     "user_tz": 300
    },
    "id": "JAq2uS_hwsu8",
    "outputId": "ff774fb6-fe55-440a-9e58-9e98fbd2291c"
   },
   "outputs": [
    {
     "data": {
      "text/plain": [
       "[Row(EVENT_ID='805930', STATE_ABBR='IN', LAT='37.98', LON='-87.6602', YEAR=2019, MONTH=3, DAY=14, HOUR=15),\n",
       " Row(EVENT_ID='805929', STATE_ABBR='IN', LAT='37.9902', LON='-87.563', YEAR=2019, MONTH=3, DAY=14, HOUR=15),\n",
       " Row(EVENT_ID='811260', STATE_ABBR='IN', LAT='40.42', LON='-86.27', YEAR=2019, MONTH=3, DAY=14, HOUR=15),\n",
       " Row(EVENT_ID='805926', STATE_ABBR='IN', LAT='38.2506', LON='-87.0904', YEAR=2019, MONTH=3, DAY=14, HOUR=16),\n",
       " Row(EVENT_ID='805925', STATE_ABBR='IN', LAT='37.8666', LON='-87.057', YEAR=2019, MONTH=3, DAY=14, HOUR=17)]"
      ]
     },
     "execution_count": 20,
     "metadata": {},
     "output_type": "execute_result"
    }
   ],
   "source": [
    "relabeledTargetsR = rawTargetsR.map(lambda p: Row(EVENT_ID=p[0],STATE_ABBR=p[1],LAT=p[2],LON=p[3],YEAR=p[4],MONTH=p[5],DAY=p[6],HOUR=p[7]))\n",
    "relabeledTargetsR.take(5)"
   ]
  },
  {
   "cell_type": "code",
   "execution_count": 21,
   "metadata": {
    "colab": {
     "base_uri": "https://localhost:8080/"
    },
    "executionInfo": {
     "elapsed": 951,
     "status": "ok",
     "timestamp": 1700194873934,
     "user": {
      "displayName": "Bobbie Cavna",
      "userId": "02710482313698222145"
     },
     "user_tz": 300
    },
    "id": "V0wWAAoGHNEy",
    "outputId": "274b6832-7a2a-41e5-f6b1-bc59b36e62c5"
   },
   "outputs": [
    {
     "name": "stdout",
     "output_type": "stream",
     "text": [
      "+--------+----------+-------+--------+----+-----+---+----+\n",
      "|EVENT_ID|STATE_ABBR|    LAT|     LON|YEAR|MONTH|DAY|HOUR|\n",
      "+--------+----------+-------+--------+----+-----+---+----+\n",
      "|  805930|        IN|  37.98|-87.6602|2019|    3| 14|  15|\n",
      "|  805929|        IN|37.9902| -87.563|2019|    3| 14|  15|\n",
      "|  811260|        IN|  40.42|  -86.27|2019|    3| 14|  15|\n",
      "|  805926|        IN|38.2506|-87.0904|2019|    3| 14|  16|\n",
      "|  805925|        IN|37.8666| -87.057|2019|    3| 14|  17|\n",
      "+--------+----------+-------+--------+----+-----+---+----+\n",
      "only showing top 5 rows\n",
      "\n"
     ]
    }
   ],
   "source": [
    "relabeledTargetsDF = spark.createDataFrame(relabeledTargetsR)\n",
    "relabeledTargetsDF.createOrReplaceTempView(\"targets\")\n",
    "relabeledTargetsDF.show(5)"
   ]
  },
  {
   "cell_type": "code",
   "execution_count": 22,
   "metadata": {
    "colab": {
     "base_uri": "https://localhost:8080/"
    },
    "executionInfo": {
     "elapsed": 1151,
     "status": "ok",
     "timestamp": 1700194875084,
     "user": {
      "displayName": "Bobbie Cavna",
      "userId": "02710482313698222145"
     },
     "user_tz": 300
    },
    "id": "5huIvtVj56E-",
    "outputId": "12dcc7b3-bb96-43c4-d5e3-5cd0e3afc7c8"
   },
   "outputs": [
    {
     "name": "stdout",
     "output_type": "stream",
     "text": [
      "+----+-----+---+\n",
      "|YEAR|MONTH|DAY|\n",
      "+----+-----+---+\n",
      "|2013|    1| 29|\n",
      "|2013|    4| 10|\n",
      "|2013|    4| 16|\n",
      "|2013|    4| 17|\n",
      "|2013|    4| 18|\n",
      "|2013|    5|  3|\n",
      "|2013|    5| 10|\n",
      "|2013|    5| 21|\n",
      "|2013|    5| 30|\n",
      "|2013|    6| 11|\n",
      "+----+-----+---+\n",
      "only showing top 10 rows\n",
      "\n"
     ]
    }
   ],
   "source": [
    "hailDaysDF = spark.sql(\"SELECT Distinct YEAR, MONTH, DAY FROM targets ORDER BY YEAR, MONTH, DAY\")\n",
    "hailDaysDF.createOrReplaceTempView(\"haildays\")\n",
    "hailDaysDF.show(10)"
   ]
  },
  {
   "cell_type": "markdown",
   "metadata": {
    "id": "FNx7CEMNjXlU"
   },
   "source": [
    "Match targets to nearest ERA5 grid value"
   ]
  },
  {
   "cell_type": "code",
   "execution_count": 23,
   "metadata": {
    "colab": {
     "base_uri": "https://localhost:8080/"
    },
    "executionInfo": {
     "elapsed": 465,
     "status": "ok",
     "timestamp": 1700194875545,
     "user": {
      "displayName": "Bobbie Cavna",
      "userId": "02710482313698222145"
     },
     "user_tz": 300
    },
    "id": "BLsFWMCdkIwW",
    "outputId": "92f651f7-76e6-45c3-d749-81d6d02d51e1"
   },
   "outputs": [
    {
     "name": "stdout",
     "output_type": "stream",
     "text": [
      "+--------+-----+------+\n",
      "|EVENT_ID|  LAT|   LON|\n",
      "+--------+-----+------+\n",
      "|  830232|40.03|-84.94|\n",
      "|  838532|41.63|   -85|\n",
      "|  838553|41.14|-85.02|\n",
      "| 1021415|41.62|-87.25|\n",
      "|  682585|41.67|-84.98|\n",
      "|  764051|38.37|-86.11|\n",
      "|  588786|41.19|-86.88|\n",
      "|  541233| 41.3|-86.12|\n",
      "|  541917|41.04|-86.03|\n",
      "|  838547|41.43|-84.87|\n",
      "+--------+-----+------+\n",
      "only showing top 10 rows\n",
      "\n"
     ]
    }
   ],
   "source": [
    "tPoints = spark.sql(\"SELECT Distinct EVENT_ID, LAT, LON FROM targets\")\n",
    "tPoints.show(10)"
   ]
  },
  {
   "cell_type": "code",
   "execution_count": 24,
   "metadata": {
    "colab": {
     "base_uri": "https://localhost:8080/"
    },
    "executionInfo": {
     "elapsed": 408,
     "status": "ok",
     "timestamp": 1700194875951,
     "user": {
      "displayName": "Bobbie Cavna",
      "userId": "02710482313698222145"
     },
     "user_tz": 300
    },
    "id": "3w4mzKo_kx48",
    "outputId": "8473db5a-fc67-45b9-90f5-542c4a98eed6"
   },
   "outputs": [
    {
     "name": "stdout",
     "output_type": "stream",
     "text": [
      "[Row(EVENT_ID='830232', LAT='40.03', LON='-84.94'), Row(EVENT_ID='838532', LAT='41.63', LON='-85'), Row(EVENT_ID='838553', LAT='41.14', LON='-85.02'), Row(EVENT_ID='1021415', LAT='41.62', LON='-87.25'), Row(EVENT_ID='682585', LAT='41.67', LON='-84.98'), Row(EVENT_ID='764051', LAT='38.37', LON='-86.11'), Row(EVENT_ID='588786', LAT='41.19', LON='-86.88'), Row(EVENT_ID='541233', LAT='41.3', LON='-86.12'), Row(EVENT_ID='541917', LAT='41.04', LON='-86.03'), Row(EVENT_ID='838547', LAT='41.43', LON='-84.87'), Row(EVENT_ID='1033436', LAT='38.23', LON='-86.53'), Row(EVENT_ID='638824', LAT='40.15', LON='-86.36'), Row(EVENT_ID='605522', LAT='38.29', LON='-85.83'), Row(EVENT_ID='455967', LAT='40.59', LON='-84.96'), Row(EVENT_ID='904155', LAT='41.51', LON='-87.04'), Row(EVENT_ID='940476', LAT='40.13', LON='-85.69'), Row(EVENT_ID='682581', LAT='41.63', LON='-86.22'), Row(EVENT_ID='690562', LAT='40.15', LON='-85.75'), Row(EVENT_ID='690588', LAT='40.14', LON='-85.69'), Row(EVENT_ID='524375', LAT='39.21', LON='-86.47'), Row(EVENT_ID='537838', LAT='41.4', LON='-85.55'), Row(EVENT_ID='533729', LAT='41.44', LON='-86'), Row(EVENT_ID='429682', LAT='41.5757', LON='-87.176'), Row(EVENT_ID='682574', LAT='41.53', LON='-85.09'), Row(EVENT_ID='687798', LAT='38.26', LON='-86.25'), Row(EVENT_ID='624756', LAT='39.7352', LON='-86.0639'), Row(EVENT_ID='578466', LAT='37.98', LON='-87.6969'), Row(EVENT_ID='600767', LAT='40.88', LON='-85.51'), Row(EVENT_ID='819535', LAT='41.54', LON='-87.13'), Row(EVENT_ID='1016689', LAT='41.11', LON='-85.05'), Row(EVENT_ID='1021106', LAT='40.36', LON='-86.39'), Row(EVENT_ID='718397', LAT='39.66', LON='-86.2'), Row(EVENT_ID='638822', LAT='39.6977', LON='-86.3356'), Row(EVENT_ID='638834', LAT='39.66', LON='-86'), Row(EVENT_ID='654122', LAT='39.4766', LON='-87.4122'), Row(EVENT_ID='586891', LAT='39.63', LON='-84.93'), Row(EVENT_ID='523816', LAT='40.05', LON='-86.47'), Row(EVENT_ID='527314', LAT='39.97', LON='-86.3'), Row(EVENT_ID='454156', LAT='41.6', LON='-87.34'), Row(EVENT_ID='457276', LAT='41.5067', LON='-87.5248'), Row(EVENT_ID='457277', LAT='41.52', LON='-87.42'), Row(EVENT_ID='827501', LAT='40.5638', LON='-87.2426'), Row(EVENT_ID='755093', LAT='41.35', LON='-85.24'), Row(EVENT_ID='588792', LAT='41.52', LON='-86.27'), Row(EVENT_ID='444108', LAT='39.297', LON='-85.3142'), Row(EVENT_ID='957364', LAT='39.4502', LON='-86.4685'), Row(EVENT_ID='702832', LAT='39.24', LON='-86.62'), Row(EVENT_ID='632980', LAT='39.66', LON='-86.32'), Row(EVENT_ID='658577', LAT='39.97', LON='-86.11'), Row(EVENT_ID='575937', LAT='38.53', LON='-85.77'), Row(EVENT_ID='520652', LAT='41.53', LON='-86.43'), Row(EVENT_ID='541230', LAT='41.35', LON='-85.14'), Row(EVENT_ID='433719', LAT='39.95', LON='-86.02'), Row(EVENT_ID='958909', LAT='38.99', LON='-85.65'), Row(EVENT_ID='690468', LAT='39.95', LON='-86.93'), Row(EVENT_ID='690496', LAT='40.0314', LON='-86.8947'), Row(EVENT_ID='625495', LAT='40.82', LON='-85.17'), Row(EVENT_ID='659028', LAT='40.75', LON='-86.36'), Row(EVENT_ID='664153', LAT='38.88', LON='-86.05'), Row(EVENT_ID='588785', LAT='41.7', LON='-86.48'), Row(EVENT_ID='828798', LAT='40.63', LON='-85.7'), Row(EVENT_ID='838540', LAT='41.62', LON='-85.83'), Row(EVENT_ID='690464', LAT='39.47', LON='-87.38'), Row(EVENT_ID='690592', LAT='40.43', LON='-86.87'), Row(EVENT_ID='622341', LAT='38.32', LON='-85.87'), Row(EVENT_ID='569505', LAT='39.2406', LON='-86.4364'), Row(EVENT_ID='523823', LAT='40.48', LON='-86.13'), Row(EVENT_ID='541920', LAT='41.04', LON='-86.03'), Row(EVENT_ID='828799', LAT='40.68', LON='-85.72'), Row(EVENT_ID='874517', LAT='38.9178', LON='-86.5942'), Row(EVENT_ID='659046', LAT='40.49', LON='-85.55'), Row(EVENT_ID='664337', LAT='38.89', LON='-87.31'), Row(EVENT_ID='568307', LAT='41.63', LON='-86.16'), Row(EVENT_ID='533733', LAT='41.45', LON='-85.84'), Row(EVENT_ID='433725', LAT='40.02', LON='-86.01'), Row(EVENT_ID='813527', LAT='40.95', LON='-85.51'), Row(EVENT_ID='1015267', LAT='38.68', LON='-87.17'), Row(EVENT_ID='578556', LAT='40.1266', LON='-86.5618'), Row(EVENT_ID='578563', LAT='39.8225', LON='-85.6546'), Row(EVENT_ID='584395', LAT='39.62', LON='-86.11'), Row(EVENT_ID='599264', LAT='41.01', LON='-87.45'), Row(EVENT_ID='524059', LAT='40', LON='-86.27'), Row(EVENT_ID='524362', LAT='39.69', LON='-86.52'), Row(EVENT_ID='541915', LAT='41.08', LON='-86.22'), Row(EVENT_ID='437880', LAT='38.6461', LON='-87.5269'), Row(EVENT_ID='682569', LAT='40.96', LON='-85.47'), Row(EVENT_ID='714024', LAT='39.62', LON='-86.37'), Row(EVENT_ID='742900', LAT='41.38', LON='-86.5'), Row(EVENT_ID='622585', LAT='39.55', LON='-85.18'), Row(EVENT_ID='569526', LAT='39.2298', LON='-86.4152'), Row(EVENT_ID='582616', LAT='40.76', LON='-87.29'), Row(EVENT_ID='521533', LAT='39.83', LON='-85.32'), Row(EVENT_ID='523880', LAT='39.69', LON='-86.15'), Row(EVENT_ID='455961', LAT='40.99', LON='-85.47'), Row(EVENT_ID='828796', LAT='40.74', LON='-85.62'), Row(EVENT_ID='838548', LAT='41.58', LON='-85.84'), Row(EVENT_ID='851319', LAT='41.4', LON='-86.01'), Row(EVENT_ID='1017400', LAT='41.3', LON='-85.73'), Row(EVENT_ID='699335', LAT='39.8', LON='-84.89'), Row(EVENT_ID='582603', LAT='41.49', LON='-87.45'), Row(EVENT_ID='584379', LAT='40.4142', LON='-86.839'), Row(EVENT_ID='813523', LAT='40.88', LON='-85.58'), Row(EVENT_ID='874536', LAT='40.0739', LON='-85.6804'), Row(EVENT_ID='1041346', LAT='41.73', LON='-86.16'), Row(EVENT_ID='690551', LAT='40.27', LON='-86.39'), Row(EVENT_ID='755092', LAT='41.44', LON='-85.14'), Row(EVENT_ID='755096', LAT='41.35', LON='-85.14'), Row(EVENT_ID='566991', LAT='38.1579', LON='-87.58'), Row(EVENT_ID='979324', LAT='41.7', LON='-86.21'), Row(EVENT_ID='1041350', LAT='41.74', LON='-86.11'), Row(EVENT_ID='679846', LAT='40.55', LON='-86.52'), Row(EVENT_ID='695129', LAT='39.67', LON='-86.75'), Row(EVENT_ID='696889', LAT='39.3', LON='-86.69'), Row(EVENT_ID='707529', LAT='41.67', LON='-86.08'), Row(EVENT_ID='777032', LAT='38.96', LON='-85.84'), Row(EVENT_ID='533739', LAT='41.3586', LON='-85.7002'), Row(EVENT_ID='433717', LAT='39.97', LON='-86.11'), Row(EVENT_ID='838541', LAT='41.6', LON='-85.88'), Row(EVENT_ID='883825', LAT='41.584', LON='-87.1966'), Row(EVENT_ID='957052', LAT='39.52', LON='-86.78'), Row(EVENT_ID='673555', LAT='39.17', LON='-85.24'), Row(EVENT_ID='541600', LAT='38.96', LON='-85.89'), Row(EVENT_ID='465679', LAT='39.78', LON='-86.26'), Row(EVENT_ID='957355', LAT='39.74', LON='-85.88'), Row(EVENT_ID='742319', LAT='38.35', LON='-87.6254'), Row(EVENT_ID='622645', LAT='39.179', LON='-86.5238'), Row(EVENT_ID='595410', LAT='41.14', LON='-85.48'), Row(EVENT_ID='599262', LAT='40.93', LON='-87.45'), Row(EVENT_ID='521644', LAT='39.82', LON='-86.09'), Row(EVENT_ID='447159', LAT='40.56', LON='-85.66'), Row(EVENT_ID='433692', LAT='39.47', LON='-87.38'), Row(EVENT_ID='433714', LAT='39.927', LON='-86.158'), Row(EVENT_ID='815360', LAT='41.43', LON='-86.9'), Row(EVENT_ID='874521', LAT='39.57', LON='-85.62'), Row(EVENT_ID='909367', LAT='40.35', LON='-86.67'), Row(EVENT_ID='690501', LAT='40.13', LON='-86.67'), Row(EVENT_ID='714032', LAT='39.93', LON='-85.38'), Row(EVENT_ID='749028', LAT='37.95', LON='-87.42'), Row(EVENT_ID='622629', LAT='40.21', LON='-85.88'), Row(EVENT_ID='638792', LAT='38.91', LON='-87.44'), Row(EVENT_ID='664339', LAT='39.5', LON='-85.79'), Row(EVENT_ID='435197', LAT='38.6', LON='-86.68'), Row(EVENT_ID='805930', LAT='37.98', LON='-87.6602'), Row(EVENT_ID='1044033', LAT='41.54', LON='-87.14'), Row(EVENT_ID='704477', LAT='40.8', LON='-85.67'), Row(EVENT_ID='762786', LAT='39.8196', LON='-85.9038'), Row(EVENT_ID='569707', LAT='39.6059', LON='-86.159'), Row(EVENT_ID='523086', LAT='41.22', LON='-85.76'), Row(EVENT_ID='541240', LAT='41.33', LON='-85.7'), Row(EVENT_ID='874543', LAT='40.01', LON='-86.62'), Row(EVENT_ID='622338', LAT='38.45', LON='-85.67'), Row(EVENT_ID='595977', LAT='39.79', LON='-86.56'), Row(EVENT_ID='595994', LAT='39.58', LON='-86.48'), Row(EVENT_ID='435193', LAT='38.58', LON='-85.98'), Row(EVENT_ID='895579', LAT='41.44', LON='-86.9'), Row(EVENT_ID='1016765', LAT='39.07', LON='-84.9'), Row(EVENT_ID='699019', LAT='38.77', LON='-85.74'), Row(EVENT_ID='437965', LAT='39.6661', LON='-85.9393'), Row(EVENT_ID='828146', LAT='40.75', LON='-85.51'), Row(EVENT_ID='901364', LAT='40.84', LON='-85.67'), Row(EVENT_ID='901366', LAT='40.69', LON='-85.8'), Row(EVENT_ID='687020', LAT='40.49', LON='-85.33'), Row(EVENT_ID='764048', LAT='38.2948', LON='-86.3405'), Row(EVENT_ID='622630', LAT='40.28', LON='-85.84'), Row(EVENT_ID='595989', LAT='39.69', LON='-86.52'), Row(EVENT_ID='517395', LAT='39.55', LON='-85.18'), Row(EVENT_ID='433720', LAT='39.97', LON='-86.11'), Row(EVENT_ID='813519', LAT='41.53', LON='-85.97'), Row(EVENT_ID='813529', LAT='41.02', LON='-84.94'), Row(EVENT_ID='690510', LAT='40.28', LON='-86.51'), Row(EVENT_ID='616638', LAT='38.57', LON='-86.61'), Row(EVENT_ID='622653', LAT='39.6933', LON='-86.1487'), Row(EVENT_ID='624759', LAT='39.4887', LON='-86.0642'), Row(EVENT_ID='523871', LAT='39.67', LON='-86.12'), Row(EVENT_ID='471728', LAT='39.7973', LON='-86.3016'), Row(EVENT_ID='695142', LAT='40.48', LON='-86.11'), Row(EVENT_ID='714000', LAT='40.17', LON='-85.48'), Row(EVENT_ID='638838', LAT='40.1496', LON='-85.7475'), Row(EVENT_ID='569287', LAT='39.6', LON='-86.11'), Row(EVENT_ID='605521', LAT='38.29', LON='-85.81'), Row(EVENT_ID='433654', LAT='40.11', LON='-86.78'), Row(EVENT_ID='433733', LAT='40.13', LON='-85.3'), Row(EVENT_ID='838529', LAT='41.61', LON='-86.33'), Row(EVENT_ID='874530', LAT='40.03', LON='-86'), Row(EVENT_ID='1015262', LAT='39.58', LON='-86.49'), Row(EVENT_ID='695123', LAT='39.52', LON='-87.14'), Row(EVENT_ID='578552', LAT='40.05', LON='-86.47'), Row(EVENT_ID='581500', LAT='40.56', LON='-85.56'), Row(EVENT_ID='590769', LAT='39.84', LON='-84.91'), Row(EVENT_ID='523822', LAT='40.2', LON='-85.39'), Row(EVENT_ID='507961', LAT='38.74', LON='-85.46'), Row(EVENT_ID='541228', LAT='41.06', LON='-85.21'), Row(EVENT_ID='813521', LAT='41.53', LON='-85.7'), Row(EVENT_ID='838551', LAT='41.12', LON='-85.13'), Row(EVENT_ID='597624', LAT='40.76', LON='-87.13'), Row(EVENT_ID='520370', LAT='41.44', LON='-85.26'), Row(EVENT_ID='512226', LAT='38.33', LON='-87.35'), Row(EVENT_ID='507968', LAT='38.38', LON='-85.81'), Row(EVENT_ID='533746', LAT='41.24', LON='-85.08'), Row(EVENT_ID='838545', LAT='41.53', LON='-85.38'), Row(EVENT_ID='979326', LAT='41.68', LON='-86.27'), Row(EVENT_ID='988355', LAT='39.06', LON='-85.63'), Row(EVENT_ID='1046438', LAT='38.38', LON='-85.77'), Row(EVENT_ID='707528', LAT='41.66', LON='-86.23'), Row(EVENT_ID='748718', LAT='38.33', LON='-87.35'), Row(EVENT_ID='569280', LAT='39.79', LON='-85.77'), Row(EVENT_ID='908510', LAT='40.66', LON='-84.95'), Row(EVENT_ID='697007', LAT='39.28', LON='-85.48'), Row(EVENT_ID='625505', LAT='41.28', LON='-84.9'), Row(EVENT_ID='879972', LAT='39.11', LON='-87.31'), Row(EVENT_ID='622631', LAT='40.0618', LON='-85.6671'), Row(EVENT_ID='623030', LAT='38.009', LON='-87.55'), Row(EVENT_ID='569527', LAT='39.23', LON='-86.4179'), Row(EVENT_ID='520375', LAT='41.36', LON='-85.7'), Row(EVENT_ID='818103', LAT='38.57', LON='-86.24'), Row(EVENT_ID='638810', LAT='39.47', LON='-87.25'), Row(EVENT_ID='489418', LAT='38.19', LON='-86.71'), Row(EVENT_ID='874529', LAT='39.99', LON='-86.14'), Row(EVENT_ID='874534', LAT='40.07', LON='-85.85'), Row(EVENT_ID='1015264', LAT='38.68', LON='-87.51'), Row(EVENT_ID='1025292', LAT='41.5739', LON='-87.2253'), Row(EVENT_ID='687154', LAT='39.92', LON='-86.12'), Row(EVENT_ID='622584', LAT='39.63', LON='-84.93'), Row(EVENT_ID='587289', LAT='40.04', LON='-86.84'), Row(EVENT_ID='524052', LAT='39.69', LON='-86.15'), Row(EVENT_ID='433715', LAT='39.92', LON='-86.15'), Row(EVENT_ID='828144', LAT='40.77', LON='-85.56'), Row(EVENT_ID='838550', LAT='41.1', LON='-85.18'), Row(EVENT_ID='874547', LAT='40.06', LON='-86'), Row(EVENT_ID='1046435', LAT='38.36', LON='-85.81'), Row(EVENT_ID='687216', LAT='39.7977', LON='-85.9339'), Row(EVENT_ID='764711', LAT='39.86', LON='-87.25'), Row(EVENT_ID='584355', LAT='39.52', LON='-85.78'), Row(EVENT_ID='517647', LAT='38.2144', LON='-87.2558'), Row(EVENT_ID='455962', LAT='41.1', LON='-85.18'), Row(EVENT_ID='816239', LAT='39.14', LON='-84.84'), Row(EVENT_ID='838539', LAT='41.61', LON='-85.88'), Row(EVENT_ID='690594', LAT='39.97', LON='-85.92'), Row(EVENT_ID='753772', LAT='38.6836', LON='-87.5246'), Row(EVENT_ID='597303', LAT='41.6429', LON='-87.5172'), Row(EVENT_ID='813530', LAT='40.82', LON='-85.33'), Row(EVENT_ID='813532', LAT='40.97', LON='-85.37'), Row(EVENT_ID='1015268', LAT='38.73', LON='-86.91'), Row(EVENT_ID='690554', LAT='39.87', LON='-86.06'), Row(EVENT_ID='702859', LAT='39.2', LON='-85.93'), Row(EVENT_ID='707522', LAT='41.28', LON='-85.85'), Row(EVENT_ID='632135', LAT='38.51', LON='-86.02'), Row(EVENT_ID='569295', LAT='39.06', LON='-85.66'), Row(EVENT_ID='524376', LAT='39.12', LON='-86.59'), Row(EVENT_ID='875951', LAT='40.28', LON='-87.38'), Row(EVENT_ID='954270', LAT='38.27', LON='-87.68'), Row(EVENT_ID='957037', LAT='39.98', LON='-85.63'), Row(EVENT_ID='702817', LAT='39.21', LON='-86.87'), Row(EVENT_ID='625504', LAT='40.97', LON='-84.87'), Row(EVENT_ID='632982', LAT='39.6198', LON='-86.1965'), Row(EVENT_ID='631387', LAT='39.61', LON='-85.45'), Row(EVENT_ID='595401', LAT='40.51', LON='-84.9'), Row(EVENT_ID='458025', LAT='41.05', LON='-86.78'), Row(EVENT_ID='838534', LAT='41.62', LON='-86.31'), Row(EVENT_ID='957396', LAT='38.995', LON='-85.9448'), Row(EVENT_ID='687149', LAT='40.2', LON='-86.9'), Row(EVENT_ID='726157', LAT='38.88', LON='-87.08'), Row(EVENT_ID='505786', LAT='38.3', LON='-85.73'), Row(EVENT_ID='874548', LAT='40.04', LON='-86.13'), Row(EVENT_ID='521650', LAT='39.87', LON='-85.99'), Row(EVENT_ID='458031', LAT='41.0514', LON='-86.5071'), Row(EVENT_ID='695128', LAT='39.95', LON='-86.66'), Row(EVENT_ID='525502', LAT='38.4', LON='-85.75'), Row(EVENT_ID='435196', LAT='38.6', LON='-86.68'), Row(EVENT_ID='826088', LAT='41.71', LON='-86.9'), Row(EVENT_ID='874537', LAT='40.12', LON='-85.56'), Row(EVENT_ID='957021', LAT='39.91', LON='-85.93'), Row(EVENT_ID='1018085', LAT='39.31', LON='-85.97'), Row(EVENT_ID='717269', LAT='41.5421', LON='-87.05'), Row(EVENT_ID='588790', LAT='41.69', LON='-85.97'), Row(EVENT_ID='524368', LAT='39.7', LON='-86.41'), Row(EVENT_ID='828141', LAT='40.9', LON='-85.5'), Row(EVENT_ID='882603', LAT='39.21', LON='-85.91'), Row(EVENT_ID='1041352', LAT='41.22', LON='-85.18'), Row(EVENT_ID='690571', LAT='39.376', LON='-87.3998'), Row(EVENT_ID='681353', LAT='38.3', LON='-85.97'), Row(EVENT_ID='435209', LAT='38.3', LON='-85.97'), Row(EVENT_ID='838549', LAT='41.07', LON='-85.26'), Row(EVENT_ID='863105', LAT='38.05', LON='-87.27'), Row(EVENT_ID='687803', LAT='38.49', LON='-85.67'), Row(EVENT_ID='626904', LAT='39.2217', LON='-86.5482'), Row(EVENT_ID='658193', LAT='39.02', LON='-85.06'), Row(EVENT_ID='569704', LAT='39.62', LON='-86.15'), Row(EVENT_ID='433693', LAT='39.47', LON='-87.4'), Row(EVENT_ID='874573', LAT='39.92', LON='-86.79'), Row(EVENT_ID='902883', LAT='40.6', LON='-85.47'), Row(EVENT_ID='681360', LAT='38.49', LON='-85.79'), Row(EVENT_ID='622337', LAT='38.45', LON='-85.67'), Row(EVENT_ID='447463', LAT='38.29', LON='-85.72'), Row(EVENT_ID='957016', LAT='39.93', LON='-86.11'), Row(EVENT_ID='1016688', LAT='41.16', LON='-85.02'), Row(EVENT_ID='717271', LAT='41.5', LON='-87.53'), Row(EVENT_ID='726159', LAT='40.36', LON='-86.9'), Row(EVENT_ID='625492', LAT='40.96', LON='-85.22'), Row(EVENT_ID='524361', LAT='39.88', LON='-86.98'), Row(EVENT_ID='437879', LAT='38.68', LON='-87.51'), Row(EVENT_ID='638835', LAT='40.21', LON='-86.03'), Row(EVENT_ID='658194', LAT='38.91', LON='-84.99'), Row(EVENT_ID='581517', LAT='41.09', LON='-84.96'), Row(EVENT_ID='598014', LAT='39.8', LON='-85.87'), Row(EVENT_ID='895636', LAT='39.8971', LON='-86.2158'), Row(EVENT_ID='920439', LAT='39.668', LON='-86.3706'), Row(EVENT_ID='755081', LAT='41.48', LON='-86.69'), Row(EVENT_ID='763952', LAT='38.21', LON='-86.13'), Row(EVENT_ID='505783', LAT='38.33', LON='-85.87'), Row(EVENT_ID='485432', LAT='39.78', LON='-86.15'), Row(EVENT_ID='830211', LAT='39.8935', LON='-87.5292'), Row(EVENT_ID='901360', LAT='41.6', LON='-85.88'), Row(EVENT_ID='682575', LAT='41.57', LON='-85.01'), Row(EVENT_ID='696911', LAT='40.36', LON='-85.96'), Row(EVENT_ID='702845', LAT='39.18', LON='-86.54'), Row(EVENT_ID='777036', LAT='40.21', LON='-85.44'), Row(EVENT_ID='623020', LAT='38.4488', LON='-87.3454'), Row(EVENT_ID='920441', LAT='38.79', LON='-86.41'), Row(EVENT_ID='1019384', LAT='39.01', LON='-85.63'), Row(EVENT_ID='679849', LAT='39.34', LON='-85.48'), Row(EVENT_ID='690490', LAT='40.04', LON='-86.9'), Row(EVENT_ID='696890', LAT='39.38', LON='-86.56'), Row(EVENT_ID='714023', LAT='39.27', LON='-86.39'), Row(EVENT_ID='755098', LAT='41.36', LON='-85.06'), Row(EVENT_ID='622628', LAT='40.12', LON='-86.04'), Row(EVENT_ID='625496', LAT='40.83', LON='-85.17'), Row(EVENT_ID='622633', LAT='39.39', LON='-86.56'), Row(EVENT_ID='631441', LAT='39.59', LON='-86.2'), Row(EVENT_ID='638828', LAT='39.72', LON='-85.89'), Row(EVENT_ID='533747', LAT='41.21', LON='-84.97'), Row(EVENT_ID='541594', LAT='39.92', LON='-86.16'), Row(EVENT_ID='450915', LAT='41.5701', LON='-87.4326'), Row(EVENT_ID='841287', LAT='41.63', LON='-86.33'), Row(EVENT_ID='682571', LAT='41', LON='-85.28'), Row(EVENT_ID='702871', LAT='40.25', LON='-87.45'), Row(EVENT_ID='714004', LAT='40.13', LON='-86.02'), Row(EVENT_ID='622637', LAT='39.54', LON='-86.37'), Row(EVENT_ID='624758', LAT='39.6696', LON='-86.1381'), Row(EVENT_ID='423603', LAT='41.7', LON='-86'), Row(EVENT_ID='827499', LAT='41.47', LON='-87.05'), Row(EVENT_ID='901368', LAT='41.17', LON='-85.1'), Row(EVENT_ID='914663', LAT='40.89', LON='-85.51'), Row(EVENT_ID='957017', LAT='39.9', LON='-86.05'), Row(EVENT_ID='749019', LAT='37.98', LON='-87.55'), Row(EVENT_ID='632978', LAT='39.57', LON='-86.84'), Row(EVENT_ID='638820', LAT='39.66', LON='-86.67'), Row(EVENT_ID='569285', LAT='39.62', LON='-86.11'), Row(EVENT_ID='521579', LAT='39.78', LON='-86.15'), Row(EVENT_ID='523848', LAT='40.0409', LON='-86.2854'), Row(EVENT_ID='874519', LAT='38.98', LON='-86.04'), Row(EVENT_ID='957066', LAT='39.51', LON='-86.71'), Row(EVENT_ID='1017446', LAT='37.93', LON='-87.9'), Row(EVENT_ID='695114', LAT='40.47', LON='-86.91'), Row(EVENT_ID='650524', LAT='41.43', LON='-86.89'), Row(EVENT_ID='575939', LAT='38.48', LON='-85.77'), Row(EVENT_ID='429684', LAT='41.6257', LON='-87.1333'), Row(EVENT_ID='806027', LAT='38.1834', LON='-87.869'), Row(EVENT_ID='817691', LAT='40.43', LON='-86.82'), Row(EVENT_ID='682573', LAT='41.51', LON='-85.13'), Row(EVENT_ID='638855', LAT='38.66', LON='-87.17'), Row(EVENT_ID='590765', LAT='39.87', LON='-84.99'), Row(EVENT_ID='874516', LAT='38.8202', LON='-86.9561'), Row(EVENT_ID='874528', LAT='40', LON='-86.09'), Row(EVENT_ID='874535', LAT='40.06', LON='-85.69'), Row(EVENT_ID='874570', LAT='39.64', LON='-86.62'), Row(EVENT_ID='883822', LAT='41.47', LON='-87.0693'), Row(EVENT_ID='875969', LAT='40.01', LON='-86.16'), Row(EVENT_ID='895654', LAT='39.5', LON='-87.4'), Row(EVENT_ID='940485', LAT='40.02', LON='-86.16'), Row(EVENT_ID='979050', LAT='39.9625', LON='-86.9708'), Row(EVENT_ID='1016691', LAT='41.07', LON='-85.07'), Row(EVENT_ID='704476', LAT='40.77', LON='-85.81'), Row(EVENT_ID='541913', LAT='41.06', LON='-86.29'), Row(EVENT_ID='828145', LAT='40.8', LON='-85.46'), Row(EVENT_ID='876965', LAT='39.83', LON='-84.89'), Row(EVENT_ID='681362', LAT='38.41', LON='-86.13'), Row(EVENT_ID='697018', LAT='39.85', LON='-87.25'), Row(EVENT_ID='758177', LAT='38.95', LON='-85.34'), Row(EVENT_ID='625491', LAT='40.7', LON='-85.4'), Row(EVENT_ID='569705', LAT='39.62', LON='-86.11'), Row(EVENT_ID='838543', LAT='41.64', LON='-85.42'), Row(EVENT_ID='967206', LAT='41.24', LON='-86.25'), Row(EVENT_ID='1018084', LAT='38.93', LON='-86.44'), Row(EVENT_ID='762404', LAT='39.03', LON='-86.94'), Row(EVENT_ID='500538', LAT='39.52', LON='-85.78'), Row(EVENT_ID='505922', LAT='38.2', LON='-86.35'), Row(EVENT_ID='523855', LAT='39.79', LON='-86.15'), Row(EVENT_ID='831987', LAT='40.58', LON='-86.04'), Row(EVENT_ID='765682', LAT='40.55', LON='-85.11'), Row(EVENT_ID='631388', LAT='39.61', LON='-85.45'), Row(EVENT_ID='485437', LAT='39.28', LON='-86.14'), Row(EVENT_ID='874593', LAT='40.11', LON='-85.68'), Row(EVENT_ID='940475', LAT='40.14', LON='-85.69'), Row(EVENT_ID='1016690', LAT='41.03', LON='-84.91'), Row(EVENT_ID='1041341', LAT='41.04', LON='-85.14'), Row(EVENT_ID='1048894', LAT='41.11', LON='-85.05'), Row(EVENT_ID='715915', LAT='41.69', LON='-86.01'), Row(EVENT_ID='753771', LAT='38.68', LON='-87.51'), Row(EVENT_ID='523920', LAT='39.8427', LON='-86.4594'), Row(EVENT_ID='437940', LAT='39.49', LON='-86.08'), Row(EVENT_ID='940490', LAT='39.98', LON='-86.14'), Row(EVENT_ID='702820', LAT='39.29', LON='-86.77'), Row(EVENT_ID='638833', LAT='39.72', LON='-85.89'), Row(EVENT_ID='582672', LAT='41.5', LON='-87.07'), Row(EVENT_ID='455956', LAT='40.66', LON='-86.15'), Row(EVENT_ID='687022', LAT='40.56', LON='-85.15'), Row(EVENT_ID='597276', LAT='40.05', LON='-84.94'), Row(EVENT_ID='520644', LAT='41.53', LON='-85'), Row(EVENT_ID='679847', LAT='40.3501', LON='-87.5284'), Row(EVENT_ID='695139', LAT='40.38', LON='-86.13'), Row(EVENT_ID='631386', LAT='39.61', LON='-85.45'), Row(EVENT_ID='638814', LAT='39.711', LON='-86.0082'), Row(EVENT_ID='658196', LAT='38.97', LON='-84.91'), Row(EVENT_ID='523921', LAT='39.72', LON='-86.09'), Row(EVENT_ID='811261', LAT='38.88', LON='-86.05'), Row(EVENT_ID='875974', LAT='39.97', LON='-86.11'), Row(EVENT_ID='753769', LAT='38.68', LON='-87.51'), Row(EVENT_ID='500535', LAT='40.06', LON='-86.03'), Row(EVENT_ID='433730', LAT='40.08', LON='-85.49'), Row(EVENT_ID='838533', LAT='41.59', LON='-86.28'), Row(EVENT_ID='838546', LAT='41.43', LON='-84.83'), Row(EVENT_ID='886784', LAT='41.4291', LON='-86.9954'), Row(EVENT_ID='1034559', LAT='39.75', LON='-86.4'), Row(EVENT_ID='690569', LAT='40.18', LON='-85.69'), Row(EVENT_ID='686024', LAT='39.21', LON='-85.31'), Row(EVENT_ID='755087', LAT='41.45', LON='-85.84'), Row(EVENT_ID='588793', LAT='41.46', LON='-86.31'), Row(EVENT_ID='478318', LAT='41.42', LON='-87.36'), Row(EVENT_ID='828351', LAT='39.88', LON='-87.49'), Row(EVENT_ID='695107', LAT='39.01', LON='-85.76'), Row(EVENT_ID='713998', LAT='40.42', LON='-86.67'), Row(EVENT_ID='750974', LAT='41.3905', LON='-87.4227'), Row(EVENT_ID='582605', LAT='41.53', LON='-87.27'), Row(EVENT_ID='539185', LAT='39.16', LON='-84.83'), Row(EVENT_ID='830216', LAT='39.7', LON='-87.42'), Row(EVENT_ID='895661', LAT='39.44', LON='-87.53'), Row(EVENT_ID='1015263', LAT='38.9', LON='-87.19'), Row(EVENT_ID='687147', LAT='40.3015', LON='-87.0738'), Row(EVENT_ID='681361', LAT='38.32', LON='-86.15'), Row(EVENT_ID='523092', LAT='40.75', LON='-85.17'), Row(EVENT_ID='808739', LAT='39.55', LON='-85.18'), Row(EVENT_ID='895555', LAT='41.36', LON='-85.7'), Row(EVENT_ID='695112', LAT='39.2', LON='-86.24'), Row(EVENT_ID='625497', LAT='40.8', LON='-85.14'), Row(EVENT_ID='664335', LAT='38.96', LON='-87.4'), Row(EVENT_ID='575938', LAT='38.45', LON='-85.67'), Row(EVENT_ID='599263', LAT='41.01', LON='-87.45'), Row(EVENT_ID='541232', LAT='41.58', LON='-85.83'), Row(EVENT_ID='802627', LAT='38.32', LON='-86.1'), Row(EVENT_ID='876962', LAT='38.75', LON='-85.07'), Row(EVENT_ID='876964', LAT='38.76', LON='-85.06'), Row(EVENT_ID='1041345', LAT='41.75', LON='-86.09'), Row(EVENT_ID='690620', LAT='40.1058', LON='-85.7448'), Row(EVENT_ID='695131', LAT='40.05', LON='-86.47'), Row(EVENT_ID='783137', LAT='39.36', LON='-85.48'), Row(EVENT_ID='614942', LAT='38.42', LON='-85.9'), Row(EVENT_ID='450913', LAT='41.5567', LON='-87.4448'), Row(EVENT_ID='1041353', LAT='40.99', LON='-85.06'), Row(EVENT_ID='1048889', LAT='41.51', LON='-85.13'), Row(EVENT_ID='686244', LAT='38.1', LON='-87.78'), Row(EVENT_ID='632137', LAT='38.22', LON='-86.13'), Row(EVENT_ID='642243', LAT='37.93', LON='-87.9'), Row(EVENT_ID='505919', LAT='38.23', LON='-86.47'), Row(EVENT_ID='679845', LAT='40.42', LON='-86.82'), Row(EVENT_ID='687800', LAT='38.21', LON='-86.36'), Row(EVENT_ID='520642', LAT='41.44', LON='-84.86'), Row(EVENT_ID='523826', LAT='40.44', LON='-86.91'), Row(EVENT_ID='920440', LAT='39.79', LON='-85.81'), Row(EVENT_ID='690564', LAT='40.16', LON='-85.69'), Row(EVENT_ID='695786', LAT='40.6', LON='-85.7'), Row(EVENT_ID='659031', LAT='40.55', LON='-85.69'), Row(EVENT_ID='562024', LAT='38.88', LON='-85.04'), Row(EVENT_ID='830217', LAT='39.62', LON='-87.28'), Row(EVENT_ID='755089', LAT='41.42', LON='-85.79'), Row(EVENT_ID='764415', LAT='37.88', LON='-87.05'), Row(EVENT_ID='564393', LAT='38.28', LON='-85.75'), Row(EVENT_ID='588782', LAT='41.64', LON='-86.65'), Row(EVENT_ID='588818', LAT='40.86', LON='-86.88'), Row(EVENT_ID='590377', LAT='40.941', LON='-87.4884'), Row(EVENT_ID='541558', LAT='40.44', LON='-86.95'), Row(EVENT_ID='541919', LAT='40.98', LON='-85.82'), Row(EVENT_ID='467480', LAT='41.3311', LON='-87.0656'), Row(EVENT_ID='896125', LAT='41.53', LON='-87.31'), Row(EVENT_ID='630050', LAT='37.98', LON='-87.55'), Row(EVENT_ID='583951', LAT='38.24', LON='-85.98'), Row(EVENT_ID='541616', LAT='40.4177', LON='-86.7901'), Row(EVENT_ID='429681', LAT='41.5536', LON='-87.4519'), Row(EVENT_ID='433703', LAT='40.4', LON='-86.75'), Row(EVENT_ID='831989', LAT='40.87', LON='-86.13'), Row(EVENT_ID='957013', LAT='39.94', LON='-86.15'), Row(EVENT_ID='695448', LAT='41.18', LON='-85.1'), Row(EVENT_ID='569506', LAT='38.87', LON='-87.44'), Row(EVENT_ID='458026', LAT='41.05', LON='-86.6'), Row(EVENT_ID='838558', LAT='41.14', LON='-85.02'), Row(EVENT_ID='874524', LAT='39.59', LON='-85.44'), Row(EVENT_ID='876003', LAT='39.71', LON='-85.44'), Row(EVENT_ID='957354', LAT='39.72', LON='-85.9'), Row(EVENT_ID='682583', LAT='41.68', LON='-85.58'), Row(EVENT_ID='673563', LAT='39.22', LON='-84.86'), Row(EVENT_ID='687213', LAT='39.95', LON='-86.29'), Row(EVENT_ID='813534', LAT='41.11', LON='-85.06'), Row(EVENT_ID='838552', LAT='41.07', LON='-85.14'), Row(EVENT_ID='967032', LAT='40.37', LON='-85.21'), Row(EVENT_ID='957061', LAT='39.93', LON='-85.39'), Row(EVENT_ID='1018168', LAT='38.1595', LON='-87.674'), Row(EVENT_ID='690563', LAT='38.52', LON='-87.52'), Row(EVENT_ID='588787', LAT='41.2', LON='-86.8'), Row(EVENT_ID='505921', LAT='38.18', LON='-86.4'), Row(EVENT_ID='523863', LAT='39.7523', LON='-86.1399'), Row(EVENT_ID='541227', LAT='41.24', LON='-85.78'), Row(EVENT_ID='447161', LAT='40.58', LON='-85.87'), Row(EVENT_ID='458027', LAT='41.05', LON='-86.6'), Row(EVENT_ID='478103', LAT='40.69', LON='-87.22'), Row(EVENT_ID='838535', LAT='41.57', LON='-85.01'), Row(EVENT_ID='597198', LAT='39.95', LON='-86.27'), Row(EVENT_ID='575922', LAT='38.56', LON='-86.47'), Row(EVENT_ID='588805', LAT='41.65', LON='-86.16'), Row(EVENT_ID='597200', LAT='38.61', LON='-87.35'), Row(EVENT_ID='518263', LAT='39.08', LON='-85.38'), Row(EVENT_ID='535531', LAT='41.75', LON='-85.98'), Row(EVENT_ID='755091', LAT='41.41', LON='-85.26'), Row(EVENT_ID='623023', LAT='38.27', LON='-87.68'), Row(EVENT_ID='632136', LAT='38.23', LON='-86.13'), Row(EVENT_ID='588795', LAT='40.75', LON='-86.36'), Row(EVENT_ID='600768', LAT='40.94', LON='-85.35'), Row(EVENT_ID='523827', LAT='40.44', LON='-86.91'), Row(EVENT_ID='524364', LAT='39.62', LON='-86.37'), Row(EVENT_ID='507969', LAT='38.3', LON='-85.83'), Row(EVENT_ID='451905', LAT='37.9584', LON='-87.6752'), Row(EVENT_ID='957895', LAT='39.93', LON='-86.2229'), Row(EVENT_ID='1007073', LAT='37.98', LON='-87.5133'), Row(EVENT_ID='721022', LAT='38.68', LON='-85.7515'), Row(EVENT_ID='738176', LAT='39.89', LON='-85.95'), Row(EVENT_ID='755095', LAT='41.35', LON='-85.13'), Row(EVENT_ID='650511', LAT='40.83', LON='-84.93'), Row(EVENT_ID='578561', LAT='39.9992', LON='-86.1835'), Row(EVENT_ID='595992', LAT='39.69', LON='-86.37'), Row(EVENT_ID='510946', LAT='38.0848', LON='-87.1165'), Row(EVENT_ID='520368', LAT='40.77', LON='-86.07'), Row(EVENT_ID='447162', LAT='40.8', LON='-85.49'), Row(EVENT_ID='815366', LAT='41.65', LON='-85.03'), Row(EVENT_ID='813518', LAT='41.57', LON='-85.99'), Row(EVENT_ID='682557', LAT='39.41', LON='-86.42'), Row(EVENT_ID='695132', LAT='39.76', LON='-86.56'), Row(EVENT_ID='765712', LAT='40.28', LON='-85.82'), Row(EVENT_ID='624757', LAT='39.7399', LON='-86.0259'), Row(EVENT_ID='638854', LAT='38.66', LON='-87.18'), Row(EVENT_ID='569286', LAT='39.49', LON='-86.06'), Row(EVENT_ID='569290', LAT='39.74', LON='-85.43'), Row(EVENT_ID='569580', LAT='37.95', LON='-86.76'), Row(EVENT_ID='682580', LAT='41.66', LON='-86.17'), Row(EVENT_ID='688395', LAT='41.4', LON='-87.2'), Row(EVENT_ID='707530', LAT='41.64', LON='-86.01'), Row(EVENT_ID='717273', LAT='41.45', LON='-87.47'), Row(EVENT_ID='762797', LAT='39.93', LON='-85.37'), Row(EVENT_ID='625499', LAT='41.15', LON='-85.14'), Row(EVENT_ID='458029', LAT='41.23', LON='-85.32'), Row(EVENT_ID='940486', LAT='40', LON='-86.18'), Row(EVENT_ID='947275', LAT='39.12', LON='-85.13'), Row(EVENT_ID='638836', LAT='39.7135', LON='-85.8599'), Row(EVENT_ID='632138', LAT='38.13', LON='-85.98'), Row(EVENT_ID='597196', LAT='39.98', LON='-86.36'), Row(EVENT_ID='524373', LAT='39.88', LON='-87.05'), Row(EVENT_ID='521196', LAT='39.81', LON='-85.17'), Row(EVENT_ID='523083', LAT='41.24', LON='-85.85'), Row(EVENT_ID='541628', LAT='40.13', LON='-86.61'), Row(EVENT_ID='883824', LAT='41.54', LON='-87.26'), Row(EVENT_ID='674338', LAT='38.65', LON='-86.26'), Row(EVENT_ID='765037', LAT='40.24', LON='-85.75'), Row(EVENT_ID='559381', LAT='39.7', LON='-86.39'), Row(EVENT_ID='459396', LAT='37.8698', LON='-87.063'), Row(EVENT_ID='815363', LAT='41.71', LON='-86.51'), Row(EVENT_ID='707531', LAT='41.7', LON='-85.95'), Row(EVENT_ID='783138', LAT='39.34', LON='-85.47'), Row(EVENT_ID='569709', LAT='40.29', LON='-86.78'), Row(EVENT_ID='520369', LAT='40.76', LON='-86.18'), Row(EVENT_ID='687145', LAT='40.29', LON='-87.25'), Row(EVENT_ID='695116', LAT='40.04', LON='-86.9'), Row(EVENT_ID='705784', LAT='39.951', LON='-86.2604'), Row(EVENT_ID='659564', LAT='39.04', LON='-84.96'), Row(EVENT_ID='559375', LAT='39.83', LON='-86.21'), Row(EVENT_ID='523854', LAT='39.7819', LON='-86.1576'), Row(EVENT_ID='828139', LAT='40.88', LON='-85.61'), Row(EVENT_ID='875959', LAT='40.13', LON='-86.61'), Row(EVENT_ID='885542', LAT='40.48', LON='-85.97'), Row(EVENT_ID='939666', LAT='39.9', LON='-86.22'), Row(EVENT_ID='714006', LAT='39.4', LON='-86.54'), Row(EVENT_ID='622632', LAT='38.86', LON='-87.44'), Row(EVENT_ID='638852', LAT='38.75', LON='-87.33'), Row(EVENT_ID='597199', LAT='39.72', LON='-86.29'), Row(EVENT_ID='433713', LAT='39.92', LON='-86.23'), Row(EVENT_ID='433731', LAT='40.17', LON='-85.39'), Row(EVENT_ID='837267', LAT='40', LON='-85.39'), Row(EVENT_ID='695118', LAT='39.89', LON='-86.54'), Row(EVENT_ID='582606', LAT='41.471', LON='-87.2182'), Row(EVENT_ID='597304', LAT='41.65', LON='-87.45'), Row(EVENT_ID='524367', LAT='39.54', LON='-86.37'), Row(EVENT_ID='1041347', LAT='41.73', LON='-86.16'), Row(EVENT_ID='695155', LAT='40.26', LON='-85.82'), Row(EVENT_ID='704474', LAT='41.69', LON='-86'), Row(EVENT_ID='715920', LAT='40.95', LON='-85.62'), Row(EVENT_ID='614943', LAT='38.48', LON='-85.63'), Row(EVENT_ID='628819', LAT='38.27', LON='-87.69'), Row(EVENT_ID='569708', LAT='39.62', LON='-86.11'), Row(EVENT_ID='580317', LAT='40.88', LON='-87.3'), Row(EVENT_ID='520650', LAT='41.58', LON='-85.17'), Row(EVENT_ID='520648', LAT='41.59', LON='-85.1'), Row(EVENT_ID='437969', LAT='40.01', LON='-86.71'), Row(EVENT_ID='455957', LAT='40.66', LON='-86.1'), Row(EVENT_ID='953858', LAT='39.57', LON='-85.15'), Row(EVENT_ID='695789', LAT='41.12', LON='-85.14'), Row(EVENT_ID='714029', LAT='38.84', LON='-85.82'), Row(EVENT_ID='782680', LAT='40.91', LON='-86.45'), Row(EVENT_ID='563820', LAT='38.37', LON='-86.34'), Row(EVENT_ID='595987', LAT='39.7105', LON='-86.4817'), Row(EVENT_ID='429680', LAT='41.4944', LON='-87.5244'), Row(EVENT_ID='813525', LAT='40.9', LON='-85.55'), Row(EVENT_ID='834563', LAT='41.1855', LON='-87.2'), Row(EVENT_ID='925409', LAT='38.4068', LON='-85.7744'), Row(EVENT_ID='690559', LAT='40.07', LON='-85.84'), Row(EVENT_ID='524369', LAT='39.62', LON='-86.37'), Row(EVENT_ID='523089', LAT='40.82', LON='-85.32'), Row(EVENT_ID='433729', LAT='39.92', LON='-86.8'), Row(EVENT_ID='464143', LAT='38.92', LON='-85.89'), Row(EVENT_ID='894513', LAT='41.48', LON='-87.52'), Row(EVENT_ID='595995', LAT='39.7', LON='-86.24'), Row(EVENT_ID='523853', LAT='39.79', LON='-86.16'), Row(EVENT_ID='523965', LAT='39.95', LON='-87.3'), Row(EVENT_ID='523090', LAT='40.81', LON='-85.3'), Row(EVENT_ID='815362', LAT='41.57', LON='-86.7'), Row(EVENT_ID='813522', LAT='40.92', LON='-85.45'), Row(EVENT_ID='875965', LAT='40', LON='-86.1'), Row(EVENT_ID='765866', LAT='38.52', LON='-87.52'), Row(EVENT_ID='563802', LAT='38.33', LON='-86.75'), Row(EVENT_ID='536919', LAT='39.19', LON='-86.16'), Row(EVENT_ID='433643', LAT='39.91', LON='-86.31'), Row(EVENT_ID='458024', LAT='41.05', LON='-86.8'), Row(EVENT_ID='841387', LAT='38.38', LON='-85.77'), Row(EVENT_ID='846534', LAT='40.6', LON='-86.96'), Row(EVENT_ID='874518', LAT='38.9', LON='-86.47'), Row(EVENT_ID='1018163', LAT='38.0923', LON='-86.815'), Row(EVENT_ID='564389', LAT='38.12', LON='-86.42'), Row(EVENT_ID='837295', LAT='39.24', LON='-86.5'), Row(EVENT_ID='876036', LAT='39.13', LON='-86.44'), Row(EVENT_ID='901361', LAT='40.6', LON='-85.92'), Row(EVENT_ID='686247', LAT='37.98', LON='-87.6602'), Row(EVENT_ID='755088', LAT='41.5', LON='-85.83'), Row(EVENT_ID='763963', LAT='38.76', LON='-85.38'), Row(EVENT_ID='771905', LAT='40.75', LON='-85.68'), Row(EVENT_ID='783139', LAT='39.34', LON='-85.48'), Row(EVENT_ID='433728', LAT='39.959', LON='-86.705'), Row(EVENT_ID='830182', LAT='39.66', LON='-87.41'), Row(EVENT_ID='875950', LAT='40.29', LON='-87.29'), Row(EVENT_ID='690500', LAT='40.13', LON='-86.65'), Row(EVENT_ID='707527', LAT='41.64', LON='-86.3'), Row(EVENT_ID='616636', LAT='38.55', LON='-86.62'), Row(EVENT_ID='624755', LAT='40.19', LON='-85.2'), Row(EVENT_ID='433716', LAT='39.97', LON='-86.11'), Row(EVENT_ID='435201', LAT='38.48', LON='-86.32'), Row(EVENT_ID='876963', LAT='38.75', LON='-85.07'), Row(EVENT_ID='695439', LAT='41.28', LON='-84.91'), Row(EVENT_ID='582673', LAT='41.4695', LON='-87.0217'), Row(EVENT_ID='523820', LAT='40.2', LON='-85.43'), Row(EVENT_ID='437876', LAT='38.52', LON='-87.52'), Row(EVENT_ID='616639', LAT='38.33', LON='-86.57'), Row(EVENT_ID='523865', LAT='39.7745', LON='-86.1744'), Row(EVENT_ID='839110', LAT='40.9401', LON='-87.1505'), Row(EVENT_ID='957868', LAT='38.98', LON='-85.87'), Row(EVENT_ID='674339', LAT='38.25', LON='-86.96'), Row(EVENT_ID='687148', LAT='40.22', LON='-86.9'), Row(EVENT_ID='717270', LAT='41.5', LON='-87.45'), Row(EVENT_ID='632979', LAT='39.66', LON='-87.41'), Row(EVENT_ID='659030', LAT='40.65', LON='-85.99'), Row(EVENT_ID='533740', LAT='41.28', LON='-85.61'), Row(EVENT_ID='455955', LAT='40.78', LON='-86.27'), Row(EVENT_ID='828143', LAT='40.74', LON='-85.62'), Row(EVENT_ID='913787', LAT='38.0308', LON='-86.0883'), Row(EVENT_ID='941975', LAT='38.1', LON='-87.58'), Row(EVENT_ID='622336', LAT='38.48', LON='-85.77'), Row(EVENT_ID='582604', LAT='41.52', LON='-87.42'), Row(EVENT_ID='433712', LAT='39.85', LON='-86.38'), Row(EVENT_ID='437942', LAT='39.49', LON='-86.06'), Row(EVENT_ID='458030', LAT='41.23', LON='-85.17'), Row(EVENT_ID='1033437', LAT='38.43', LON='-86.4'), Row(EVENT_ID='1033439', LAT='38.67', LON='-85.95'), Row(EVENT_ID='687214', LAT='39.89', LON='-86.05'), Row(EVENT_ID='705249', LAT='41.72', LON='-86.22'), Row(EVENT_ID='622658', LAT='39.7219', LON='-86.0911'), Row(EVENT_ID='541236', LAT='40.88', LON='-86.76'), Row(EVENT_ID='433732', LAT='40.19', LON='-85.27'), Row(EVENT_ID='437921', LAT='39.1766', LON='-86.2704'), Row(EVENT_ID='876009', LAT='38.71', LON='-87.4'), Row(EVENT_ID='895639', LAT='39.7231', LON='-86.1208'), Row(EVENT_ID='671555', LAT='39.5', LON='-85.28'), Row(EVENT_ID='682586', LAT='41.68', LON='-85'), Row(EVENT_ID='755097', LAT='41.43', LON='-85.06'), Row(EVENT_ID='783140', LAT='39.39', LON='-85.4'), Row(EVENT_ID='569199', LAT='39.9119', LON='-86.203'), Row(EVENT_ID='512304', LAT='38.4505', LON='-87.1539'), Row(EVENT_ID='536927', LAT='40.3', LON='-85.23'), Row(EVENT_ID='541921', LAT='41.01', LON='-85.18'), Row(EVENT_ID='808740', LAT='39.56', LON='-85.09'), Row(EVENT_ID='830231', LAT='40.07', LON='-85.84'), Row(EVENT_ID='882862', LAT='40.64', LON='-86.06'), Row(EVENT_ID='680482', LAT='38.2', LON='-87.57'), Row(EVENT_ID='687021', LAT='41.07', LON='-85.14'), Row(EVENT_ID='625489', LAT='40.79', LON='-85.46'), Row(EVENT_ID='585810', LAT='39.08', LON='-85.38'), Row(EVENT_ID='523818', LAT='39.9089', LON='-85.896'), Row(EVENT_ID='527171', LAT='41.7', LON='-86.31'), Row(EVENT_ID='541613', LAT='40.3962', LON='-86.8579'), Row(EVENT_ID='1021108', LAT='39.72', LON='-85.65'), Row(EVENT_ID='687152', LAT='40', LON='-86.35'), Row(EVENT_ID='687211', LAT='39.96', LON='-86.16'), Row(EVENT_ID='616637', LAT='38.57', LON='-86.61'), Row(EVENT_ID='654124', LAT='39.64', LON='-86.84'), Row(EVENT_ID='600750', LAT='41.06', LON='-85.04'), Row(EVENT_ID='875972', LAT='39.91', LON='-86.19'), Row(EVENT_ID='687212', LAT='39.96', LON='-86.16'), Row(EVENT_ID='695437', LAT='41.26', LON='-84.89'), Row(EVENT_ID='559379', LAT='39.7', LON='-86.41'), Row(EVENT_ID='818631', LAT='39.53', LON='-85.34'), Row(EVENT_ID='874572', LAT='40.03', LON='-86.11'), Row(EVENT_ID='1046439', LAT='38.35', LON='-85.77'), Row(EVENT_ID='679843', LAT='40.43', LON='-86.88'), Row(EVENT_ID='559378', LAT='39.9438', LON='-86.1459'), Row(EVENT_ID='575935', LAT='38.53', LON='-85.77'), Row(EVENT_ID='875952', LAT='40.17', LON='-87.07'), Row(EVENT_ID='686987', LAT='41.44', LON='-85.06'), Row(EVENT_ID='626852', LAT='38.149', LON='-86.9'), Row(EVENT_ID='524474', LAT='39.34', LON='-85.48'), Row(EVENT_ID='536915', LAT='40.14', LON='-87.39'), Row(EVENT_ID='541926', LAT='40.68', LON='-85.09'), Row(EVENT_ID='465179', LAT='40.4807', LON='-86.1085'), Row(EVENT_ID='838530', LAT='41.68', LON='-86.27'), Row(EVENT_ID='681357', LAT='38.32', LON='-85.86'), Row(EVENT_ID='622657', LAT='39.7082', LON='-86.1393'), Row(EVENT_ID='533734', LAT='41.4', LON='-85.42'), Row(EVENT_ID='433722', LAT='39.97', LON='-86.11'), Row(EVENT_ID='455958', LAT='41.53', LON='-86.43'), Row(EVENT_ID='828800', LAT='40.81', LON='-85.48'), Row(EVENT_ID='940480', LAT='40.04', LON='-86.11'), Row(EVENT_ID='714013', LAT='39.23', LON='-86.42'), Row(EVENT_ID='783132', LAT='39.89', LON='-85.84'), Row(EVENT_ID='584353', LAT='39.6', LON='-85.86'), Row(EVENT_ID='586886', LAT='39.96', LON='-85.13'), Row(EVENT_ID='507971', LAT='38.23', LON='-86.47'), Row(EVENT_ID='529921', LAT='41.7', LON='-86.51'), Row(EVENT_ID='464084', LAT='39.87', LON='-85.99'), Row(EVENT_ID='813528', LAT='41.07', LON='-85.03'), Row(EVENT_ID='1041348', LAT='41.65', LON='-86.03'), Row(EVENT_ID='690555', LAT='39.9051', LON='-86.0434'), Row(EVENT_ID='753534', LAT='40.9166', LON='-87.3269'), Row(EVENT_ID='631426', LAT='39.34', LON='-85.48'), Row(EVENT_ID='659032', LAT='40.54', LON='-85.65'), Row(EVENT_ID='582614', LAT='40.95', LON='-87.15'), Row(EVENT_ID='523867', LAT='39.72', LON='-86.09'), Row(EVENT_ID='830215', LAT='39.81', LON='-86.2'), Row(EVENT_ID='830180', LAT='39.66', LON='-87.43'), Row(EVENT_ID='838544', LAT='41.5', LON='-86.01'), Row(EVENT_ID='687799', LAT='38.34', LON='-86.22'), Row(EVENT_ID='758179', LAT='39.0746', LON='-85.3868'), Row(EVENT_ID='625500', LAT='41.13', LON='-85.15'), Row(EVENT_ID='515615', LAT='39.96', LON='-86.71'), Row(EVENT_ID='527313', LAT='40.28', LON='-85.84'), Row(EVENT_ID='901365', LAT='41.1', LON='-85.15'), Row(EVENT_ID='622627', LAT='39.91', LON='-86.04'), Row(EVENT_ID='622339', LAT='38.43', LON='-85.64'), Row(EVENT_ID='521637', LAT='39.69', LON='-86.15'), Row(EVENT_ID='523838', LAT='40.1264', LON='-86.3991'), Row(EVENT_ID='437934', LAT='39.24', LON='-86.2'), Row(EVENT_ID='437943', LAT='39.5', LON='-86.04'), Row(EVENT_ID='467479', LAT='41.35', LON='-87.13'), Row(EVENT_ID='817689', LAT='40.42', LON='-86.94'), Row(EVENT_ID='827500', LAT='40.52', LON='-87.25'), Row(EVENT_ID='874522', LAT='39.61', LON='-85.45'), Row(EVENT_ID='925408', LAT='38.4572', LON='-85.9257'), Row(EVENT_ID='687155', LAT='39.89', LON='-86.1'), Row(EVENT_ID='577276', LAT='38.23', LON='-86.67'), Row(EVENT_ID='433704', LAT='39.87', LON='-86.46'), Row(EVENT_ID='435199', LAT='38.56', LON='-86.47'), Row(EVENT_ID='813533', LAT='40.77', LON='-85.19'), Row(EVENT_ID='874542', LAT='39.98', LON='-86.62'), Row(EVENT_ID='1007075', LAT='38.3134', LON='-87.68'), Row(EVENT_ID='682582', LAT='41.68', LON='-85.71'), Row(EVENT_ID='707523', LAT='40.89', LON='-86.08'), Row(EVENT_ID='718386', LAT='39.92', LON='-86.16'), Row(EVENT_ID='423604', LAT='41.68', LON='-85.98'), Row(EVENT_ID='828797', LAT='40.76', LON='-86.53'), Row(EVENT_ID='831802', LAT='39.92', LON='-85.36'), Row(EVENT_ID='985088', LAT='41.63', LON='-85.91'), Row(EVENT_ID='690556', LAT='39.94', LON='-86.02'), Row(EVENT_ID='702873', LAT='40.29', LON='-87.29'), Row(EVENT_ID='714003', LAT='40.1234', LON='-86.0375'), Row(EVENT_ID='602753', LAT='40.59', LON='-87.28'), Row(EVENT_ID='521534', LAT='40.21', LON='-84.81'), Row(EVENT_ID='521070', LAT='41.48', LON='-87.33'), Row(EVENT_ID='520645', LAT='41.58', LON='-85.02'), Row(EVENT_ID='487156', LAT='37.95', LON='-87.17'), Row(EVENT_ID='695111', LAT='39.15', LON='-86.37'), Row(EVENT_ID='654125', LAT='39.69', LON='-86.15'), Row(EVENT_ID='654127', LAT='39.78', LON='-86.15'), Row(EVENT_ID='521577', LAT='39.6236', LON='-85.3068'), Row(EVENT_ID='541870', LAT='38.27', LON='-87.15'), Row(EVENT_ID='439495', LAT='38.3428', LON='-87.57'), Row(EVENT_ID='455966', LAT='40.66', LON='-84.95'), Row(EVENT_ID='817688', LAT='40.03', LON='-87.15'), Row(EVENT_ID='883823', LAT='41.5398', LON='-87.4837'), Row(EVENT_ID='957365', LAT='39.41', LON='-86.31'), Row(EVENT_ID='695799', LAT='40.75', LON='-86.36'), Row(EVENT_ID='714010', LAT='39.37', LON='-86.48'), Row(EVENT_ID='625486', LAT='40.5', LON='-85.61'), Row(EVENT_ID='527170', LAT='41.55', LON='-86.43'), Row(EVENT_ID='545028', LAT='40.69', LON='-87.42'), Row(EVENT_ID='541924', LAT='40.88', LON='-85.5'), Row(EVENT_ID='437878', LAT='39.03', LON='-85.92'), Row(EVENT_ID='811260', LAT='40.42', LON='-86.27'), Row(EVENT_ID='714026', LAT='39.63', LON='-86.31'), Row(EVENT_ID='721023', LAT='38.5795', LON='-85.7538'), Row(EVENT_ID='622648', LAT='39.23', LON='-86.42'), Row(EVENT_ID='588806', LAT='41.66', LON='-86.16'), Row(EVENT_ID='577271', LAT='38.21', LON='-86.13'), Row(EVENT_ID='523830', LAT='40.2686', LON='-86.5625'), Row(EVENT_ID='1019383', LAT='39', LON='-85.74'), Row(EVENT_ID='718385', LAT='39.8534', LON='-86.232'), Row(EVENT_ID='581273', LAT='40.98', LON='-86.18'), Row(EVENT_ID='874520', LAT='39.52', LON='-85.78'), Row(EVENT_ID='874531', LAT='40.02', LON='-86.06'), Row(EVENT_ID='879971', LAT='39.2', LON='-87.35'), Row(EVENT_ID='979327', LAT='41.68', LON='-86.23'), Row(EVENT_ID='625494', LAT='40.75', LON='-85.18'), Row(EVENT_ID='1019189', LAT='40.0497', LON='-86.1045'), Row(EVENT_ID='686985', LAT='41.45', LON='-86.16'), Row(EVENT_ID='674340', LAT='38.27', LON='-86.96'), Row(EVENT_ID='695787', LAT='40.63', LON='-85.72'), Row(EVENT_ID='686249', LAT='38.07', LON='-87.5484'), Row(EVENT_ID='616635', LAT='38.23', LON='-86.86'), Row(EVENT_ID='654031', LAT='39.52', LON='-85.78'), Row(EVENT_ID='583950', LAT='38.24', LON='-86.13'), Row(EVENT_ID='520647', LAT='41.58', LON='-85.07'), Row(EVENT_ID='838537', LAT='41.64', LON='-86.16'), Row(EVENT_ID='957361', LAT='39.2578', LON='-86.3567'), Row(EVENT_ID='695121', LAT='39.12', LON='-86.94'), Row(EVENT_ID='755099', LAT='41.62', LON='-84.84'), Row(EVENT_ID='783135', LAT='39.77', LON='-86.03'), Row(EVENT_ID='638817', LAT='39.64', LON='-86.84'), Row(EVENT_ID='639127', LAT='39.31', LON='-86.29'), Row(EVENT_ID='654126', LAT='39.7', LON='-86.15'), Row(EVENT_ID='659026', LAT='40.86', LON='-86.73'), Row(EVENT_ID='597623', LAT='40.95', LON='-87.45'), Row(EVENT_ID='539806', LAT='41.12', LON='-85.14'), Row(EVENT_ID='541242', LAT='41.63', LON='-85'), Row(EVENT_ID='895648', LAT='39.55', LON='-87.51'), Row(EVENT_ID='909366', LAT='40.3', LON='-86.96'), Row(EVENT_ID='753766', LAT='39.62', LON='-87.28'), Row(EVENT_ID='753770', LAT='38.68', LON='-87.53'), Row(EVENT_ID='769150', LAT='39.31', LON='-85.23'), Row(EVENT_ID='614945', LAT='38.48', LON='-85.55'), Row(EVENT_ID='658574', LAT='39.82', LON='-86.2'), Row(EVENT_ID='523833', LAT='40.17', LON='-86.47'), Row(EVENT_ID='541916', LAT='41.62', LON='-86.74'), Row(EVENT_ID='471727', LAT='39.7399', LON='-86.0257'), Row(EVENT_ID='819537', LAT='41.55', LON='-87.13'), Row(EVENT_ID='841285', LAT='41.71', LON='-86.51'), Row(EVENT_ID='872986', LAT='39.52', LON='-85.06'), Row(EVENT_ID='874533', LAT='40.0408', LON='-86.072'), Row(EVENT_ID='875991', LAT='39.78', LON='-85.83'), Row(EVENT_ID='681358', LAT='38.28', LON='-85.9'), Row(EVENT_ID='659027', LAT='40.76', LON='-86.4'), Row(EVENT_ID='582613', LAT='41.18', LON='-87.21'), Row(EVENT_ID='442078', LAT='41.13', LON='-87.45'), Row(EVENT_ID='466282', LAT='41.68', LON='-86.25'), Row(EVENT_ID='763949', LAT='38.2', LON='-86.35'), Row(EVENT_ID='758176', LAT='39.16', LON='-85.25'), Row(EVENT_ID='530225', LAT='40.29', LON='-87.29'), Row(EVENT_ID='467476', LAT='41.33', LON='-87.22'), Row(EVENT_ID='812434', LAT='41.58', LON='-87.48'), Row(EVENT_ID='831990', LAT='40.47', LON='-85.45'), Row(EVENT_ID='957366', LAT='39.33', LON='-86.68'), Row(EVENT_ID='695135', LAT='40.29', LON='-86.23'), Row(EVENT_ID='755090', LAT='41.41', LON='-85.37'), Row(EVENT_ID='625485', LAT='40.56', LON='-85.66'), Row(EVENT_ID='523088', LAT='40.96', LON='-85.37'), Row(EVENT_ID='957060', LAT='39.95', LON='-85.49'), Row(EVENT_ID='702850', LAT='39.15', LON='-86.57'), Row(EVENT_ID='638819', LAT='40.19', LON='-86.9'), Row(EVENT_ID='600760', LAT='40.67', LON='-85.08'), Row(EVENT_ID='437888', LAT='39.35', LON='-86.2'), Row(EVENT_ID='833778', LAT='40.35', LON='-86.87'), Row(EVENT_ID='895658', LAT='39.51', LON='-87.41'), Row(EVENT_ID='939662', LAT='39.05', LON='-86.81'), Row(EVENT_ID='1033438', LAT='38.46', LON='-86.31'), Row(EVENT_ID='682577', LAT='41.73', LON='-86.16'), Row(EVENT_ID='687218', LAT='39.61', LON='-85.59'), Row(EVENT_ID='690473', LAT='39.96', LON='-86.92'), Row(EVENT_ID='742902', LAT='41.73', LON='-85.06'), Row(EVENT_ID='625503', LAT='40.86', LON='-84.93'), Row(EVENT_ID='524064', LAT='39.77', LON='-86.8'), Row(EVENT_ID='815365', LAT='41.59', LON='-85.14'), Row(EVENT_ID='838531', LAT='41.59', LON='-85.05'), Row(EVENT_ID='957018', LAT='40.29', LON='-84.82'), Row(EVENT_ID='957051', LAT='39.58', LON='-86.82'), Row(EVENT_ID='964963', LAT='40.09', LON='-84.94'), Row(EVENT_ID='673562', LAT='39.14', LON='-85.14'), Row(EVENT_ID='704475', LAT='41.42', LON='-85.28'), Row(EVENT_ID='755084', LAT='41.38', LON='-86.58'), Row(EVENT_ID='559380', LAT='39.89', LON='-86.16'), Row(EVENT_ID='597986', LAT='40.0223', LON='-85.1826'), Row(EVENT_ID='939663', LAT='39.19', LON='-86.78'), Row(EVENT_ID='957828', LAT='38.8282', LON='-85.8359'), Row(EVENT_ID='762405', LAT='39.03', LON='-86.94'), Row(EVENT_ID='777033', LAT='39.04', LON='-85.69'), Row(EVENT_ID='764039', LAT='38.7', LON='-85.9'), Row(EVENT_ID='764050', LAT='38.32', LON='-85.77'), Row(EVENT_ID='622641', LAT='39.41', LON='-86.26'), Row(EVENT_ID='569201', LAT='39.9197', LON='-86.1363'), Row(EVENT_ID='569538', LAT='39.5382', LON='-86.1869'), Row(EVENT_ID='588461', LAT='41.3498', LON='-86.2739'), Row(EVENT_ID='505784', LAT='38.36', LON='-85.77'), Row(EVENT_ID='536918', LAT='39.7325', LON='-86.8216'), Row(EVENT_ID='433709', LAT='39.84', LON='-86.39'), Row(EVENT_ID='830233', LAT='40.01', LON='-84.94'), Row(EVENT_ID='874526', LAT='39.98', LON='-86.14'), Row(EVENT_ID='690596', LAT='40.08', LON='-85.74'), Row(EVENT_ID='722289', LAT='40.2', LON='-85.41'), Row(EVENT_ID='659029', LAT='40.66', LON='-86.1'), Row(EVENT_ID='433727', LAT='39.95', LON='-86.02'), Row(EVENT_ID='478102', LAT='40.77', LON='-87.45'), Row(EVENT_ID='957356', LAT='39.74', LON='-85.88'), Row(EVENT_ID='681356', LAT='38.29', LON='-85.92'), Row(EVENT_ID='631437', LAT='39.6249', LON='-86.1585'), Row(EVENT_ID='597278', LAT='39.78', LON='-86.15'), Row(EVENT_ID='489419', LAT='38.15', LON='-86.74'), Row(EVENT_ID='541239', LAT='40.76', LON='-87.04'), Row(EVENT_ID='541922', LAT='40.99', LON='-85.13'), Row(EVENT_ID='433630', LAT='39.8192', LON='-86.6756'), Row(EVENT_ID='812437', LAT='41.3779', LON='-87.03'), Row(EVENT_ID='837292', LAT='38.96', LON='-85.88'), Row(EVENT_ID='681469', LAT='41.67', LON='-86.08'), Row(EVENT_ID='715923', LAT='41.19', LON='-86.82'), Row(EVENT_ID='764047', LAT='38.24', LON='-86.38'), Row(EVENT_ID='639802', LAT='39.4592', LON='-87.3977'), Row(EVENT_ID='569291', LAT='39.64', LON='-85.58'), Row(EVENT_ID='595993', LAT='39.61', LON='-86.48'), Row(EVENT_ID='517391', LAT='39.56', LON='-85.09'), Row(EVENT_ID='541868', LAT='38.35', LON='-87.57'), Row(EVENT_ID='465378', LAT='41.47', LON='-87.33'), Row(EVENT_ID='813520', LAT='41.52', LON='-85.77'), Row(EVENT_ID='813531', LAT='40.83', LON='-85.34'), Row(EVENT_ID='1041349', LAT='41.61', LON='-85.94'), Row(EVENT_ID='682584', LAT='41.69', LON='-85.6'), Row(EVENT_ID='687802', LAT='38.26', LON='-86.33'), Row(EVENT_ID='727856', LAT='41.54', LON='-85.45'), Row(EVENT_ID='568306', LAT='41.59', LON='-86.16'), Row(EVENT_ID='605520', LAT='38.39', LON='-85.76'), Row(EVENT_ID='510961', LAT='38.05', LON='-87.27'), Row(EVENT_ID='507970', LAT='38.25', LON='-86.43'), Row(EVENT_ID='813535', LAT='41.1', LON='-85.06'), Row(EVENT_ID='921295', LAT='41.58', LON='-87.2'), Row(EVENT_ID='671556', LAT='39.23', LON='-85.1'), Row(EVENT_ID='695113', LAT='40.51', LON='-86.84'), Row(EVENT_ID='778603', LAT='40.77', LON='-87.43'), Row(EVENT_ID='624760', LAT='39.8113', LON='-85.9215'), Row(EVENT_ID='658195', LAT='38.95', LON='-84.9'), Row(EVENT_ID='569507', LAT='38.88', LON='-87.31'), Row(EVENT_ID='586887', LAT='39.82', LON='-84.9'), Row(EVENT_ID='605523', LAT='38.29', LON='-85.76'), Row(EVENT_ID='524070', LAT='39.52', LON='-85.78'), Row(EVENT_ID='541618', LAT='39.62', LON='-86.37'), Row(EVENT_ID='833779', LAT='38.89', LON='-86.9'), Row(EVENT_ID='834554', LAT='40.77', LON='-87.28'), Row(EVENT_ID='642244', LAT='37.93', LON='-87.9'), Row(EVENT_ID='566992', LAT='37.88', LON='-87.05'), Row(EVENT_ID='500536', LAT='40.0602', LON='-86.0903'), Row(EVENT_ID='546630', LAT='38.9', LON='-86.84'), Row(EVENT_ID='433734', LAT='40.19', LON='-85.2'), Row(EVENT_ID='940479', LAT='40.02', LON='-86.07'), Row(EVENT_ID='1017401', LAT='41.19', LON='-85.07'), Row(EVENT_ID='686023', LAT='39.22', LON='-84.86'), Row(EVENT_ID='702855', LAT='40.12', LON='-85.2'), Row(EVENT_ID='726158', LAT='40.3641', LON='-85.3883'), Row(EVENT_ID='763962', LAT='38.74', LON='-85.38'), Row(EVENT_ID='638816', LAT='39.6797', LON='-87.4098'), Row(EVENT_ID='628821', LAT='38.3084', LON='-87.1287'), Row(EVENT_ID='1033435', LAT='38.22', LON='-86.72'), Row(EVENT_ID='755079', LAT='41.65', LON='-85.03'), Row(EVENT_ID='626896', LAT='40.14', LON='-87.39'), Row(EVENT_ID='622362', LAT='38.71', LON='-85.61'), Row(EVENT_ID='567088', LAT='38.08', LON='-87.12'), Row(EVENT_ID='585809', LAT='39.09', LON='-85.43'), Row(EVENT_ID='598028', LAT='40.44', LON='-86.91'), Row(EVENT_ID='520653', LAT='41.53', LON='-86.43'), Row(EVENT_ID='433694', LAT='39.48', LON='-87.38'), Row(EVENT_ID='967033', LAT='40.35', LON='-85.15'), Row(EVENT_ID='957369', LAT='39.32', LON='-86.56'), Row(EVENT_ID='687150', LAT='40.11', LON='-86.77'), Row(EVENT_ID='695154', LAT='40.22', LON='-85.77'), Row(EVENT_ID='541237', LAT='41.28', LON='-86.05'), Row(EVENT_ID='435191', LAT='38.56', LON='-86.47'), Row(EVENT_ID='435195', LAT='38.32', LON='-85.87'), Row(EVENT_ID='465376', LAT='41.44', LON='-87.36'), Row(EVENT_ID='874541', LAT='40', LON='-86.35'), Row(EVENT_ID='921293', LAT='41.37', LON='-87.45'), Row(EVENT_ID='681363', LAT='38.41', LON='-86.11'), Row(EVENT_ID='584394', LAT='39.62', LON='-86.21'), Row(EVENT_ID='500534', LAT='39.9794', LON='-86.3973'), Row(EVENT_ID='695438', LAT='41.28', LON='-84.92'), Row(EVENT_ID='726160', LAT='39', LON='-86.5'), Row(EVENT_ID='753761', LAT='39.99', LON='-86.1'), Row(EVENT_ID='578468', LAT='37.98', LON='-87.6602'), Row(EVENT_ID='595976', LAT='39.7665', LON='-86.5286'), Row(EVENT_ID='464063', LAT='40.58', LON='-86.67'), Row(EVENT_ID='465375', LAT='41.5283', LON='-87.4234'), Row(EVENT_ID='818179', LAT='39.98', LON='-84.93'), Row(EVENT_ID='841286', LAT='41.63', LON='-86.41'), Row(EVENT_ID='837276', LAT='39.81', LON='-86.19'), Row(EVENT_ID='956875', LAT='39.78', LON='-86.1'), Row(EVENT_ID='687144', LAT='40.33', LON='-87.35'), Row(EVENT_ID='717268', LAT='41.5198', LON='-87.0056'), Row(EVENT_ID='584382', LAT='40.43', LON='-86.63'), Row(EVENT_ID='524360', LAT='39.69', LON='-86.67'), Row(EVENT_ID='437931', LAT='39.2', LON='-86.24'), Row(EVENT_ID='726161', LAT='40.29', LON='-86.78'), Row(EVENT_ID='765554', LAT='40.27', LON='-85.82'), Row(EVENT_ID='625498', LAT='41.14', LON='-85.14'), Row(EVENT_ID='658190', LAT='38.98', LON='-85.1'), Row(EVENT_ID='564390', LAT='38.21', LON='-86.13'), Row(EVENT_ID='507964', LAT='38.39', LON='-85.76'), Row(EVENT_ID='957351', LAT='39.79', LON='-85.77'), Row(EVENT_ID='690558', LAT='39.99', LON='-85.91'), Row(EVENT_ID='702534', LAT='38.55', LON='-87.56'), Row(EVENT_ID='742899', LAT='41.38', LON='-86.44'), Row(EVENT_ID='625488', LAT='40.68', LON='-85.44'), Row(EVENT_ID='597982', LAT='40.1', LON='-85.26'), Row(EVENT_ID='638839', LAT='40.09', LON='-85.69'), Row(EVENT_ID='578560', LAT='40.0985', LON='-86.5308'), Row(EVENT_ID='538887', LAT='38.32', LON='-85.87'), Row(EVENT_ID='433723', LAT='39.95', LON='-86.08'), Row(EVENT_ID='805929', LAT='37.9902', LON='-87.563'), Row(EVENT_ID='802625', LAT='38.41', LON='-87'), Row(EVENT_ID='830218', LAT='38.96', LON='-85.89'), Row(EVENT_ID='956878', LAT='39.7399', LON='-86.0263'), Row(EVENT_ID='1018165', LAT='38.11', LON='-87.79'), Row(EVENT_ID='679844', LAT='40.36', LON='-86.89'), Row(EVENT_ID='578558', LAT='40.13', LON='-86.61'), Row(EVENT_ID='584392', LAT='39.76', LON='-86.38'), Row(EVENT_ID='939667', LAT='39.97', LON='-86.11'), Row(EVENT_ID='695436', LAT='41.28', LON='-84.92'), Row(EVENT_ID='639137', LAT='39.7972', LON='-85.9499'), Row(EVENT_ID='559376', LAT='39.84', LON='-86.39'), Row(EVENT_ID='482682', LAT='40.83', LON='-84.93'), Row(EVENT_ID='957014', LAT='39.94', LON='-86.11'), Row(EVENT_ID='695108', LAT='39.34', LON='-85.48'), Row(EVENT_ID='435192', LAT='38.6', LON='-86.1'), Row(EVENT_ID='464088', LAT='39.8483', LON='-85.9915'), Row(EVENT_ID='831809', LAT='40.49', LON='-86.45'), Row(EVENT_ID='874532', LAT='40', LON='-86.07'), Row(EVENT_ID='686986', LAT='41.4', LON='-85.42'), Row(EVENT_ID='716583', LAT='41.47', LON='-87.05'), Row(EVENT_ID='622651', LAT='40.19', LON='-85.2'), Row(EVENT_ID='564392', LAT='38.32', LON='-85.77'), Row(EVENT_ID='818078', LAT='38.45', LON='-85.67'), Row(EVENT_ID='838536', LAT='41.64', LON='-85.12'), Row(EVENT_ID='957034', LAT='39.58', LON='-86.82'), Row(EVENT_ID='707521', LAT='41.55', LON='-85.78'), Row(EVENT_ID='586888', LAT='39.83', LON='-84.89'), Row(EVENT_ID='533731', LAT='41.3583', LON='-85.7'), Row(EVENT_ID='541614', LAT='40.41', LON='-86.87'), Row(EVENT_ID='847103', LAT='38.55', LON='-85.45'), Row(EVENT_ID='1040757', LAT='40.8934', LON='-87.2031'), Row(EVENT_ID='625506', LAT='40.98', LON='-84.96'), Row(EVENT_ID='632981', LAT='39.44', LON='-87.38'), Row(EVENT_ID='433697', LAT='39.53', LON='-87.38'), Row(EVENT_ID='437886', LAT='38.68', LON='-87.51'), Row(EVENT_ID='450914', LAT='41.5561', LON='-87.4713'), Row(EVENT_ID='806026', LAT='38.3134', LON='-87.4011'), Row(EVENT_ID='880633', LAT='38.0198', LON='-87.557'), Row(EVENT_ID='682570', LAT='40.99', LON='-85.4'), Row(EVENT_ID='717272', LAT='41.4007', LON='-87.4091'), Row(EVENT_ID='755086', LAT='41.34', LON='-85.78'), Row(EVENT_ID='631443', LAT='39.37', LON='-85.48'), Row(EVENT_ID='638827', LAT='39.7399', LON='-86.0259'), Row(EVENT_ID='563801', LAT='38.33', LON='-86.75'), Row(EVENT_ID='578549', LAT='40.05', LON='-86.47'), Row(EVENT_ID='580369', LAT='39.9822', LON='-86.3534'), Row(EVENT_ID='533732', LAT='41.68', LON='-86.25'), Row(EVENT_ID='433878', LAT='40.24', LON='-85.37'), Row(EVENT_ID='841289', LAT='41.59', LON='-86.73'), Row(EVENT_ID='964962', LAT='40.13', LON='-84.93'), Row(EVENT_ID='1048891', LAT='41.61', LON='-85.05'), Row(EVENT_ID='714011', LAT='39.39', LON='-86.47'), Row(EVENT_ID='771833', LAT='40.49', LON='-85.61'), Row(EVENT_ID='622634', LAT='39.52', LON='-86.76'), Row(EVENT_ID='632134', LAT='38.61', LON='-86.17'), Row(EVENT_ID='524056', LAT='39.97', LON='-87.28'), Row(EVENT_ID='524060', LAT='39.83', LON='-86.38'), Row(EVENT_ID='704478', LAT='40.78', LON='-85.49'), Row(EVENT_ID='824459', LAT='39.72', LON='-84.89'), Row(EVENT_ID='1046444', LAT='38.44', LON='-85.65'), Row(EVENT_ID='704479', LAT='41.06', LON='-85.15'), Row(EVENT_ID='763948', LAT='38.23', LON='-86.47'), Row(EVENT_ID='625490', LAT='40.55', LON='-85.65'), Row(EVENT_ID='661239', LAT='39.76', LON='-86.4'), Row(EVENT_ID='523969', LAT='39.69', LON='-86.15'), Row(EVENT_ID='455964', LAT='41.1', LON='-85.2'), Row(EVENT_ID='828140', LAT='40.88', LON='-85.51'), Row(EVENT_ID='687156', LAT='39.95', LON='-86.26'), Row(EVENT_ID='681359', LAT='38.32', LON='-85.86'), Row(EVENT_ID='705250', LAT='40.93', LON='-85'), Row(EVENT_ID='741185', LAT='39.79', LON='-85.16'), Row(EVENT_ID='765036', LAT='40.26', LON='-85.83'), Row(EVENT_ID='595399', LAT='41.33', LON='-85.85'), Row(EVENT_ID='524074', LAT='39.67', LON='-86.01'), Row(EVENT_ID='536926', LAT='40.34', LON='-85.35'), Row(EVENT_ID='423605', LAT='41.21', LON='-86.11'), Row(EVENT_ID='848838', LAT='39.45', LON='-87.37'), Row(EVENT_ID='882861', LAT='40.61', LON='-85.67'), Row(EVENT_ID='882602', LAT='39.7', LON='-85.58'), Row(EVENT_ID='895635', LAT='39.8552', LON='-86.1956'), Row(EVENT_ID='702537', LAT='38.61', LON='-87.55'), Row(EVENT_ID='755082', LAT='41.48', LON='-86.69'), Row(EVENT_ID='638830', LAT='40.3603', LON='-86.1256'), Row(EVENT_ID='650510', LAT='40.74', LON='-85.04'), Row(EVENT_ID='569246', LAT='39.62', LON='-86.11'), Row(EVENT_ID='831801', LAT='39.92', LON='-85.36'), Row(EVENT_ID='753768', LAT='38.69', LON='-87.52'), Row(EVENT_ID='559373', LAT='39.84', LON='-86.39'), Row(EVENT_ID='581504', LAT='41.13', LON='-85.88'), Row(EVENT_ID='837296', LAT='39.16', LON='-86.35'), Row(EVENT_ID='1046437', LAT='38.36', LON='-85.8'), Row(EVENT_ID='695156', LAT='40.29', LON='-85.84'), Row(EVENT_ID='714012', LAT='39.23', LON='-86.42'), Row(EVENT_ID='622638', LAT='39.52', LON='-86.4'), Row(EVENT_ID='455965', LAT='41.09', LON='-85.26'), Row(EVENT_ID='466283', LAT='41.71', LON='-86.2'), Row(EVENT_ID='837293', LAT='39.12', LON='-86.93'), Row(EVENT_ID='895638', LAT='39.77', LON='-86.15'), Row(EVENT_ID='1018167', LAT='38.2', LON='-87.57'), Row(EVENT_ID='1020014', LAT='39.95', LON='-87.46'), Row(EVENT_ID='524145', LAT='41.5742', LON='-87.4802'), Row(EVENT_ID='433711', LAT='39.85', LON='-86.38'), Row(EVENT_ID='455960', LAT='41.3', LON='-86.12'), Row(EVENT_ID='901363', LAT='40.69', LON='-85.8'), Row(EVENT_ID='682579', LAT='41.64', LON='-86.18'), Row(EVENT_ID='715922', LAT='40.74', LON='-85.17'), Row(EVENT_ID='764707', LAT='40.33', LON='-87.04'), Row(EVENT_ID='575934', LAT='38.74', LON='-85.81'), Row(EVENT_ID='524144', LAT='41.55', LON='-87.5'), Row(EVENT_ID='455959', LAT='41.47', LON='-86.38'), Row(EVENT_ID='802629', LAT='38.54', LON='-85.67'), Row(EVENT_ID='957048', LAT='39.61', LON='-86.45'), Row(EVENT_ID='1003986', LAT='39.291', LON='-85.5719'), Row(EVENT_ID='690498', LAT='40.13', LON='-86.74'), Row(EVENT_ID='695120', LAT='39.42', LON='-86.42'), Row(EVENT_ID='623026', LAT='38.35', LON='-87.57'), Row(EVENT_ID='569715', LAT='39.62', LON='-86.11'), Row(EVENT_ID='721021', LAT='38.5402', LON='-85.6569'), Row(EVENT_ID='569710', LAT='39.5046', LON='-86.0694'), Row(EVENT_ID='600766', LAT='41.02', LON='-86.41'), Row(EVENT_ID='523819', LAT='40.05', LON='-86.47'), Row(EVENT_ID='433724', LAT='39.95', LON='-86.02'), Row(EVENT_ID='437887', LAT='39.19', LON='-87.23'), Row(EVENT_ID='435210', LAT='38.33', LON='-86.46'), Row(EVENT_ID='465248', LAT='40.48', LON='-86.13'), Row(EVENT_ID='805926', LAT='38.2506', LON='-87.0904'), Row(EVENT_ID='838555', LAT='41.12', LON='-85.09'), Row(EVENT_ID='884290', LAT='38.2', LON='-87.57'), Row(EVENT_ID='921294', LAT='41.6187', LON='-87.1266'), Row(EVENT_ID='964965', LAT='40.26', LON='-85.11'), Row(EVENT_ID='1041351', LAT='41.6', LON='-85.88'), Row(EVENT_ID='755085', LAT='41.32', LON='-86.58'), Row(EVENT_ID='584384', LAT='40.09', LON='-85.69'), Row(EVENT_ID='437967', LAT='39.938', LON='-86.7051'), Row(EVENT_ID='818102', LAT='38.56', LON='-86.32'), Row(EVENT_ID='957054', LAT='39.74', LON='-86.03'), Row(EVENT_ID='681354', LAT='38.24', LON='-85.99'), Row(EVENT_ID='569244', LAT='39.57', LON='-86.17'), Row(EVENT_ID='538888', LAT='38.39', LON='-85.76'), Row(EVENT_ID='813536', LAT='41.15', LON='-85.02'), Row(EVENT_ID='874545', LAT='40.14', LON='-86.22'), Row(EVENT_ID='1048893', LAT='41.33', LON='-86.4'), Row(EVENT_ID='715924', LAT='40.99', LON='-86.63'), Row(EVENT_ID='559371', LAT='39.66', LON='-87.41'), Row(EVENT_ID='464159', LAT='39.81', LON='-87.49'), Row(EVENT_ID='749029', LAT='38.35', LON='-87.57'), Row(EVENT_ID='756456', LAT='38.48', LON='-87.53'), Row(EVENT_ID='437973', LAT='39.9965', LON='-86.7162'), Row(EVENT_ID='812436', LAT='41.2391', LON='-87.4745'), Row(EVENT_ID='828142', LAT='40.88', LON='-85.51'), Row(EVENT_ID='957067', LAT='39.78', LON='-85.94'), Row(EVENT_ID='718387', LAT='39.9269', LON='-86.158'), Row(EVENT_ID='625493', LAT='41.1', LON='-85.48'), Row(EVENT_ID='569240', LAT='39.42', LON='-86.42'), Row(EVENT_ID='524057', LAT='39.67', LON='-86.15'), Row(EVENT_ID='541914', LAT='41.18', LON='-86.67'), Row(EVENT_ID='895581', LAT='41.33', LON='-86.4'), Row(EVENT_ID='940487', LAT='39.97', LON='-86.3'), Row(EVENT_ID='753510', LAT='41.47', LON='-87.05'), Row(EVENT_ID='626853', LAT='37.88', LON='-87.05'), Row(EVENT_ID='569536', LAT='39.33', LON='-86.22'), Row(EVENT_ID='588783', LAT='41.54', LON='-86.91'), Row(EVENT_ID='523887', LAT='39.7034', LON='-86.1043'), Row(EVENT_ID='433718', LAT='39.97', LON='-86.11'), Row(EVENT_ID='880966', LAT='41.75', LON='-85.97'), Row(EVENT_ID='967034', LAT='41.04', LON='-85.27'), Row(EVENT_ID='1015266', LAT='38.69', LON='-87.37'), Row(EVENT_ID='682587', LAT='41.73', LON='-84.93'), Row(EVENT_ID='687217', LAT='40.03', LON='-86.1'), Row(EVENT_ID='625502', LAT='40.95', LON='-84.99'), Row(EVENT_ID='654123', LAT='39.5067', LON='-87.3979'), Row(EVENT_ID='523085', LAT='41.2', LON='-85.74'), Row(EVENT_ID='830230', LAT='40.49', LON='-87.09'), Row(EVENT_ID='875967', LAT='40', LON='-86.26'), Row(EVENT_ID='771841', LAT='40.75', LON='-86.07'), Row(EVENT_ID='575936', LAT='38.53', LON='-85.77'), Row(EVENT_ID='521532', LAT='39.67', LON='-86.01'), Row(EVENT_ID='541238', LAT='41.28', LON='-86.05'), Row(EVENT_ID='437966', LAT='39.92', LON='-86.8'), Row(EVENT_ID='437978', LAT='40.13', LON='-86.61'), Row(EVENT_ID='455963', LAT='41.11', LON='-85.2'), Row(EVENT_ID='874544', LAT='40.09', LON='-86.22'), Row(EVENT_ID='1048892', LAT='41.41', LON='-86.48'), Row(EVENT_ID='684679', LAT='39.49', LON='-86.06'), Row(EVENT_ID='588807', LAT='41.67', LON='-86.08'), Row(EVENT_ID='605519', LAT='38.21', LON='-86.13'), Row(EVENT_ID='521635', LAT='39.78', LON='-86.05'), Row(EVENT_ID='527167', LAT='41.53', LON='-86.43'), Row(EVENT_ID='895670', LAT='39.38', LON='-87.4'), Row(EVENT_ID='940478', LAT='40.04', LON='-86.05'), Row(EVENT_ID='957064', LAT='39.52', LON='-86.8'), Row(EVENT_ID='704480', LAT='41.07', LON='-85.14'), Row(EVENT_ID='714027', LAT='38.85', LON='-85.89'), Row(EVENT_ID='699020', LAT='38.74', LON='-85.72'), Row(EVENT_ID='658191', LAT='38.91', LON='-85.08'), Row(EVENT_ID='510960', LAT='37.98', LON='-87.55'), Row(EVENT_ID='535532', LAT='41.75', LON='-86.11'), Row(EVENT_ID='523091', LAT='40.67', LON='-85.08'), Row(EVENT_ID='541593', LAT='40.04', LON='-86.71'), Row(EVENT_ID='433721', LAT='40.0009', LON='-85.9507'), Row(EVENT_ID='664333', LAT='38.87', LON='-87.44'), Row(EVENT_ID='539149', LAT='38.48', LON='-85.77'), Row(EVENT_ID='435198', LAT='38.8', LON='-85.38'), Row(EVENT_ID='435200', LAT='38.56', LON='-86.47'), Row(EVENT_ID='437945', LAT='39.4823', LON='-86.0582'), Row(EVENT_ID='749024', LAT='37.98', LON='-87.55'), Row(EVENT_ID='783141', LAT='39.34', LON='-85.46'), Row(EVENT_ID='564391', LAT='38.18', LON='-86.4'), Row(EVENT_ID='581518', LAT='40.78', LON='-84.84'), Row(EVENT_ID='590772', LAT='39.83', LON='-84.89'), Row(EVENT_ID='527168', LAT='41.53', LON='-86.43'), Row(EVENT_ID='433706', LAT='39.87', LON='-86.46'), Row(EVENT_ID='819539', LAT='41.499', LON='-87.05'), Row(EVENT_ID='914664', LAT='40.91', LON='-85.41'), Row(EVENT_ID='939664', LAT='39.3', LON='-86.69'), Row(EVENT_ID='1041344', LAT='41.74', LON='-86.1'), Row(EVENT_ID='622340', LAT='38.3', LON='-85.97'), Row(EVENT_ID='569711', LAT='40.2586', LON='-86.8388'), Row(EVENT_ID='584351', LAT='39.23', LON='-85.55'), Row(EVENT_ID='597989', LAT='40.0445', LON='-85.1278'), Row(EVENT_ID='520649', LAT='41.58', LON='-85.18'), Row(EVENT_ID='458028', LAT='41.03', LON='-86.43'), Row(EVENT_ID='1015261', LAT='39.28', LON='-86.64'), Row(EVENT_ID='687151', LAT='40.05', LON='-86.57'), Row(EVENT_ID='765713', LAT='40.28', LON='-85.83'), Row(EVENT_ID='521557', LAT='38.86', LON='-87.31'), Row(EVENT_ID='524063', LAT='39.71', LON='-86.07'), Row(EVENT_ID='435194', LAT='38.38', LON='-86.34'), Row(EVENT_ID='687215', LAT='39.91', LON='-86.13'), Row(EVENT_ID='690497', LAT='40.13', LON='-86.61'), Row(EVENT_ID='681352', LAT='38.32', LON='-86.15'), Row(EVENT_ID='714019', LAT='39.25', LON='-86.36'), Row(EVENT_ID='742111', LAT='38.02', LON='-87.58'), Row(EVENT_ID='622642', LAT='39.1362', LON='-86.5489'), Row(EVENT_ID='523872', LAT='39.78', LON='-86.15'), Row(EVENT_ID='524363', LAT='39.34', LON='-85.48'), Row(EVENT_ID='524374', LAT='39.66', LON='-87.36'), Row(EVENT_ID='437936', LAT='39.31', LON='-86.11'), Row(EVENT_ID='467477', LAT='41.2901', LON='-87.3155'), Row(EVENT_ID='954927', LAT='38.78', LON='-84.92'), Row(EVENT_ID='717267', LAT='41.6307', LON='-87.1289'), Row(EVENT_ID='595398', LAT='41.34', LON='-85.78'), Row(EVENT_ID='600764', LAT='40.76', LON='-86.26'), Row(EVENT_ID='609748', LAT='38.35', LON='-87.57'), Row(EVENT_ID='830214', LAT='39.81', LON='-86.19'), Row(EVENT_ID='681355', LAT='38.29', LON='-85.97'), Row(EVENT_ID='505917', LAT='38.21', LON='-86.36'), Row(EVENT_ID='695798', LAT='40.76', LON='-86.35'), Row(EVENT_ID='771831', LAT='40.41', LON='-85.67'), Row(EVENT_ID='541629', LAT='40.13', LON='-86.55'), Row(EVENT_ID='541241', LAT='41.64', LON='-85.42'), Row(EVENT_ID='546629', LAT='38.86', LON='-86.94'), Row(EVENT_ID='831991', LAT='41.62', LON='-85.92'), Row(EVENT_ID='957352', LAT='39.72', LON='-85.89'), Row(EVENT_ID='682572', LAT='41.42', LON='-85.26'), Row(EVENT_ID='682576', LAT='41.04', LON='-85'), Row(EVENT_ID='702830', LAT='39.17', LON='-86.54'), Row(EVENT_ID='658192', LAT='38.98', LON='-85.13'), Row(EVENT_ID='575923', LAT='38.65', LON='-86.24'), Row(EVENT_ID='590767', LAT='39.86', LON='-84.97'), Row(EVENT_ID='524061', LAT='39.66', LON='-86.02'), Row(EVENT_ID='541923', LAT='40.88', LON='-85.5'), Row(EVENT_ID='429683', LAT='41.6103', LON='-87.0644'), Row(EVENT_ID='841288', LAT='40.97', LON='-86.89'), Row(EVENT_ID='851088', LAT='40.63', LON='-84.95'), Row(EVENT_ID='895554', LAT='41.34', LON='-85.78'), Row(EVENT_ID='957022', LAT='39.87', LON='-85.99'), Row(EVENT_ID='957059', LAT='39.51', LON='-86.71'), Row(EVENT_ID='1035687', LAT='38.1205', LON='-87.554'), Row(EVENT_ID='708270', LAT='40.76', LON='-87.04'), Row(EVENT_ID='777034', LAT='38.87', LON='-85.82'), Row(EVENT_ID='639782', LAT='39.91', LON='-86.29'), Row(EVENT_ID='658595', LAT='40.0765', LON='-85.6528'), Row(EVENT_ID='559374', LAT='39.89', LON='-86.29'), Row(EVENT_ID='590768', LAT='39.87', LON='-84.94'), Row(EVENT_ID='447160', LAT='40.68', LON='-85.43'), Row(EVENT_ID='964964', LAT='40.02', LON='-85.13'), Row(EVENT_ID='690587', LAT='40.1', LON='-85.74'), Row(EVENT_ID='690566', LAT='39.38', LON='-87.33'), Row(EVENT_ID='695109', LAT='40.06', LON='-84.95'), Row(EVENT_ID='753764', LAT='39.57', LON='-86.63'), Row(EVENT_ID='762407', LAT='39.45', LON='-86.19'), Row(EVENT_ID='625501', LAT='40.95', LON='-84.99'), Row(EVENT_ID='812433', LAT='41.4941', LON='-87.5216'), Row(EVENT_ID='813524', LAT='40.88', LON='-85.51'), Row(EVENT_ID='957009', LAT='40.27', LON='-84.98'), Row(EVENT_ID='714021', LAT='39.24', LON='-86.38'), Row(EVENT_ID='753763', LAT='39.7', LON='-86.39'), Row(EVENT_ID='614944', LAT='38.51', LON='-85.53'), Row(EVENT_ID='569531', LAT='39.2071', LON='-86.2471'), Row(EVENT_ID='588811', LAT='41.67', LON='-85.58'), Row(EVENT_ID='585724', LAT='39.15', LON='-86.52'), Row(EVENT_ID='590764', LAT='39.89', LON='-85.05'), Row(EVENT_ID='521578', LAT='39.78', LON='-86.15'), Row(EVENT_ID='541925', LAT='40.93', LON='-85.47'), Row(EVENT_ID='697017', LAT='40.14', LON='-87.39'), Row(EVENT_ID='505785', LAT='38.32', LON='-85.77'), Row(EVENT_ID='433726', LAT='39.9777', LON='-85.9825'), Row(EVENT_ID='439196', LAT='40.9645', LON='-87.28'), Row(EVENT_ID='901367', LAT='40.98', LON='-85.08'), Row(EVENT_ID='679841', LAT='40.37', LON='-86.86'), Row(EVENT_ID='764038', LAT='38.18', LON='-85.91'), Row(EVENT_ID='562021', LAT='38.87', LON='-85.18'), Row(EVENT_ID='588784', LAT='41.49', LON='-86.78'), Row(EVENT_ID='600765', LAT='41.05', LON='-86.42'), Row(EVENT_ID='541624', LAT='40.2879', LON='-86.7745'), Row(EVENT_ID='433691', LAT='40.4766', LON='-86.1078'), Row(EVENT_ID='875975', LAT='39.91', LON='-86.18'), Row(EVENT_ID='715917', LAT='41.45', LON='-86.84'), Row(EVENT_ID='715913', LAT='41.69', LON='-85.97'), Row(EVENT_ID='753765', LAT='39.81', LON='-86.17'), Row(EVENT_ID='597277', LAT='40.44', LON='-86.83'), Row(EVENT_ID='433668', LAT='39.9269', LON='-86.1071'), Row(EVENT_ID='874515', LAT='40.5', LON='-86.14'), Row(EVENT_ID='695115', LAT='40.52', LON='-86.81'), Row(EVENT_ID='764737', LAT='38.5089', LON='-87.5508'), Row(EVENT_ID='586890', LAT='39.63', LON='-85.02'), Row(EVENT_ID='813526', LAT='40.91', LON='-85.53'), Row(EVENT_ID='838557', LAT='41.15', LON='-85.06'), Row(EVENT_ID='838311', LAT='41.1303', LON='-87.2788'), Row(EVENT_ID='895645', LAT='39.61', LON='-87.37'), Row(EVENT_ID='681468', LAT='41.67', LON='-86.22'), Row(EVENT_ID='702902', LAT='40.17', LON='-87.11'), Row(EVENT_ID='755080', LAT='41.52', LON='-85.7'), Row(EVENT_ID='589811', LAT='40.86', LON='-86.5'), Row(EVENT_ID='533748', LAT='40.88', LON='-85.5'), Row(EVENT_ID='815361', LAT='41.65', LON='-86.66'), Row(EVENT_ID='831988', LAT='40.61', LON='-85.93'), Row(EVENT_ID='838542', LAT='41.64', LON='-85.44'), Row(EVENT_ID='957897', LAT='39.94', LON='-86.25'), Row(EVENT_ID='753767', LAT='39.76', LON='-87.1'), Row(EVENT_ID='588810', LAT='41.68', LON='-85.71'), Row(EVENT_ID='541229', LAT='41.34', LON='-85.24'), Row(EVENT_ID='940488', LAT='40.04', LON='-86.62'), Row(EVENT_ID='957007', LAT='40.24', LON='-85.34'), Row(EVENT_ID='1016205', LAT='38.88', LON='-87.02'), Row(EVENT_ID='597305', LAT='41.6', LON='-87.34'), Row(EVENT_ID='586889', LAT='39.61', LON='-85.05'), Row(EVENT_ID='500533', LAT='39.9988', LON='-86.6198'), Row(EVENT_ID='505920', LAT='38.2', LON='-86.42'), Row(EVENT_ID='442124', LAT='41.68', LON='-87.5'), Row(EVENT_ID='686022', LAT='39.21', LON='-85.33'), Row(EVENT_ID='706482', LAT='39.43', LON='-85.03'), Row(EVENT_ID='755094', LAT='41.37', LON='-85.24'), Row(EVENT_ID='765723', LAT='40.27', LON='-85.81'), Row(EVENT_ID='777031', LAT='39.1488', LON='-85.9446'), Row(EVENT_ID='588789', LAT='41.69', LON='-85.97'), Row(EVENT_ID='433702', LAT='40.38', LON='-86.81'), Row(EVENT_ID='447163', LAT='40.83', LON='-85.35'), Row(EVENT_ID='439494', LAT='38.28', LON='-87.75'), Row(EVENT_ID='437975', LAT='40.13', LON='-86.61'), Row(EVENT_ID='442075', LAT='40.9522', LON='-87.1408'), Row(EVENT_ID='802626', LAT='38.32', LON='-86.16'), Row(EVENT_ID='939665', LAT='39.35', LON='-86.56'), Row(EVENT_ID='957015', LAT='39.9', LON='-86.07'), Row(EVENT_ID='979325', LAT='41.68', LON='-86.23'), Row(EVENT_ID='690561', LAT='40.08', LON='-85.74'), Row(EVENT_ID='695440', LAT='41.26', LON='-84.81'), Row(EVENT_ID='687801', LAT='38.2', LON='-86.32'), Row(EVENT_ID='742901', LAT='41.41', LON='-86.4'), Row(EVENT_ID='751107', LAT='38.38', LON='-87.22'), Row(EVENT_ID='777035', LAT='40.2', LON='-85.42'), Row(EVENT_ID='505918', LAT='38.26', LON='-86.58'), Row(EVENT_ID='523849', LAT='39.87', LON='-86.27'), Row(EVENT_ID='523806', LAT='38.14', LON='-86.7223'), Row(EVENT_ID='533730', LAT='41.6', LON='-86.27'), Row(EVENT_ID='837294', LAT='39.17', LON='-86.52'), Row(EVENT_ID='1015597', LAT='41.1', LON='-85.05'), Row(EVENT_ID='1015270', LAT='38.73', LON='-86.47'), Row(EVENT_ID='705783', LAT='40.1', LON='-85.67'), Row(EVENT_ID='624020', LAT='39.25', LON='-84.89'), Row(EVENT_ID='638840', LAT='40.28', LON='-85.88'), Row(EVENT_ID='690508', LAT='40.11', LON='-86.78'), Row(EVENT_ID='695788', LAT='40.58', LON='-85.67'), Row(EVENT_ID='622625', LAT='39.88', LON='-86.05'), Row(EVENT_ID='521643', LAT='39.8', LON='-86.02'), Row(EVENT_ID='524370', LAT='39.54', LON='-86.37'), Row(EVENT_ID='695797', LAT='41.35', LON='-86.92'), Row(EVENT_ID='631436', LAT='39.5714', LON='-86.6308'), Row(EVENT_ID='624075', LAT='38.34', LON='-86.46'), Row(EVENT_ID='569200', LAT='39.9417', LON='-86.1364'), Row(EVENT_ID='578562', LAT='39.9809', LON='-85.9203'), Row(EVENT_ID='523851', LAT='39.78', LON='-86.13'), Row(EVENT_ID='1041343', LAT='41.68', LON='-85.94'), Row(EVENT_ID='745628', LAT='39.82', LON='-84.99'), Row(EVENT_ID='764046', LAT='38.24', LON='-86.36'), Row(EVENT_ID='625487', LAT='40.68', LON='-85.43'), Row(EVENT_ID='588870', LAT='41.1789', LON='-85.1034'), Row(EVENT_ID='521551', LAT='39.611', LON='-85.5478'), Row(EVENT_ID='838556', LAT='41.12', LON='-85.05'), Row(EVENT_ID='687146', LAT='40.29', LON='-87.24'), Row(EVENT_ID='559372', LAT='40.05', LON='-86.47'), Row(EVENT_ID='875964', LAT='39.99', LON='-86.26'), Row(EVENT_ID='600759', LAT='40.6', LON='-86.87'), Row(EVENT_ID='546631', LAT='38.8', LON='-86.65'), Row(EVENT_ID='687153', LAT='40.04', LON='-86.46'), Row(EVENT_ID='695147', LAT='40.18', LON='-86.01'), Row(EVENT_ID='763947', LAT='38.18', LON='-86.4'), Row(EVENT_ID='632983', LAT='39.6131', LON='-86.1585'), Row(EVENT_ID='523828', LAT='40.28', LON='-86.51'), Row(EVENT_ID='541627', LAT='40.14', LON='-86.61'), Row(EVENT_ID='538886', LAT='38.37', LON='-86.07'), Row(EVENT_ID='815364', LAT='41.71', LON='-86.53'), Row(EVENT_ID='682578', LAT='41.63', LON='-86.25'), Row(EVENT_ID='685061', LAT='38.3134', LON='-87.68'), Row(EVENT_ID='622626', LAT='40.12', LON='-86.02'), Row(EVENT_ID='638837', LAT='40.28', LON='-85.88'), Row(EVENT_ID='541918', LAT='41', LON='-85.81'), Row(EVENT_ID='437877', LAT='38.61', LON='-87.17'), Row(EVENT_ID='459215', LAT='38.97', LON='-85.1872'), Row(EVENT_ID='805925', LAT='37.8666', LON='-87.057'), Row(EVENT_ID='838559', LAT='41.07', LON='-85.34'), Row(EVENT_ID='874539', LAT='39.95', LON='-86.91'), Row(EVENT_ID='702492', LAT='38.97', LON='-86.54'), Row(EVENT_ID='654114', LAT='39.4676', LON='-87.3992'), Row(EVENT_ID='598017', LAT='40.4901', LON='-87.0937'), Row(EVENT_ID='507966', LAT='38.39', LON='-85.79'), Row(EVENT_ID='529494', LAT='41.07', LON='-85.19'), Row(EVENT_ID='437944', LAT='39.49', LON='-86.06')]\n"
     ]
    }
   ],
   "source": [
    "pointList = tPoints.collect()\n",
    "print(pointList)"
   ]
  },
  {
   "cell_type": "code",
   "execution_count": 25,
   "metadata": {
    "colab": {
     "base_uri": "https://localhost:8080/"
    },
    "executionInfo": {
     "elapsed": 24,
     "status": "ok",
     "timestamp": 1700194875951,
     "user": {
      "displayName": "Bobbie Cavna",
      "userId": "02710482313698222145"
     },
     "user_tz": 300
    },
    "id": "m3l14IAJlTD7",
    "outputId": "882f2b7c-574e-497f-a834-2add8a131380"
   },
   "outputs": [
    {
     "data": {
      "text/plain": [
       "list"
      ]
     },
     "execution_count": 25,
     "metadata": {},
     "output_type": "execute_result"
    }
   ],
   "source": [
    "type(pointList)"
   ]
  },
  {
   "cell_type": "code",
   "execution_count": 26,
   "metadata": {
    "executionInfo": {
     "elapsed": 143,
     "status": "ok",
     "timestamp": 1700194876092,
     "user": {
      "displayName": "Bobbie Cavna",
      "userId": "02710482313698222145"
     },
     "user_tz": 300
    },
    "id": "N6IOXn-wVyVa"
   },
   "outputs": [],
   "source": [
    "lonVals = [-89.0, -88.75, -88.5, -88.25, -88.0, -87.75, -87.5, -87.25, -87.0, -86.75, -86.5, -86.25, -86.0, -85.75, -85.5, -85.25, -85.0, -84.75, -84.5, -84.25, -84.0]"
   ]
  },
  {
   "cell_type": "code",
   "execution_count": 27,
   "metadata": {
    "executionInfo": {
     "elapsed": 4,
     "status": "ok",
     "timestamp": 1700194876093,
     "user": {
      "displayName": "Bobbie Cavna",
      "userId": "02710482313698222145"
     },
     "user_tz": 300
    },
    "id": "4kg-ZeNmV45B"
   },
   "outputs": [],
   "source": [
    "latVals = [42.0, 41.75, 41.5, 41.25, 41.0, 40.75, 40.5, 40.25, 40.0, 39.75, 39.5, 39.25, 39.0, 38.75, 38.5, 38.25, 38.0, 37.75, 37.5, 37.25, 37.0]"
   ]
  },
  {
   "cell_type": "code",
   "execution_count": 28,
   "metadata": {
    "colab": {
     "base_uri": "https://localhost:8080/"
    },
    "executionInfo": {
     "elapsed": 4,
     "status": "ok",
     "timestamp": 1700194876093,
     "user": {
      "displayName": "Bobbie Cavna",
      "userId": "02710482313698222145"
     },
     "user_tz": 300
    },
    "id": "ddJpp1nTWZtK",
    "outputId": "9d87aea6-5b84-4ad0-d6e3-cccc7f038def"
   },
   "outputs": [
    {
     "name": "stdout",
     "output_type": "stream",
     "text": [
      "total cell count: 441\n",
      "[[0, 42.0, -89.0], [1, 41.75, -89.0], [2, 41.5, -89.0], [3, 41.25, -89.0], [4, 41.0, -89.0], [5, 40.75, -89.0], [6, 40.5, -89.0], [7, 40.25, -89.0], [8, 40.0, -89.0], [9, 39.75, -89.0], [10, 39.5, -89.0], [11, 39.25, -89.0], [12, 39.0, -89.0], [13, 38.75, -89.0], [14, 38.5, -89.0], [15, 38.25, -89.0], [16, 38.0, -89.0], [17, 37.75, -89.0], [18, 37.5, -89.0], [19, 37.25, -89.0], [20, 37.0, -89.0], [21, 42.0, -88.75], [22, 41.75, -88.75], [23, 41.5, -88.75], [24, 41.25, -88.75], [25, 41.0, -88.75], [26, 40.75, -88.75], [27, 40.5, -88.75], [28, 40.25, -88.75], [29, 40.0, -88.75], [30, 39.75, -88.75], [31, 39.5, -88.75], [32, 39.25, -88.75], [33, 39.0, -88.75], [34, 38.75, -88.75], [35, 38.5, -88.75], [36, 38.25, -88.75], [37, 38.0, -88.75], [38, 37.75, -88.75], [39, 37.5, -88.75], [40, 37.25, -88.75], [41, 37.0, -88.75], [42, 42.0, -88.5], [43, 41.75, -88.5], [44, 41.5, -88.5], [45, 41.25, -88.5], [46, 41.0, -88.5], [47, 40.75, -88.5], [48, 40.5, -88.5], [49, 40.25, -88.5], [50, 40.0, -88.5], [51, 39.75, -88.5], [52, 39.5, -88.5], [53, 39.25, -88.5], [54, 39.0, -88.5], [55, 38.75, -88.5], [56, 38.5, -88.5], [57, 38.25, -88.5], [58, 38.0, -88.5], [59, 37.75, -88.5], [60, 37.5, -88.5], [61, 37.25, -88.5], [62, 37.0, -88.5], [63, 42.0, -88.25], [64, 41.75, -88.25], [65, 41.5, -88.25], [66, 41.25, -88.25], [67, 41.0, -88.25], [68, 40.75, -88.25], [69, 40.5, -88.25], [70, 40.25, -88.25], [71, 40.0, -88.25], [72, 39.75, -88.25], [73, 39.5, -88.25], [74, 39.25, -88.25], [75, 39.0, -88.25], [76, 38.75, -88.25], [77, 38.5, -88.25], [78, 38.25, -88.25], [79, 38.0, -88.25], [80, 37.75, -88.25], [81, 37.5, -88.25], [82, 37.25, -88.25], [83, 37.0, -88.25], [84, 42.0, -88.0], [85, 41.75, -88.0], [86, 41.5, -88.0], [87, 41.25, -88.0], [88, 41.0, -88.0], [89, 40.75, -88.0], [90, 40.5, -88.0], [91, 40.25, -88.0], [92, 40.0, -88.0], [93, 39.75, -88.0], [94, 39.5, -88.0], [95, 39.25, -88.0], [96, 39.0, -88.0], [97, 38.75, -88.0], [98, 38.5, -88.0], [99, 38.25, -88.0], [100, 38.0, -88.0], [101, 37.75, -88.0], [102, 37.5, -88.0], [103, 37.25, -88.0], [104, 37.0, -88.0], [105, 42.0, -87.75], [106, 41.75, -87.75], [107, 41.5, -87.75], [108, 41.25, -87.75], [109, 41.0, -87.75], [110, 40.75, -87.75], [111, 40.5, -87.75], [112, 40.25, -87.75], [113, 40.0, -87.75], [114, 39.75, -87.75], [115, 39.5, -87.75], [116, 39.25, -87.75], [117, 39.0, -87.75], [118, 38.75, -87.75], [119, 38.5, -87.75], [120, 38.25, -87.75], [121, 38.0, -87.75], [122, 37.75, -87.75], [123, 37.5, -87.75], [124, 37.25, -87.75], [125, 37.0, -87.75], [126, 42.0, -87.5], [127, 41.75, -87.5], [128, 41.5, -87.5], [129, 41.25, -87.5], [130, 41.0, -87.5], [131, 40.75, -87.5], [132, 40.5, -87.5], [133, 40.25, -87.5], [134, 40.0, -87.5], [135, 39.75, -87.5], [136, 39.5, -87.5], [137, 39.25, -87.5], [138, 39.0, -87.5], [139, 38.75, -87.5], [140, 38.5, -87.5], [141, 38.25, -87.5], [142, 38.0, -87.5], [143, 37.75, -87.5], [144, 37.5, -87.5], [145, 37.25, -87.5], [146, 37.0, -87.5], [147, 42.0, -87.25], [148, 41.75, -87.25], [149, 41.5, -87.25], [150, 41.25, -87.25], [151, 41.0, -87.25], [152, 40.75, -87.25], [153, 40.5, -87.25], [154, 40.25, -87.25], [155, 40.0, -87.25], [156, 39.75, -87.25], [157, 39.5, -87.25], [158, 39.25, -87.25], [159, 39.0, -87.25], [160, 38.75, -87.25], [161, 38.5, -87.25], [162, 38.25, -87.25], [163, 38.0, -87.25], [164, 37.75, -87.25], [165, 37.5, -87.25], [166, 37.25, -87.25], [167, 37.0, -87.25], [168, 42.0, -87.0], [169, 41.75, -87.0], [170, 41.5, -87.0], [171, 41.25, -87.0], [172, 41.0, -87.0], [173, 40.75, -87.0], [174, 40.5, -87.0], [175, 40.25, -87.0], [176, 40.0, -87.0], [177, 39.75, -87.0], [178, 39.5, -87.0], [179, 39.25, -87.0], [180, 39.0, -87.0], [181, 38.75, -87.0], [182, 38.5, -87.0], [183, 38.25, -87.0], [184, 38.0, -87.0], [185, 37.75, -87.0], [186, 37.5, -87.0], [187, 37.25, -87.0], [188, 37.0, -87.0], [189, 42.0, -86.75], [190, 41.75, -86.75], [191, 41.5, -86.75], [192, 41.25, -86.75], [193, 41.0, -86.75], [194, 40.75, -86.75], [195, 40.5, -86.75], [196, 40.25, -86.75], [197, 40.0, -86.75], [198, 39.75, -86.75], [199, 39.5, -86.75], [200, 39.25, -86.75], [201, 39.0, -86.75], [202, 38.75, -86.75], [203, 38.5, -86.75], [204, 38.25, -86.75], [205, 38.0, -86.75], [206, 37.75, -86.75], [207, 37.5, -86.75], [208, 37.25, -86.75], [209, 37.0, -86.75], [210, 42.0, -86.5], [211, 41.75, -86.5], [212, 41.5, -86.5], [213, 41.25, -86.5], [214, 41.0, -86.5], [215, 40.75, -86.5], [216, 40.5, -86.5], [217, 40.25, -86.5], [218, 40.0, -86.5], [219, 39.75, -86.5], [220, 39.5, -86.5], [221, 39.25, -86.5], [222, 39.0, -86.5], [223, 38.75, -86.5], [224, 38.5, -86.5], [225, 38.25, -86.5], [226, 38.0, -86.5], [227, 37.75, -86.5], [228, 37.5, -86.5], [229, 37.25, -86.5], [230, 37.0, -86.5], [231, 42.0, -86.25], [232, 41.75, -86.25], [233, 41.5, -86.25], [234, 41.25, -86.25], [235, 41.0, -86.25], [236, 40.75, -86.25], [237, 40.5, -86.25], [238, 40.25, -86.25], [239, 40.0, -86.25], [240, 39.75, -86.25], [241, 39.5, -86.25], [242, 39.25, -86.25], [243, 39.0, -86.25], [244, 38.75, -86.25], [245, 38.5, -86.25], [246, 38.25, -86.25], [247, 38.0, -86.25], [248, 37.75, -86.25], [249, 37.5, -86.25], [250, 37.25, -86.25], [251, 37.0, -86.25], [252, 42.0, -86.0], [253, 41.75, -86.0], [254, 41.5, -86.0], [255, 41.25, -86.0], [256, 41.0, -86.0], [257, 40.75, -86.0], [258, 40.5, -86.0], [259, 40.25, -86.0], [260, 40.0, -86.0], [261, 39.75, -86.0], [262, 39.5, -86.0], [263, 39.25, -86.0], [264, 39.0, -86.0], [265, 38.75, -86.0], [266, 38.5, -86.0], [267, 38.25, -86.0], [268, 38.0, -86.0], [269, 37.75, -86.0], [270, 37.5, -86.0], [271, 37.25, -86.0], [272, 37.0, -86.0], [273, 42.0, -85.75], [274, 41.75, -85.75], [275, 41.5, -85.75], [276, 41.25, -85.75], [277, 41.0, -85.75], [278, 40.75, -85.75], [279, 40.5, -85.75], [280, 40.25, -85.75], [281, 40.0, -85.75], [282, 39.75, -85.75], [283, 39.5, -85.75], [284, 39.25, -85.75], [285, 39.0, -85.75], [286, 38.75, -85.75], [287, 38.5, -85.75], [288, 38.25, -85.75], [289, 38.0, -85.75], [290, 37.75, -85.75], [291, 37.5, -85.75], [292, 37.25, -85.75], [293, 37.0, -85.75], [294, 42.0, -85.5], [295, 41.75, -85.5], [296, 41.5, -85.5], [297, 41.25, -85.5], [298, 41.0, -85.5], [299, 40.75, -85.5], [300, 40.5, -85.5], [301, 40.25, -85.5], [302, 40.0, -85.5], [303, 39.75, -85.5], [304, 39.5, -85.5], [305, 39.25, -85.5], [306, 39.0, -85.5], [307, 38.75, -85.5], [308, 38.5, -85.5], [309, 38.25, -85.5], [310, 38.0, -85.5], [311, 37.75, -85.5], [312, 37.5, -85.5], [313, 37.25, -85.5], [314, 37.0, -85.5], [315, 42.0, -85.25], [316, 41.75, -85.25], [317, 41.5, -85.25], [318, 41.25, -85.25], [319, 41.0, -85.25], [320, 40.75, -85.25], [321, 40.5, -85.25], [322, 40.25, -85.25], [323, 40.0, -85.25], [324, 39.75, -85.25], [325, 39.5, -85.25], [326, 39.25, -85.25], [327, 39.0, -85.25], [328, 38.75, -85.25], [329, 38.5, -85.25], [330, 38.25, -85.25], [331, 38.0, -85.25], [332, 37.75, -85.25], [333, 37.5, -85.25], [334, 37.25, -85.25], [335, 37.0, -85.25], [336, 42.0, -85.0], [337, 41.75, -85.0], [338, 41.5, -85.0], [339, 41.25, -85.0], [340, 41.0, -85.0], [341, 40.75, -85.0], [342, 40.5, -85.0], [343, 40.25, -85.0], [344, 40.0, -85.0], [345, 39.75, -85.0], [346, 39.5, -85.0], [347, 39.25, -85.0], [348, 39.0, -85.0], [349, 38.75, -85.0], [350, 38.5, -85.0], [351, 38.25, -85.0], [352, 38.0, -85.0], [353, 37.75, -85.0], [354, 37.5, -85.0], [355, 37.25, -85.0], [356, 37.0, -85.0], [357, 42.0, -84.75], [358, 41.75, -84.75], [359, 41.5, -84.75], [360, 41.25, -84.75], [361, 41.0, -84.75], [362, 40.75, -84.75], [363, 40.5, -84.75], [364, 40.25, -84.75], [365, 40.0, -84.75], [366, 39.75, -84.75], [367, 39.5, -84.75], [368, 39.25, -84.75], [369, 39.0, -84.75], [370, 38.75, -84.75], [371, 38.5, -84.75], [372, 38.25, -84.75], [373, 38.0, -84.75], [374, 37.75, -84.75], [375, 37.5, -84.75], [376, 37.25, -84.75], [377, 37.0, -84.75], [378, 42.0, -84.5], [379, 41.75, -84.5], [380, 41.5, -84.5], [381, 41.25, -84.5], [382, 41.0, -84.5], [383, 40.75, -84.5], [384, 40.5, -84.5], [385, 40.25, -84.5], [386, 40.0, -84.5], [387, 39.75, -84.5], [388, 39.5, -84.5], [389, 39.25, -84.5], [390, 39.0, -84.5], [391, 38.75, -84.5], [392, 38.5, -84.5], [393, 38.25, -84.5], [394, 38.0, -84.5], [395, 37.75, -84.5], [396, 37.5, -84.5], [397, 37.25, -84.5], [398, 37.0, -84.5], [399, 42.0, -84.25], [400, 41.75, -84.25], [401, 41.5, -84.25], [402, 41.25, -84.25], [403, 41.0, -84.25], [404, 40.75, -84.25], [405, 40.5, -84.25], [406, 40.25, -84.25], [407, 40.0, -84.25], [408, 39.75, -84.25], [409, 39.5, -84.25], [410, 39.25, -84.25], [411, 39.0, -84.25], [412, 38.75, -84.25], [413, 38.5, -84.25], [414, 38.25, -84.25], [415, 38.0, -84.25], [416, 37.75, -84.25], [417, 37.5, -84.25], [418, 37.25, -84.25], [419, 37.0, -84.25], [420, 42.0, -84.0], [421, 41.75, -84.0], [422, 41.5, -84.0], [423, 41.25, -84.0], [424, 41.0, -84.0], [425, 40.75, -84.0], [426, 40.5, -84.0], [427, 40.25, -84.0], [428, 40.0, -84.0], [429, 39.75, -84.0], [430, 39.5, -84.0], [431, 39.25, -84.0], [432, 39.0, -84.0], [433, 38.75, -84.0], [434, 38.5, -84.0], [435, 38.25, -84.0], [436, 38.0, -84.0], [437, 37.75, -84.0], [438, 37.5, -84.0], [439, 37.25, -84.0], [440, 37.0, -84.0]]\n"
     ]
    }
   ],
   "source": [
    "cells = []\n",
    "\n",
    "def getCells(lon,lat):\n",
    "  lonRange = range(len(lon))\n",
    "  latRange = range(len(lat))\n",
    "  n = 0\n",
    "  for i in lonRange:\n",
    "    for j in latRange:\n",
    "      cells.append([n,lat[j],lon[i]])\n",
    "      n = n + 1\n",
    "  print(\"total cell count:\",n)\n",
    "  print(cells)\n",
    "getCells(lonVals,latVals)"
   ]
  },
  {
   "cell_type": "code",
   "execution_count": 29,
   "metadata": {
    "colab": {
     "base_uri": "https://localhost:8080/"
    },
    "executionInfo": {
     "elapsed": 3726,
     "status": "ok",
     "timestamp": 1700194879817,
     "user": {
      "displayName": "Bobbie Cavna",
      "userId": "02710482313698222145"
     },
     "user_tz": 300
    },
    "id": "zTt5Q3v-jnn1",
    "outputId": "b78d1280-257d-42fc-b4d6-1104dbe8f13e"
   },
   "outputs": [
    {
     "name": "stdout",
     "output_type": "stream",
     "text": [
      "[['830232', 344], ['838532', 337], ['838553', 339], ['1021415', 149], ['682585', 337], ['764051', 267], ['588786', 171], ['541233', 255], ['541917', 256], ['838547', 359], ['1033436', 225], ['638824', 238], ['605522', 288], ['455967', 342], ['904155', 170], ['940476', 280], ['682581', 232], ['690562', 280], ['690588', 280], ['524375', 221], ['537838', 296], ['533729', 254], ['429682', 149], ['682574', 338], ['687798', 246], ['624756', 261], ['578466', 121], ['600767', 298], ['819535', 149], ['1016689', 340], ['1021106', 217], ['718397', 240], ['638822', 240], ['638834', 261], ['654122', 136], ['586891', 345], ['523816', 218], ['527314', 239], ['454156', 149], ['457276', 128], ['457277', 128], ['827501', 153], ['755093', 318], ['588792', 233], ['444108', 326], ['957364', 220], ['702832', 221], ['632980', 240], ['658577', 260], ['575937', 287], ['520652', 212], ['541230', 318], ['433719', 260], ['958909', 285], ['690468', 176], ['690496', 176], ['625495', 320], ['659028', 236], ['664153', 264], ['588785', 211], ['828798', 278], ['838540', 275], ['690464', 136], ['690592', 195], ['622341', 288], ['569505', 221], ['523823', 237], ['541920', 256], ['828799', 278], ['874517', 222], ['659046', 300], ['664337', 159], ['568307', 232], ['533733', 275], ['433725', 260], ['813527', 298], ['1015267', 160], ['578556', 217], ['578563', 282], ['584395', 262], ['599264', 130], ['524059', 239], ['524362', 219], ['541915', 235], ['437880', 139], ['682569', 298], ['714024', 241], ['742900', 212], ['622585', 325], ['569526', 221], ['582616', 152], ['521533', 324], ['523880', 240], ['455961', 298], ['828796', 299], ['838548', 275], ['851319', 254], ['1017400', 276], ['699335', 345], ['582603', 128], ['584379', 195], ['813523', 298], ['874536', 281], ['1041346', 232], ['690551', 217], ['755092', 317], ['755096', 318], ['566991', 141], ['979324', 232], ['1041350', 253], ['679846', 216], ['695129', 198], ['696889', 200], ['707529', 253], ['777032', 285], ['533739', 276], ['433717', 260], ['838541', 254], ['883825', 149], ['957052', 199], ['673555', 326], ['541600', 264], ['465679', 240], ['957355', 261], ['742319', 120], ['622645', 221], ['595410', 297], ['599262', 130], ['521644', 261], ['447159', 279], ['433692', 136], ['433714', 239], ['815360', 170], ['874521', 304], ['909367', 196], ['690501', 196], ['714032', 302], ['749028', 142], ['622629', 259], ['638792', 138], ['664339', 283], ['435197', 203], ['805930', 121], ['1044033', 149], ['704477', 278], ['762786', 261], ['569707', 241], ['523086', 276], ['541240', 276], ['874543', 218], ['622338', 287], ['595977', 219], ['595994', 220], ['435193', 266], ['895579', 170], ['1016765', 348], ['699019', 286], ['437965', 261], ['828146', 299], ['901364', 278], ['901366', 278], ['687020', 321], ['764048', 246], ['622630', 280], ['595989', 219], ['517395', 325], ['433720', 260], ['813519', 254], ['813529', 340], ['690510', 217], ['616638', 224], ['622653', 240], ['624759', 262], ['523871', 261], ['471728', 240], ['695142', 258], ['714000', 301], ['638838', 280], ['569287', 262], ['605521', 288], ['433654', 197], ['433733', 322], ['838529', 233], ['874530', 260], ['1015262', 220], ['695123', 157], ['578552', 218], ['581500', 300], ['590769', 345], ['523822', 301], ['507961', 307], ['541228', 319], ['813521', 275], ['838551', 319], ['597624', 152], ['520370', 317], ['512226', 162], ['507968', 287], ['533746', 339], ['838545', 296], ['979326', 232], ['988355', 285], ['1046438', 287], ['707528', 232], ['748718', 162], ['569280', 282], ['908510', 341], ['697007', 305], ['625505', 339], ['879972', 159], ['622631', 281], ['623030', 142], ['569527', 221], ['520375', 276], ['818103', 245], ['638810', 157], ['489418', 204], ['874529', 239], ['874534', 281], ['1015264', 139], ['1025292', 149], ['687154', 260], ['622584', 345], ['587289', 197], ['524052', 240], ['433715', 239], ['828144', 299], ['838550', 319], ['874547', 260], ['1046435', 288], ['687216', 261], ['764711', 156], ['584355', 283], ['517647', 162], ['455962', 319], ['816239', 368], ['838539', 254], ['690594', 260], ['753772', 139], ['597303', 127], ['813530', 320], ['813532', 319], ['1015268', 181], ['690554', 261], ['702859', 263], ['707522', 276], ['632135', 266], ['569295', 285], ['524376', 222], ['875951', 133], ['954270', 120], ['957037', 281], ['702817', 200], ['625504', 361], ['632982', 241], ['631387', 304], ['595401', 342], ['458025', 193], ['838534', 233], ['957396', 264], ['687149', 175], ['726157', 180], ['505786', 288], ['874548', 239], ['521650', 261], ['458031', 214], ['695128', 197], ['525502', 287], ['435196', 203], ['826088', 169], ['874537', 302], ['957021', 260], ['1018085', 263], ['717269', 170], ['588790', 253], ['524368', 219], ['828141', 298], ['882603', 263], ['1041352', 318], ['690571', 136], ['681353', 267], ['435209', 267], ['838549', 319], ['863105', 163], ['687803', 287], ['626904', 221], ['658193', 348], ['569704', 241], ['433693', 136], ['874573', 197], ['902883', 300], ['681360', 287], ['622337', 287], ['447463', 288], ['957016', 260], ['1016688', 339], ['717271', 128], ['726159', 175], ['625492', 319], ['524361', 176], ['437879', 139], ['638835', 259], ['658194', 348], ['581517', 340], ['598014', 282], ['895636', 239], ['920439', 240], ['755081', 191], ['763952', 246], ['505783', 288], ['485432', 240], ['830211', 134], ['901360', 254], ['682575', 338], ['696911', 259], ['702845', 221], ['777036', 301], ['623020', 161], ['920441', 223], ['1019384', 285], ['679849', 305], ['690490', 176], ['696890', 220], ['714023', 221], ['755098', 339], ['622628', 260], ['625496', 320], ['622633', 220], ['631441', 241], ['638828', 261], ['533747', 339], ['541594', 239], ['450915', 128], ['841287', 232], ['682571', 319], ['702871', 133], ['714004', 259], ['622637', 241], ['624758', 240], ['423603', 253], ['827499', 170], ['901368', 339], ['914663', 298], ['957017', 260], ['749019', 142], ['632978', 199], ['638820', 198], ['569285', 262], ['521579', 240], ['523848', 239], ['874519', 264], ['957066', 199], ['1017446', 100], ['695114', 174], ['650524', 170], ['575939', 287], ['429684', 148], ['806027', 120], ['817691', 195], ['682573', 317], ['638855', 160], ['590765', 345], ['874516', 181], ['874528', 260], ['874535', 281], ['874570', 219], ['883822', 170], ['875969', 239], ['895654', 136], ['940485', 239], ['979050', 176], ['1016691', 340], ['704476', 278], ['541913', 235], ['828145', 299], ['876965', 345], ['681362', 245], ['697018', 156], ['758177', 327], ['625491', 299], ['569705', 262], ['838543', 295], ['967206', 234], ['1018084', 222], ['762404', 180], ['500538', 283], ['505922', 246], ['523855', 240], ['831987', 258], ['765682', 342], ['631388', 304], ['485437', 242], ['874593', 281], ['940475', 280], ['1016690', 340], ['1041341', 319], ['1048894', 340], ['715915', 253], ['753771', 139], ['523920', 219], ['437940', 262], ['940490', 239], ['702820', 200], ['638833', 261], ['582672', 170], ['455956', 236], ['687022', 321], ['597276', 344], ['520644', 338], ['679847', 133], ['695139', 237], ['631386', 304], ['638814', 261], ['658196', 348], ['523921', 261], ['811261', 264], ['875974', 260], ['753769', 139], ['500535', 260], ['433730', 302], ['838533', 233], ['838546', 359], ['886784', 170], ['1034559', 219], ['690569', 280], ['686024', 326], ['755087', 275], ['588793', 233], ['478318', 149], ['828351', 134], ['695107', 285], ['713998', 195], ['750974', 128], ['582605', 149], ['539185', 368], ['830216', 135], ['895661', 136], ['1015263', 159], ['687147', 175], ['681361', 246], ['523092', 320], ['808739', 325], ['895555', 276], ['695112', 242], ['625497', 320], ['664335', 138], ['575938', 287], ['599263', 130], ['541232', 275], ['802627', 267], ['876962', 349], ['876964', 349], ['1041345', 253], ['690620', 281], ['695131', 218], ['783137', 305], ['614942', 266], ['450913', 128], ['1041353', 340], ['1048889', 317], ['686244', 121], ['632137', 246], ['642243', 100], ['505919', 225], ['679845', 195], ['687800', 246], ['520642', 359], ['523826', 174], ['920440', 282], ['690564', 280], ['695786', 279], ['659031', 279], ['562024', 348], ['830217', 157], ['755089', 275], ['764415', 184], ['564393', 288], ['588782', 190], ['588818', 173], ['590377', 130], ['541558', 174], ['541919', 277], ['467480', 171], ['896125', 149], ['630050', 142], ['583951', 267], ['541616', 195], ['429681', 128], ['433703', 195], ['831989', 236], ['957013', 239], ['695448', 339], ['569506', 139], ['458026', 214], ['838558', 339], ['874524', 304], ['876003', 303], ['957354', 261], ['682583', 295], ['673563', 368], ['687213', 239], ['813534', 340], ['838552', 319], ['967032', 322], ['957061', 302], ['1018168', 120], ['690563', 140], ['588787', 192], ['505921', 225], ['523863', 240], ['541227', 276], ['447161', 279], ['458027', 214], ['478103', 152], ['838535', 338], ['597198', 239], ['575922', 224], ['588805', 232], ['597200', 161], ['518263', 306], ['535531', 253], ['755091', 317], ['623023', 120], ['632136', 246], ['588795', 236], ['600768', 319], ['523827', 174], ['524364', 241], ['507969', 288], ['451905', 121], ['957895', 239], ['1007073', 142], ['721022', 286], ['738176', 260], ['755095', 318], ['650511', 341], ['578561', 239], ['595992', 240], ['510946', 184], ['520368', 257], ['447162', 299], ['815366', 337], ['813518', 254], ['682557', 220], ['695132', 219], ['765712', 280], ['624757', 261], ['638854', 160], ['569286', 262], ['569290', 303], ['569580', 205], ['682580', 232], ['688395', 149], ['707530', 253], ['717273', 128], ['762797', 323], ['625499', 318], ['458029', 318], ['940486', 239], ['947275', 327], ['638836', 282], ['632138', 267], ['597196', 239], ['524373', 176], ['521196', 324], ['523083', 276], ['541628', 217], ['883824', 149], ['674338', 244], ['765037', 280], ['559381', 219], ['459396', 185], ['815363', 211], ['707531', 253], ['783138', 305], ['569709', 196], ['520369', 236], ['687145', 154], ['695116', 176], ['705784', 239], ['659564', 348], ['559375', 240], ['523854', 240], ['828139', 298], ['875959', 217], ['885542', 258], ['939666', 239], ['714006', 220], ['622632', 139], ['638852', 160], ['597199', 240], ['433713', 239], ['433731', 301], ['837267', 302], ['695118', 218], ['582606', 149], ['597304', 127], ['524367', 241], ['1041347', 232], ['695155', 280], ['704474', 253], ['715920', 298], ['614943', 287], ['628819', 120], ['569708', 262], ['580317', 151], ['520650', 317], ['520648', 338], ['437969', 197], ['455957', 257], ['953858', 325], ['695789', 319], ['714029', 286], ['782680', 214], ['563820', 246], ['595987', 219], ['429680', 128], ['813525', 298], ['834563', 150], ['925409', 287], ['690559', 281], ['524369', 241], ['523089', 320], ['433729', 197], ['464143', 264], ['894513', 128], ['595995', 240], ['523853', 240], ['523965', 155], ['523090', 320], ['815362', 191], ['813522', 298], ['875965', 260], ['765866', 140], ['563802', 204], ['536919', 242], ['433643', 239], ['458024', 193], ['841387', 287], ['846534', 174], ['874518', 222], ['1018163', 205], ['564389', 226], ['837295', 221], ['876036', 221], ['901361', 258], ['686247', 121], ['755088', 275], ['763963', 307], ['771905', 278], ['783139', 305], ['433728', 197], ['830182', 135], ['875950', 154], ['690500', 196], ['707527', 232], ['616636', 224], ['624755', 322], ['433716', 260], ['435201', 245], ['876963', 349], ['695439', 339], ['582673', 170], ['523820', 301], ['437876', 140], ['616639', 225], ['523865', 240], ['839110', 151], ['957868', 285], ['674339', 183], ['687148', 175], ['717270', 128], ['632979', 135], ['659030', 257], ['533740', 297], ['455955', 236], ['828143', 299], ['913787', 268], ['941975', 142], ['622336', 287], ['582604', 128], ['433712', 219], ['437942', 262], ['458030', 318], ['1033437', 224], ['1033439', 265], ['687214', 260], ['705249', 232], ['622658', 261], ['541236', 193], ['433732', 322], ['437921', 242], ['876009', 139], ['895639', 261], ['671555', 325], ['682586', 337], ['755097', 338], ['783140', 304], ['569199', 239], ['512304', 161], ['536927', 322], ['541921', 319], ['808740', 346], ['830231', 281], ['882862', 257], ['680482', 141], ['687021', 319], ['625489', 299], ['585810', 306], ['523818', 260], ['527171', 232], ['541613', 195], ['1021108', 282], ['687152', 239], ['687211', 239], ['616637', 224], ['654124', 198], ['600750', 340], ['875972', 239], ['687212', 239], ['695437', 339], ['559379', 219], ['818631', 325], ['874572', 260], ['1046439', 288], ['679843', 174], ['559378', 239], ['575935', 287], ['875952', 175], ['686987', 338], ['626852', 183], ['524474', 305], ['536915', 133], ['541926', 341], ['465179', 258], ['838530', 232], ['681357', 288], ['622657', 240], ['533734', 296], ['433722', 260], ['455958', 212], ['828800', 299], ['940480', 260], ['714013', 221], ['783132', 281], ['584353', 283], ['586886', 323], ['507971', 225], ['529921', 211], ['464084', 261], ['813528', 340], ['1041348', 253], ['690555', 260], ['753534', 151], ['631426', 305], ['659032', 279], ['582614', 151], ['523867', 261], ['830215', 240], ['830180', 135], ['838544', 254], ['687799', 246], ['758179', 306], ['625500', 318], ['515615', 197], ['527313', 280], ['901365', 319], ['622627', 260], ['622339', 287], ['521637', 240], ['523838', 217], ['437934', 242], ['437943', 262], ['467479', 150], ['817689', 174], ['827500', 153], ['874522', 304], ['925408', 266], ['687155', 260], ['577276', 204], ['433704', 219], ['435199', 224], ['813533', 320], ['874542', 218], ['1007075', 120], ['682582', 274], ['707523', 256], ['718386', 239], ['423604', 253], ['828797', 215], ['831802', 323], ['985088', 253], ['690556', 260], ['702873', 154], ['714003', 260], ['602753', 153], ['521534', 364], ['521070', 149], ['520645', 338], ['487156', 163], ['695111', 242], ['654125', 240], ['654127', 240], ['521577', 325], ['541870', 162], ['439495', 141], ['455966', 341], ['817688', 155], ['883823', 128], ['957365', 241], ['695799', 236], ['714010', 221], ['625486', 300], ['527170', 212], ['545028', 131], ['541924', 298], ['437878', 264], ['811260', 237], ['714026', 240], ['721023', 287], ['622648', 221], ['588806', 232], ['577271', 246], ['523830', 217], ['1019383', 285], ['718385', 240], ['581273', 235], ['874520', 283], ['874531', 260], ['879971', 158], ['979327', 232], ['625494', 320], ['1019189', 260], ['686985', 233], ['674340', 183], ['695787', 278], ['686249', 142], ['616635', 204], ['654031', 283], ['583950', 246], ['520647', 338], ['838537', 232], ['957361', 242], ['695121', 180], ['755099', 359], ['783135', 261], ['638817', 198], ['639127', 242], ['654126', 240], ['659026', 194], ['597623', 130], ['539806', 319], ['541242', 337], ['895648', 136], ['909366', 175], ['753766', 157], ['753770', 139], ['769150', 326], ['614945', 308], ['658574', 240], ['523833', 217], ['541916', 191], ['471727', 261], ['819537', 149], ['841285', 211], ['872986', 346], ['874533', 260], ['875991', 282], ['681358', 267], ['659027', 215], ['582613', 150], ['442078', 129], ['466282', 232], ['763949', 246], ['758176', 326], ['530225', 154], ['467476', 150], ['812434', 128], ['831990', 300], ['957366', 200], ['695135', 238], ['755090', 317], ['625485', 279], ['523088', 319], ['957060', 302], ['702850', 221], ['638819', 175], ['600760', 341], ['437888', 242], ['833778', 196], ['895658', 136], ['939662', 201], ['1033438', 245], ['682577', 232], ['687218', 304], ['690473', 176], ['742902', 337], ['625503', 341], ['524064', 198], ['815365', 317], ['838531', 338], ['957018', 364], ['957051', 199], ['964963', 344], ['673562', 326], ['704475', 317], ['755084', 212], ['559380', 239], ['597986', 323], ['939663', 200], ['957828', 286], ['762405', 180], ['777033', 285], ['764039', 265], ['764050', 288], ['622641', 241], ['569201', 239], ['569538', 241], ['588461', 234], ['505784', 288], ['536918', 198], ['433709', 219], ['830233', 344], ['874526', 239], ['690596', 281], ['722289', 301], ['659029', 257], ['433727', 260], ['478102', 131], ['957356', 261], ['681356', 267], ['631437', 241], ['597278', 240], ['489419', 204], ['541239', 173], ['541922', 319], ['433630', 198], ['812437', 170], ['837292', 264], ['681469', 253], ['715923', 192], ['764047', 225], ['639802', 136], ['569291', 303], ['595993', 220], ['517391', 346], ['541868', 141], ['465378', 149], ['813520', 275], ['813531', 320], ['1041349', 254], ['682584', 295], ['687802', 246], ['727856', 296], ['568306', 233], ['605520', 287], ['510961', 163], ['507970', 225], ['813535', 340], ['921295', 149], ['671556', 347], ['695113', 195], ['778603', 131], ['624760', 261], ['658195', 348], ['569507', 159], ['586887', 345], ['605523', 288], ['524070', 283], ['541618', 241], ['833779', 180], ['834554', 152], ['642244', 100], ['566992', 184], ['500536', 260], ['546630', 201], ['433734', 322], ['940479', 260], ['1017401', 339], ['686023', 368], ['702855', 323], ['726158', 301], ['763962', 307], ['638816', 135], ['628821', 162], ['1033435', 204], ['755079', 337], ['626896', 133], ['622362', 307], ['567088', 184], ['585809', 306], ['598028', 174], ['520653', 212], ['433694', 136], ['967033', 322], ['957369', 221], ['687150', 197], ['695154', 280], ['541237', 255], ['435191', 224], ['435195', 288], ['465376', 149], ['874541', 239], ['921293', 129], ['681363', 266], ['584394', 241], ['500534', 218], ['695438', 339], ['726160', 222], ['753761', 260], ['578468', 121], ['595976', 219], ['464063', 195], ['465375', 128], ['818179', 344], ['841286', 211], ['837276', 240], ['956875', 261], ['687144', 154], ['717268', 170], ['584382', 195], ['524360', 198], ['437931', 242], ['726161', 196], ['765554', 280], ['625498', 318], ['658190', 348], ['564390', 246], ['507964', 287], ['957351', 282], ['690558', 260], ['702534', 140], ['742899', 212], ['625488', 299], ['597982', 323], ['638839', 281], ['578560', 218], ['538887', 288], ['433723', 260], ['805929', 142], ['802625', 182], ['830218', 264], ['956878', 261], ['1018165', 121], ['679844', 175], ['578558', 217], ['584392', 219], ['939667', 260], ['695436', 339], ['639137', 261], ['559376', 219], ['482682', 341], ['957014', 260], ['695108', 305], ['435192', 266], ['464088', 261], ['831809', 216], ['874532', 260], ['686986', 296], ['716583', 170], ['622651', 322], ['564392', 288], ['818078', 287], ['838536', 337], ['957034', 199], ['707521', 275], ['586888', 345], ['533731', 276], ['541614', 195], ['847103', 308], ['1040757', 151], ['625506', 340], ['632981', 136], ['433697', 136], ['437886', 139], ['450914', 128], ['806026', 141], ['880633', 142], ['682570', 298], ['717272', 128], ['755086', 276], ['631443', 305], ['638827', 261], ['563801', 204], ['578549', 218], ['580369', 239], ['533732', 232], ['433878', 322], ['841289', 191], ['964962', 343], ['1048891', 338], ['714011', 220], ['771833', 300], ['622634', 199], ['632134', 245], ['524056', 155], ['524060', 219], ['704478', 299], ['824459', 345], ['1046444', 287], ['704479', 319], ['763948', 225], ['625490', 279], ['661239', 219], ['523969', 240], ['455964', 319], ['828140', 298], ['687156', 239], ['681359', 288], ['705250', 340], ['741185', 324], ['765036', 280], ['595399', 276], ['524074', 261], ['536926', 322], ['423605', 255], ['848838', 157], ['882861', 279], ['882602', 303], ['895635', 240], ['702537', 140], ['755082', 191], ['638830', 238], ['650510', 341], ['569246', 262], ['831801', 323], ['753768', 139], ['559373', 219], ['581504', 255], ['837296', 242], ['1046437', 288], ['695156', 280], ['714012', 221], ['622638', 220], ['455965', 319], ['466283', 232], ['837293', 180], ['895638', 240], ['1018167', 141], ['1020014', 134], ['524145', 128], ['433711', 219], ['455960', 255], ['901363', 278], ['682579', 232], ['715922', 320], ['764707', 175], ['575934', 286], ['524144', 128], ['455959', 212], ['802629', 287], ['957048', 220], ['1003986', 305], ['690498', 196], ['695120', 220], ['623026', 141], ['569715', 262], ['721021', 287], ['569710', 262], ['600766', 214], ['523819', 218], ['433724', 260], ['437887', 158], ['435210', 225], ['465248', 237], ['805926', 183], ['838555', 340], ['884290', 141], ['921294', 149], ['964965', 343], ['1041351', 254], ['755085', 213], ['584384', 281], ['437967', 197], ['818102', 245], ['957054', 261], ['681354', 267], ['569244', 241], ['538888', 287], ['813536', 339], ['874545', 238], ['1048893', 213], ['715924', 193], ['559371', 135], ['464159', 135], ['749029', 141], ['756456', 140], ['437973', 197], ['812436', 129], ['828142', 298], ['957067', 261], ['718387', 239], ['625493', 298], ['569240', 220], ['524057', 240], ['541914', 192], ['895581', 213], ['940487', 239], ['753510', 170], ['626853', 184], ['569536', 242], ['588783', 170], ['523887', 261], ['433718', 260], ['880966', 253], ['967034', 319], ['1015266', 160], ['682587', 337], ['687217', 260], ['625502', 340], ['654123', 136], ['523085', 276], ['830230', 174], ['875967', 239], ['771841', 257], ['575936', 287], ['521532', 261], ['541238', 255], ['437966', 197], ['437978', 217], ['455963', 319], ['874544', 239], ['1048892', 212], ['684679', 262], ['588807', 253], ['605519', 246], ['521635', 261], ['527167', 212], ['895670', 136], ['940478', 260], ['957064', 199], ['704480', 319], ['714027', 265], ['699020', 286], ['658191', 348], ['510960', 142], ['535532', 253], ['523091', 341], ['541593', 197], ['433721', 260], ['664333', 139], ['539149', 287], ['435198', 307], ['435200', 224], ['437945', 262], ['749024', 142], ['783141', 305], ['564391', 225], ['581518', 362], ['590772', 345], ['527168', 212], ['433706', 219], ['819539', 170], ['914664', 298], ['939664', 200], ['1041344', 253], ['622340', 267], ['569711', 196], ['584351', 305], ['597989', 323], ['520649', 317], ['458028', 214], ['1015261', 200], ['687151', 218], ['765713', 280], ['521557', 160], ['524063', 261], ['435194', 245], ['687215', 239], ['690497', 217], ['681352', 246], ['714019', 242], ['742111', 142], ['622642', 221], ['523872', 240], ['524363', 305], ['524374', 156], ['437936', 263], ['467477', 150], ['954927', 349], ['717267', 148], ['595398', 276], ['600764', 236], ['609748', 141], ['830214', 240], ['681355', 267], ['505917', 246], ['695798', 236], ['771831', 279], ['541629', 217], ['541241', 295], ['546629', 181], ['831991', 254], ['957352', 261], ['682572', 317], ['682576', 340], ['702830', 221], ['658192', 327], ['575923', 244], ['590767', 345], ['524061', 261], ['541923', 298], ['429683', 170], ['841288', 172], ['851088', 341], ['895554', 276], ['957022', 261], ['957059', 199], ['1035687', 142], ['708270', 173], ['777034', 286], ['639782', 239], ['658595', 281], ['559374', 239], ['590768', 345], ['447160', 299], ['964964', 323], ['690587', 281], ['690566', 157], ['695109', 344], ['753764', 199], ['762407', 241], ['625501', 340], ['812433', 128], ['813524', 298], ['957009', 343], ['714021', 221], ['753763', 219], ['614944', 308], ['569531', 242], ['588811', 295], ['585724', 221], ['590764', 344], ['521578', 240], ['541925', 298], ['697017', 133], ['505785', 288], ['433726', 260], ['439196', 151], ['901367', 340], ['679841', 196], ['764038', 267], ['562021', 328], ['588784', 191], ['600765', 214], ['541624', 196], ['433691', 258], ['875975', 239], ['715917', 191], ['715913', 253], ['753765', 240], ['597277', 195], ['433668', 260], ['874515', 237], ['695115', 195], ['764737', 140], ['586890', 345], ['813526', 298], ['838557', 339], ['838311', 150], ['895645', 157], ['681468', 232], ['702902', 175], ['755080', 275], ['589811', 215], ['533748', 298], ['815361', 190], ['831988', 258], ['838542', 295], ['957897', 239], ['753767', 177], ['588810', 274], ['541229', 318], ['940488', 218], ['957007', 322], ['1016205', 180], ['597305', 149], ['586889', 346], ['500533', 218], ['505920', 225], ['442124', 127], ['686022', 326], ['706482', 346], ['755094', 318], ['765723', 280], ['777031', 263], ['588789', 253], ['433702', 195], ['447163', 320], ['439494', 120], ['437975', 217], ['442075', 151], ['802626', 246], ['939665', 221], ['957015', 260], ['979325', 232], ['690561', 281], ['695440', 360], ['687801', 246], ['742901', 212], ['751107', 161], ['777035', 301], ['505918', 225], ['523849', 240], ['523806', 204], ['533730', 233], ['837294', 221], ['1015597', 340], ['1015270', 223], ['705783', 281], ['624020', 347], ['638840', 259], ['690508', 197], ['695788', 279], ['622625', 260], ['521643', 261], ['524370', 241], ['695797', 171], ['631436', 199], ['624075', 225], ['569200', 239], ['578562', 260], ['523851', 240], ['1041343', 253], ['745628', 345], ['764046', 246], ['625487', 299], ['588870', 339], ['521551', 304], ['838556', 340], ['687146', 154], ['559372', 218], ['875964', 239], ['600759', 195], ['546631', 202], ['687153', 218], ['695147', 259], ['763947', 225], ['632983', 241], ['523828', 217], ['541627', 217], ['538886', 267], ['815364', 211], ['682578', 232], ['685061', 120], ['622626', 260], ['638837', 259], ['541918', 277], ['437877', 161], ['459215', 327], ['805925', 185], ['838559', 319], ['874539', 176], ['702492', 222], ['654114', 136], ['598017', 174], ['507966', 287], ['529494', 319], ['437944', 262]]\n"
     ]
    }
   ],
   "source": [
    "matched = []\n",
    "\n",
    "def getNearest(points,cells):\n",
    "  for p in points:\n",
    "    lst = [p[0],float(p[1]),float(p[2])]\n",
    "    nearest = ('',999999.1)\n",
    "    for c in cells:\n",
    "      a = np.array((lst[1], lst[2]))\n",
    "      b = np.array((c[1], c[2]))\n",
    "      distance = np.linalg.norm(a-b)\n",
    "      if distance < nearest[1]:\n",
    "        nearest = (c[0],distance)\n",
    "    matched.append([p[0],nearest[0]])\n",
    "\n",
    "getNearest(pointList,cells)\n",
    "print(matched)"
   ]
  },
  {
   "cell_type": "markdown",
   "metadata": {
    "id": "ZOeqhzNrxqMv"
   },
   "source": [
    "Join matched cells back into target list"
   ]
  },
  {
   "cell_type": "code",
   "execution_count": 30,
   "metadata": {
    "colab": {
     "base_uri": "https://localhost:8080/"
    },
    "executionInfo": {
     "elapsed": 183,
     "status": "ok",
     "timestamp": 1700194879988,
     "user": {
      "displayName": "Bobbie Cavna",
      "userId": "02710482313698222145"
     },
     "user_tz": 300
    },
    "id": "2sOzO6APx0U3",
    "outputId": "a7a83596-7990-4d9d-dfe7-efa3e6da64fb"
   },
   "outputs": [
    {
     "data": {
      "text/plain": [
       "[['830232', 344],\n",
       " ['838532', 337],\n",
       " ['838553', 339],\n",
       " ['1021415', 149],\n",
       " ['682585', 337]]"
      ]
     },
     "execution_count": 30,
     "metadata": {},
     "output_type": "execute_result"
    }
   ],
   "source": [
    "matchedR = sc.parallelize(matched)\n",
    "matchedR.take(5)"
   ]
  },
  {
   "cell_type": "code",
   "execution_count": 31,
   "metadata": {
    "colab": {
     "base_uri": "https://localhost:8080/"
    },
    "executionInfo": {
     "elapsed": 135,
     "status": "ok",
     "timestamp": 1700194880121,
     "user": {
      "displayName": "Bobbie Cavna",
      "userId": "02710482313698222145"
     },
     "user_tz": 300
    },
    "id": "dVIp3q6Cyl9Y",
    "outputId": "cc1f0927-90bc-4e71-bbb1-9c51211333c5"
   },
   "outputs": [
    {
     "data": {
      "text/plain": [
       "[Row(event_id='830232', cell=344),\n",
       " Row(event_id='838532', cell=337),\n",
       " Row(event_id='838553', cell=339),\n",
       " Row(event_id='1021415', cell=149),\n",
       " Row(event_id='682585', cell=337)]"
      ]
     },
     "execution_count": 31,
     "metadata": {},
     "output_type": "execute_result"
    }
   ],
   "source": [
    "labeledR = matchedR.map(lambda p: Row(event_id=p[0],cell=p[1]))\n",
    "labeledR.take(5)"
   ]
  },
  {
   "cell_type": "code",
   "execution_count": 32,
   "metadata": {
    "colab": {
     "base_uri": "https://localhost:8080/"
    },
    "executionInfo": {
     "elapsed": 317,
     "status": "ok",
     "timestamp": 1700194880436,
     "user": {
      "displayName": "Bobbie Cavna",
      "userId": "02710482313698222145"
     },
     "user_tz": 300
    },
    "id": "3ZMxmF3wy_4Y",
    "outputId": "41a2209f-f14b-44e9-d148-98642cbc00ff"
   },
   "outputs": [
    {
     "name": "stdout",
     "output_type": "stream",
     "text": [
      "+--------+----+\n",
      "|event_id|cell|\n",
      "+--------+----+\n",
      "|  830232| 344|\n",
      "|  838532| 337|\n",
      "|  838553| 339|\n",
      "| 1021415| 149|\n",
      "|  682585| 337|\n",
      "+--------+----+\n",
      "only showing top 5 rows\n",
      "\n"
     ]
    }
   ],
   "source": [
    "labeledDF = spark.createDataFrame(labeledR)\n",
    "labeledDF.createOrReplaceTempView(\"cells\")\n",
    "labeledDF.show(5)"
   ]
  },
  {
   "cell_type": "code",
   "execution_count": 33,
   "metadata": {
    "colab": {
     "base_uri": "https://localhost:8080/"
    },
    "executionInfo": {
     "elapsed": 1173,
     "status": "ok",
     "timestamp": 1700194881606,
     "user": {
      "displayName": "Bobbie Cavna",
      "userId": "02710482313698222145"
     },
     "user_tz": 300
    },
    "id": "oUbA4dISzbcp",
    "outputId": "452bf0d0-c022-4e5b-8d88-2c74e5a81e0f"
   },
   "outputs": [
    {
     "name": "stdout",
     "output_type": "stream",
     "text": [
      "+----+----+-----+---+\n",
      "|cell|YEAR|MONTH|DAY|\n",
      "+----+----+-----+---+\n",
      "| 276|2014|    7| 26|\n",
      "| 337|2019|    3| 14|\n",
      "| 170|2020|    4|  8|\n",
      "| 246|2015|   12| 23|\n",
      "| 195|2013|    4| 10|\n",
      "| 141|2017|    3|  1|\n",
      "| 240|2017|    7|  7|\n",
      "| 138|2016|   10| 19|\n",
      "| 159|2022|    5| 19|\n",
      "| 267|2019|    3| 14|\n",
      "+----+----+-----+---+\n",
      "only showing top 10 rows\n",
      "\n"
     ]
    }
   ],
   "source": [
    "targetCells = spark.sql(\"SELECT Distinct b.cell, a.YEAR, a.MONTH, a.DAY FROM targets a LEFT JOIN cells b ON a.EVENT_ID = b.event_id \")\n",
    "targetCells.createOrReplaceTempView(\"targetCells\")\n",
    "targetCells.show(10)"
   ]
  },
  {
   "cell_type": "code",
   "execution_count": 34,
   "metadata": {
    "executionInfo": {
     "elapsed": 764,
     "status": "ok",
     "timestamp": 1700194882366,
     "user": {
      "displayName": "Bobbie Cavna",
      "userId": "02710482313698222145"
     },
     "user_tz": 300
    },
    "id": "OulwOT3-oTA4"
   },
   "outputs": [],
   "source": [
    "targetCellsPD = targetCells.toPandas()"
   ]
  },
  {
   "cell_type": "code",
   "execution_count": 35,
   "metadata": {
    "executionInfo": {
     "elapsed": 365,
     "status": "ok",
     "timestamp": 1700194882728,
     "user": {
      "displayName": "Bobbie Cavna",
      "userId": "02710482313698222145"
     },
     "user_tz": 300
    },
    "id": "AUEJsph3ovBp"
   },
   "outputs": [],
   "source": [
    "targetCellsPD.to_csv(outPath)"
   ]
  }
 ],
 "metadata": {
  "colab": {
   "authorship_tag": "ABX9TyOhbQt9+v2Oi7jaiO0ck2J6",
   "machine_shape": "hm",
   "provenance": []
  },
  "kernelspec": {
   "display_name": "Python 3",
   "name": "python3"
  },
  "language_info": {
   "name": "python"
  }
 },
 "nbformat": 4,
 "nbformat_minor": 0
}
