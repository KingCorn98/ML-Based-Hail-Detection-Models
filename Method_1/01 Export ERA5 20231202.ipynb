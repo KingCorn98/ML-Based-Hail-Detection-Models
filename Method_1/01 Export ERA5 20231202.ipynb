{
 "cells": [
  {
   "cell_type": "markdown",
   "metadata": {
    "id": "FnZ0-7czjZpy"
   },
   "source": [
    "#Preliminaries"
   ]
  },
  {
   "cell_type": "code",
   "execution_count": 1,
   "metadata": {
    "colab": {
     "base_uri": "https://localhost:8080/"
    },
    "executionInfo": {
     "elapsed": 7848,
     "status": "ok",
     "timestamp": 1701584474764,
     "user": {
      "displayName": "Moya Cavna",
      "userId": "05300630402048428782"
     },
     "user_tz": 300
    },
    "id": "MBsYXHnvjNYZ",
    "outputId": "be14728a-8ce5-404d-a774-5530e7509894"
   },
   "outputs": [
    {
     "name": "stdout",
     "output_type": "stream",
     "text": [
      "Looking in indexes: https://pypi.org/simple, https://pypi.ngc.nvidia.com\n",
      "Requirement already satisfied: netCDF4 in /home/bcavna/.local/lib/python3.8/site-packages (1.6.5)\n",
      "Requirement already satisfied: certifi in /usr/lib/python3/dist-packages (from netCDF4) (2019.11.28)\n",
      "Requirement already satisfied: cftime in /home/bcavna/.local/lib/python3.8/site-packages (from netCDF4) (1.6.3)\n",
      "Requirement already satisfied: numpy in /home/bcavna/.local/lib/python3.8/site-packages (from netCDF4) (1.24.3)\n"
     ]
    }
   ],
   "source": [
    "!pip install netCDF4"
   ]
  },
  {
   "cell_type": "code",
   "execution_count": 3,
   "metadata": {},
   "outputs": [
    {
     "name": "stdout",
     "output_type": "stream",
     "text": [
      "Looking in indexes: https://pypi.org/simple, https://pypi.ngc.nvidia.com\n",
      "/usr/share/python-wheels/urllib3-1.25.8-py2.py3-none-any.whl/urllib3/connectionpool.py:1004: InsecureRequestWarning: Unverified HTTPS request is being made to host 'pypi.ngc.nvidia.com'. Adding certificate verification is strongly advised. See: https://urllib3.readthedocs.io/en/latest/advanced-usage.html#ssl-warnings\n",
      "Collecting pyproj\n",
      "  Downloading pyproj-3.5.0-cp38-cp38-manylinux_2_17_x86_64.manylinux2014_x86_64.whl (7.8 MB)\n",
      "\u001b[K     |████████████████████████████████| 7.8 MB 1.3 MB/s eta 0:00:01\n",
      "\u001b[?25hRequirement already satisfied: certifi in /usr/lib/python3/dist-packages (from pyproj) (2019.11.28)\n",
      "Installing collected packages: pyproj\n",
      "\u001b[33m  WARNING: The script pyproj is installed in '/home/bcavna/.local/bin' which is not on PATH.\n",
      "  Consider adding this directory to PATH or, if you prefer to suppress this warning, use --no-warn-script-location.\u001b[0m\n",
      "Successfully installed pyproj-3.5.0\n",
      "Note: you may need to restart the kernel to use updated packages.\n"
     ]
    }
   ],
   "source": [
    "pip install pyproj"
   ]
  },
  {
   "cell_type": "code",
   "execution_count": 4,
   "metadata": {
    "executionInfo": {
     "elapsed": 1102,
     "status": "ok",
     "timestamp": 1701584522591,
     "user": {
      "displayName": "Moya Cavna",
      "userId": "05300630402048428782"
     },
     "user_tz": 300
    },
    "id": "4Qwu6Rg5j95r"
   },
   "outputs": [],
   "source": [
    "import os, sys\n",
    "import pyproj\n",
    "from pyproj import Proj\n",
    "from netCDF4 import Dataset\n",
    "from datetime import datetime, timedelta\n",
    "import pandas as pd\n",
    "import numpy as np\n",
    "import xarray as xr"
   ]
  },
  {
   "cell_type": "code",
   "execution_count": 5,
   "metadata": {
    "colab": {
     "base_uri": "https://localhost:8080/"
    },
    "executionInfo": {
     "elapsed": 1146,
     "status": "ok",
     "timestamp": 1701584525853,
     "user": {
      "displayName": "Moya Cavna",
      "userId": "05300630402048428782"
     },
     "user_tz": 300
    },
    "id": "WtrsOXFXkCla",
    "outputId": "0c7a2e86-7c3a-4ec4-c194-45d3e5a1c844"
   },
   "outputs": [],
   "source": [
    "#from google.colab import drive\n",
    "#drive.mount('/content/drive')"
   ]
  },
  {
   "cell_type": "code",
   "execution_count": 6,
   "metadata": {
    "executionInfo": {
     "elapsed": 232,
     "status": "ok",
     "timestamp": 1701584528662,
     "user": {
      "displayName": "Moya Cavna",
      "userId": "05300630402048428782"
     },
     "user_tz": 300
    },
    "id": "Hi1EzzLRt1Hi"
   },
   "outputs": [],
   "source": [
    "NcDir = '/home/bcavna/Documents/ERA5/ERA5_VV_RH_2021/'"
   ]
  },
  {
   "cell_type": "code",
   "execution_count": 7,
   "metadata": {
    "executionInfo": {
     "elapsed": 251,
     "status": "ok",
     "timestamp": 1701584529919,
     "user": {
      "displayName": "Moya Cavna",
      "userId": "05300630402048428782"
     },
     "user_tz": 300
    },
    "id": "7rojJLCJvBBB"
   },
   "outputs": [],
   "source": [
    "CsvDir =  '/home/bcavna/Documents/ERA5/ERA5_VV_RH_2021/'"
   ]
  },
  {
   "cell_type": "markdown",
   "metadata": {
    "id": "Cz99xNmqkGUT"
   },
   "source": [
    "Loop through NC files and export data to csv."
   ]
  },
  {
   "cell_type": "code",
   "execution_count": 9,
   "metadata": {
    "colab": {
     "base_uri": "https://localhost:8080/"
    },
    "executionInfo": {
     "elapsed": 8877420,
     "status": "ok",
     "timestamp": 1701594807517,
     "user": {
      "displayName": "Moya Cavna",
      "userId": "05300630402048428782"
     },
     "user_tz": 300
    },
    "id": "ZjQqb-IAkudi",
    "outputId": "4a6c1d78-71b5-4ae7-e941-cc9de0a03a68"
   },
   "outputs": [
    {
     "name": "stdout",
     "output_type": "stream",
     "text": [
      "loading file: /home/bcavna/Documents/ERA5/ERA5_VV_RH_2021/ERA5_VV_RH_202101.nc\n",
      "saving file to: /home/bcavna/Documents/ERA5/ERA5_VV_RH_2021/ERA5_VV_RH_202101.csv\n",
      "loading file: /home/bcavna/Documents/ERA5/ERA5_VV_RH_2021/ERA5_VV_RH_202102.nc\n",
      "saving file to: /home/bcavna/Documents/ERA5/ERA5_VV_RH_2021/ERA5_VV_RH_202102.csv\n",
      "loading file: /home/bcavna/Documents/ERA5/ERA5_VV_RH_2021/ERA5_VV_RH_202103.nc\n",
      "saving file to: /home/bcavna/Documents/ERA5/ERA5_VV_RH_2021/ERA5_VV_RH_202103.csv\n",
      "loading file: /home/bcavna/Documents/ERA5/ERA5_VV_RH_2021/ERA5_VV_RH_202104.nc\n",
      "saving file to: /home/bcavna/Documents/ERA5/ERA5_VV_RH_2021/ERA5_VV_RH_202104.csv\n",
      "loading file: /home/bcavna/Documents/ERA5/ERA5_VV_RH_2021/ERA5_VV_RH_202105.nc\n",
      "saving file to: /home/bcavna/Documents/ERA5/ERA5_VV_RH_2021/ERA5_VV_RH_202105.csv\n",
      "loading file: /home/bcavna/Documents/ERA5/ERA5_VV_RH_2021/ERA5_VV_RH_202106.nc\n",
      "saving file to: /home/bcavna/Documents/ERA5/ERA5_VV_RH_2021/ERA5_VV_RH_202106.csv\n",
      "loading file: /home/bcavna/Documents/ERA5/ERA5_VV_RH_2021/ERA5_VV_RH_202107.nc\n",
      "saving file to: /home/bcavna/Documents/ERA5/ERA5_VV_RH_2021/ERA5_VV_RH_202107.csv\n",
      "loading file: /home/bcavna/Documents/ERA5/ERA5_VV_RH_2021/ERA5_VV_RH_202108.nc\n",
      "saving file to: /home/bcavna/Documents/ERA5/ERA5_VV_RH_2021/ERA5_VV_RH_202108.csv\n",
      "loading file: /home/bcavna/Documents/ERA5/ERA5_VV_RH_2021/ERA5_VV_RH_202109.nc\n",
      "saving file to: /home/bcavna/Documents/ERA5/ERA5_VV_RH_2021/ERA5_VV_RH_202109.csv\n",
      "loading file: /home/bcavna/Documents/ERA5/ERA5_VV_RH_2021/ERA5_VV_RH_202110.nc\n",
      "saving file to: /home/bcavna/Documents/ERA5/ERA5_VV_RH_2021/ERA5_VV_RH_202110.csv\n",
      "loading file: /home/bcavna/Documents/ERA5/ERA5_VV_RH_2021/ERA5_VV_RH_202111.nc\n",
      "saving file to: /home/bcavna/Documents/ERA5/ERA5_VV_RH_2021/ERA5_VV_RH_202111.csv\n",
      "loading file: /home/bcavna/Documents/ERA5/ERA5_VV_RH_2021/ERA5_VV_RH_202112.nc\n",
      "saving file to: /home/bcavna/Documents/ERA5/ERA5_VV_RH_2021/ERA5_VV_RH_202112.csv\n"
     ]
    }
   ],
   "source": [
    "#mos = [1]\n",
    "#yrs = [2019]\n",
    "\n",
    "mos = [1,2,3,4,5,6,7,8,9,10,11,12]\n",
    "yrs = [2021]\n",
    "\n",
    "def getCsvs(years, months):\n",
    "  for y in years:\n",
    "    for month in months:\n",
    "      m = month\n",
    "      yearmo = y * 100 + m\n",
    "      input_mthly = NcDir + 'ERA5_VV_RH_' + str(yearmo) + '.nc'\n",
    "      print(\"loading file:\",input_mthly)\n",
    "\n",
    "      #open nc file in xarray and convert to a pandas dataframe\n",
    "      xdat = xr.open_dataset(input_mthly)\n",
    "\n",
    "      # t = temperature in kelvin, u and v are east/west wind vectors, r is relative humidity, and w is verticle velocity of the wind\n",
    "      df = xdat[['w','r']].to_dataframe()\n",
    "\n",
    "      #review the data\n",
    "      #print(df)\n",
    "\n",
    "      output_mthly = CsvDir + 'ERA5_VV_RH_' + str(yearmo) + '.csv'\n",
    "      print(\"saving file to:\",output_mthly)\n",
    "\n",
    "      df.to_csv(output_mthly)\n",
    "\n",
    "getCsvs(yrs, mos)"
   ]
  },
  {
   "cell_type": "code",
   "execution_count": null,
   "metadata": {},
   "outputs": [],
   "source": []
  }
 ],
 "metadata": {
  "colab": {
   "authorship_tag": "ABX9TyPOYhN8mVwWlbrqJ3AwlkK+",
   "provenance": []
  },
  "kernelspec": {
   "display_name": "Python 3 (ipykernel)",
   "language": "python",
   "name": "python3"
  },
  "language_info": {
   "codemirror_mode": {
    "name": "ipython",
    "version": 3
   },
   "file_extension": ".py",
   "mimetype": "text/x-python",
   "name": "python",
   "nbconvert_exporter": "python",
   "pygments_lexer": "ipython3",
   "version": "3.8.10"
  }
 },
 "nbformat": 4,
 "nbformat_minor": 4
}
